{
 "cells": [
  {
   "cell_type": "code",
   "execution_count": 34,
   "id": "9cf67434",
   "metadata": {},
   "outputs": [],
   "source": [
    "import selenium \n",
    "from selenium import webdriver\n",
    "import pandas as pd\n",
    "import warnings\n",
    "warnings.filterwarnings('ignore')"
   ]
  },
  {
   "cell_type": "code",
   "execution_count": 35,
   "id": "6d6640e9",
   "metadata": {},
   "outputs": [],
   "source": [
    "#first connect to web driver\n",
    "driver = webdriver.Chrome(r\"C:\\Users\\JITENDER\\Desktop\\Data Science\\Datatraind project\\chromedriver_win32\\chromedriver.exe\")"
   ]
  },
  {
   "cell_type": "markdown",
   "id": "2e3a32ed",
   "metadata": {},
   "source": [
    "# A1. Scrape data for “Data Analyst” Job position in “Bangalore” location\n"
   ]
  },
  {
   "cell_type": "code",
   "execution_count": 3,
   "id": "02ef2d23",
   "metadata": {},
   "outputs": [],
   "source": [
    "#get URL\n",
    "url = 'https://www.naukri.com/'\n",
    "driver.get(url)"
   ]
  },
  {
   "cell_type": "code",
   "execution_count": 4,
   "id": "a8ae6a06",
   "metadata": {},
   "outputs": [
    {
     "data": {
      "text/plain": [
       "<selenium.webdriver.remote.webelement.WebElement (session=\"a8bd597634e843f4950ce953ad7b0165\", element=\"f0fe1032-49e8-4893-92c7-ccec64c3df88\")>"
      ]
     },
     "execution_count": 4,
     "metadata": {},
     "output_type": "execute_result"
    }
   ],
   "source": [
    "#finding web elements for search job bar by used of class name\n",
    "Search_job = driver.find_element_by_class_name(\"suggestor-input \")\n",
    "Search_job"
   ]
  },
  {
   "cell_type": "code",
   "execution_count": 5,
   "id": "27ee85a0",
   "metadata": {},
   "outputs": [],
   "source": [
    "Search_job.send_keys(\"Data Analyst\")\n"
   ]
  },
  {
   "cell_type": "code",
   "execution_count": 6,
   "id": "5b127581",
   "metadata": {},
   "outputs": [],
   "source": [
    "#finding web elements for search job bar by used of Xpath\n",
    "search_loc = driver.find_element_by_xpath('/html/body/div/div[2]/div[3]/div/div/div[3]/div/div/div/input')"
   ]
  },
  {
   "cell_type": "code",
   "execution_count": 7,
   "id": "55acfcb1",
   "metadata": {},
   "outputs": [
    {
     "data": {
      "text/plain": [
       "<selenium.webdriver.remote.webelement.WebElement (session=\"a8bd597634e843f4950ce953ad7b0165\", element=\"6dfdd64e-0938-4c45-9b7b-1fcada2ddfb4\")>"
      ]
     },
     "execution_count": 7,
     "metadata": {},
     "output_type": "execute_result"
    }
   ],
   "source": [
    "search_loc"
   ]
  },
  {
   "cell_type": "code",
   "execution_count": 8,
   "id": "38401f98",
   "metadata": {},
   "outputs": [],
   "source": [
    "search_loc.send_keys(\"Bangalore\")"
   ]
  },
  {
   "cell_type": "code",
   "execution_count": 9,
   "id": "51585bce",
   "metadata": {},
   "outputs": [
    {
     "data": {
      "text/plain": [
       "<selenium.webdriver.remote.webelement.WebElement (session=\"a8bd597634e843f4950ce953ad7b0165\", element=\"ab78e6b2-9c88-447b-bbfc-994b85a4fc69\")>"
      ]
     },
     "execution_count": 9,
     "metadata": {},
     "output_type": "execute_result"
    }
   ],
   "source": [
    "search_btn = driver.find_element_by_xpath('/html/body/div/div[2]/div[3]/div/div/div[6]')\n",
    "search_btn"
   ]
  },
  {
   "cell_type": "code",
   "execution_count": 10,
   "id": "642f12e3",
   "metadata": {},
   "outputs": [],
   "source": [
    "search_btn.click()"
   ]
  },
  {
   "cell_type": "code",
   "execution_count": 11,
   "id": "a756026b",
   "metadata": {},
   "outputs": [
    {
     "data": {
      "text/plain": [
       "20"
      ]
     },
     "execution_count": 11,
     "metadata": {},
     "output_type": "execute_result"
    }
   ],
   "source": [
    "job=driver.find_elements_by_xpath('//a[@class=\"title fw500 ellipsis\"]')\n",
    "len(job)"
   ]
  },
  {
   "cell_type": "code",
   "execution_count": 12,
   "id": "e4d54e8f",
   "metadata": {},
   "outputs": [
    {
     "data": {
      "text/plain": [
       "20"
      ]
     },
     "execution_count": 12,
     "metadata": {},
     "output_type": "execute_result"
    }
   ],
   "source": [
    "loc= driver.find_elements_by_xpath('//li[@class=\"fleft grey-text br2 placeHolderLi location\"]')\n",
    "len(loc)"
   ]
  },
  {
   "cell_type": "code",
   "execution_count": 13,
   "id": "47feda2c",
   "metadata": {},
   "outputs": [
    {
     "data": {
      "text/plain": [
       "20"
      ]
     },
     "execution_count": 13,
     "metadata": {},
     "output_type": "execute_result"
    }
   ],
   "source": [
    "comp=driver.find_elements_by_xpath('//a[@class=\"subTitle ellipsis fleft\"]')\n",
    "len(comp)"
   ]
  },
  {
   "cell_type": "code",
   "execution_count": 14,
   "id": "964e4c42",
   "metadata": {},
   "outputs": [
    {
     "data": {
      "text/plain": [
       "20"
      ]
     },
     "execution_count": 14,
     "metadata": {},
     "output_type": "execute_result"
    }
   ],
   "source": [
    "exp= driver.find_elements_by_xpath('//*[contains(@title,\"Yrs\")]')\n",
    "len(exp)"
   ]
  },
  {
   "cell_type": "code",
   "execution_count": 15,
   "id": "a87257a1",
   "metadata": {},
   "outputs": [
    {
     "data": {
      "text/plain": [
       "(20, 20, 20)"
      ]
     },
     "execution_count": 15,
     "metadata": {},
     "output_type": "execute_result"
    }
   ],
   "source": [
    "#lets create list\n",
    "\n",
    "job_title = []\n",
    "for i in job:\n",
    "    job_title.append(i.text)\n",
    "len(job_title)\n",
    "\n",
    "\n",
    "job_loc = []\n",
    "for i in loc:\n",
    "    job_loc.append(i.text)\n",
    "\n",
    "comp_name =[]\n",
    "for i in comp:\n",
    "    comp_name.append(i.text)\n",
    "    \n",
    "exp_req = []\n",
    "for i in exp:\n",
    "    exp_req.append(i.text)\n",
    "len(job_loc),len(comp_name),len(exp_req)\n",
    "    "
   ]
  },
  {
   "cell_type": "code",
   "execution_count": 16,
   "id": "c4f5a055",
   "metadata": {},
   "outputs": [],
   "source": [
    "#lets make data frame \n",
    "data_analyst = pd.DataFrame({'Job Title': job_title,\n",
    "                             'Job Location': job_loc,\n",
    "                             'Company Name':comp_name,\n",
    "                             'Exp. Required':exp_req})"
   ]
  },
  {
   "cell_type": "code",
   "execution_count": 17,
   "id": "d6ca8ab8",
   "metadata": {},
   "outputs": [
    {
     "data": {
      "text/html": [
       "<div>\n",
       "<style scoped>\n",
       "    .dataframe tbody tr th:only-of-type {\n",
       "        vertical-align: middle;\n",
       "    }\n",
       "\n",
       "    .dataframe tbody tr th {\n",
       "        vertical-align: top;\n",
       "    }\n",
       "\n",
       "    .dataframe thead th {\n",
       "        text-align: right;\n",
       "    }\n",
       "</style>\n",
       "<table border=\"1\" class=\"dataframe\">\n",
       "  <thead>\n",
       "    <tr style=\"text-align: right;\">\n",
       "      <th></th>\n",
       "      <th>Job Title</th>\n",
       "      <th>Job Location</th>\n",
       "      <th>Company Name</th>\n",
       "      <th>Exp. Required</th>\n",
       "    </tr>\n",
       "  </thead>\n",
       "  <tbody>\n",
       "    <tr>\n",
       "      <th>0</th>\n",
       "      <td>Senior Data Analyst</td>\n",
       "      <td>Bangalore/Bengaluru</td>\n",
       "      <td>Flipkart</td>\n",
       "      <td>4-6 Yrs</td>\n",
       "    </tr>\n",
       "    <tr>\n",
       "      <th>1</th>\n",
       "      <td>Senior Data Analyst - Data Modeling/Database D...</td>\n",
       "      <td>Bangalore/Bengaluru</td>\n",
       "      <td>K &amp; R Enterprises</td>\n",
       "      <td>4-6 Yrs</td>\n",
       "    </tr>\n",
       "    <tr>\n",
       "      <th>2</th>\n",
       "      <td>Data analyst</td>\n",
       "      <td>Bangalore/Bengaluru</td>\n",
       "      <td>GSK India</td>\n",
       "      <td>5-9 Yrs</td>\n",
       "    </tr>\n",
       "    <tr>\n",
       "      <th>3</th>\n",
       "      <td>Data Analyst</td>\n",
       "      <td>Bangalore/Bengaluru</td>\n",
       "      <td>GSK India</td>\n",
       "      <td>7-10 Yrs</td>\n",
       "    </tr>\n",
       "    <tr>\n",
       "      <th>4</th>\n",
       "      <td>Financial Data Analyst</td>\n",
       "      <td>Bangalore/Bengaluru</td>\n",
       "      <td>Moody's</td>\n",
       "      <td>0-2 Yrs</td>\n",
       "    </tr>\n",
       "    <tr>\n",
       "      <th>5</th>\n",
       "      <td>Data Analyst</td>\n",
       "      <td>Bangalore/Bengaluru</td>\n",
       "      <td>Aldius Consulting Services Pvt Ltd (Paramantra)</td>\n",
       "      <td>0-2 Yrs</td>\n",
       "    </tr>\n",
       "    <tr>\n",
       "      <th>6</th>\n",
       "      <td>OYO Rooms - Data Analyst / Business Analyst</td>\n",
       "      <td>Bangalore/Bengaluru, Delhi / NCR, Mumbai (All ...</td>\n",
       "      <td>OyoRooms</td>\n",
       "      <td>2-6 Yrs</td>\n",
       "    </tr>\n",
       "    <tr>\n",
       "      <th>7</th>\n",
       "      <td>Senior Data Analyst</td>\n",
       "      <td>Bangalore/Bengaluru</td>\n",
       "      <td>Cerner</td>\n",
       "      <td>2-5 Yrs</td>\n",
       "    </tr>\n",
       "    <tr>\n",
       "      <th>8</th>\n",
       "      <td>Data Analyst - Python/SQL</td>\n",
       "      <td>Bangalore/Bengaluru</td>\n",
       "      <td>Affine</td>\n",
       "      <td>3-5 Yrs</td>\n",
       "    </tr>\n",
       "    <tr>\n",
       "      <th>9</th>\n",
       "      <td>Data Analyst - IT</td>\n",
       "      <td>Bangalore/Bengaluru</td>\n",
       "      <td>Yespired</td>\n",
       "      <td>3-8 Yrs</td>\n",
       "    </tr>\n",
       "  </tbody>\n",
       "</table>\n",
       "</div>"
      ],
      "text/plain": [
       "                                           Job Title  \\\n",
       "0                                Senior Data Analyst   \n",
       "1  Senior Data Analyst - Data Modeling/Database D...   \n",
       "2                                       Data analyst   \n",
       "3                                       Data Analyst   \n",
       "4                             Financial Data Analyst   \n",
       "5                                       Data Analyst   \n",
       "6        OYO Rooms - Data Analyst / Business Analyst   \n",
       "7                                Senior Data Analyst   \n",
       "8                          Data Analyst - Python/SQL   \n",
       "9                                  Data Analyst - IT   \n",
       "\n",
       "                                        Job Location  \\\n",
       "0                                Bangalore/Bengaluru   \n",
       "1                                Bangalore/Bengaluru   \n",
       "2                                Bangalore/Bengaluru   \n",
       "3                                Bangalore/Bengaluru   \n",
       "4                                Bangalore/Bengaluru   \n",
       "5                                Bangalore/Bengaluru   \n",
       "6  Bangalore/Bengaluru, Delhi / NCR, Mumbai (All ...   \n",
       "7                                Bangalore/Bengaluru   \n",
       "8                                Bangalore/Bengaluru   \n",
       "9                                Bangalore/Bengaluru   \n",
       "\n",
       "                                      Company Name Exp. Required  \n",
       "0                                         Flipkart       4-6 Yrs  \n",
       "1                                K & R Enterprises       4-6 Yrs  \n",
       "2                                        GSK India       5-9 Yrs  \n",
       "3                                        GSK India      7-10 Yrs  \n",
       "4                                          Moody's       0-2 Yrs  \n",
       "5  Aldius Consulting Services Pvt Ltd (Paramantra)       0-2 Yrs  \n",
       "6                                         OyoRooms       2-6 Yrs  \n",
       "7                                           Cerner       2-5 Yrs  \n",
       "8                                           Affine       3-5 Yrs  \n",
       "9                                         Yespired       3-8 Yrs  "
      ]
     },
     "execution_count": 17,
     "metadata": {},
     "output_type": "execute_result"
    }
   ],
   "source": [
    "data_analyst.head(10)"
   ]
  },
  {
   "cell_type": "code",
   "execution_count": 18,
   "id": "2c789045",
   "metadata": {},
   "outputs": [
    {
     "data": {
      "text/html": [
       "<div>\n",
       "<style scoped>\n",
       "    .dataframe tbody tr th:only-of-type {\n",
       "        vertical-align: middle;\n",
       "    }\n",
       "\n",
       "    .dataframe tbody tr th {\n",
       "        vertical-align: top;\n",
       "    }\n",
       "\n",
       "    .dataframe thead th {\n",
       "        text-align: right;\n",
       "    }\n",
       "</style>\n",
       "<table border=\"1\" class=\"dataframe\">\n",
       "  <thead>\n",
       "    <tr style=\"text-align: right;\">\n",
       "      <th></th>\n",
       "      <th>Job Title</th>\n",
       "      <th>Job Location</th>\n",
       "      <th>Company Name</th>\n",
       "      <th>Exp. Required</th>\n",
       "    </tr>\n",
       "  </thead>\n",
       "  <tbody>\n",
       "    <tr>\n",
       "      <th>0</th>\n",
       "      <td>Senior Data Analyst</td>\n",
       "      <td>Bangalore/Bengaluru</td>\n",
       "      <td>Flipkart</td>\n",
       "      <td>4-6 Yrs</td>\n",
       "    </tr>\n",
       "    <tr>\n",
       "      <th>1</th>\n",
       "      <td>Senior Data Analyst - Data Modeling/Database D...</td>\n",
       "      <td>Bangalore/Bengaluru</td>\n",
       "      <td>K &amp; R Enterprises</td>\n",
       "      <td>4-6 Yrs</td>\n",
       "    </tr>\n",
       "    <tr>\n",
       "      <th>2</th>\n",
       "      <td>Data analyst</td>\n",
       "      <td>Bangalore/Bengaluru</td>\n",
       "      <td>GSK India</td>\n",
       "      <td>5-9 Yrs</td>\n",
       "    </tr>\n",
       "    <tr>\n",
       "      <th>3</th>\n",
       "      <td>Data Analyst</td>\n",
       "      <td>Bangalore/Bengaluru</td>\n",
       "      <td>GSK India</td>\n",
       "      <td>7-10 Yrs</td>\n",
       "    </tr>\n",
       "    <tr>\n",
       "      <th>4</th>\n",
       "      <td>Financial Data Analyst</td>\n",
       "      <td>Bangalore/Bengaluru</td>\n",
       "      <td>Moody's</td>\n",
       "      <td>0-2 Yrs</td>\n",
       "    </tr>\n",
       "    <tr>\n",
       "      <th>5</th>\n",
       "      <td>Data Analyst</td>\n",
       "      <td>Bangalore/Bengaluru</td>\n",
       "      <td>Aldius Consulting Services Pvt Ltd (Paramantra)</td>\n",
       "      <td>0-2 Yrs</td>\n",
       "    </tr>\n",
       "    <tr>\n",
       "      <th>6</th>\n",
       "      <td>OYO Rooms - Data Analyst / Business Analyst</td>\n",
       "      <td>Bangalore/Bengaluru, Delhi / NCR, Mumbai (All ...</td>\n",
       "      <td>OyoRooms</td>\n",
       "      <td>2-6 Yrs</td>\n",
       "    </tr>\n",
       "    <tr>\n",
       "      <th>7</th>\n",
       "      <td>Senior Data Analyst</td>\n",
       "      <td>Bangalore/Bengaluru</td>\n",
       "      <td>Cerner</td>\n",
       "      <td>2-5 Yrs</td>\n",
       "    </tr>\n",
       "    <tr>\n",
       "      <th>8</th>\n",
       "      <td>Data Analyst - Python/SQL</td>\n",
       "      <td>Bangalore/Bengaluru</td>\n",
       "      <td>Affine</td>\n",
       "      <td>3-5 Yrs</td>\n",
       "    </tr>\n",
       "    <tr>\n",
       "      <th>9</th>\n",
       "      <td>Data Analyst - IT</td>\n",
       "      <td>Bangalore/Bengaluru</td>\n",
       "      <td>Yespired</td>\n",
       "      <td>3-8 Yrs</td>\n",
       "    </tr>\n",
       "    <tr>\n",
       "      <th>10</th>\n",
       "      <td>Senior Data Analyst - Collibra</td>\n",
       "      <td>Bangalore/Bengaluru</td>\n",
       "      <td>Shell</td>\n",
       "      <td>8-12 Yrs</td>\n",
       "    </tr>\n",
       "    <tr>\n",
       "      <th>11</th>\n",
       "      <td>Business Analyst/Data Analyst</td>\n",
       "      <td>Hyderabad/Secunderabad, Bangalore/Bengaluru, D...</td>\n",
       "      <td>Telamon HR Solutions</td>\n",
       "      <td>3-5 Yrs</td>\n",
       "    </tr>\n",
       "    <tr>\n",
       "      <th>12</th>\n",
       "      <td>Senior Data Analyst - KPO</td>\n",
       "      <td>Gurgaon/Gurugram, Bangalore/Bengaluru</td>\n",
       "      <td>Huquo Consulting Pvt. Ltd</td>\n",
       "      <td>7-12 Yrs</td>\n",
       "    </tr>\n",
       "    <tr>\n",
       "      <th>13</th>\n",
       "      <td>Consultant - Data Analyst</td>\n",
       "      <td>Bangalore/Bengaluru</td>\n",
       "      <td>Flipkart</td>\n",
       "      <td>1-3 Yrs</td>\n",
       "    </tr>\n",
       "    <tr>\n",
       "      <th>14</th>\n",
       "      <td>Analyst / Sr. Analyst Risk &amp; Information Manag...</td>\n",
       "      <td>Gurgaon/Gurugram, Bangalore/Bengaluru</td>\n",
       "      <td>American Express</td>\n",
       "      <td>0-5 Yrs</td>\n",
       "    </tr>\n",
       "    <tr>\n",
       "      <th>15</th>\n",
       "      <td>Analyst / Senior Analyst– Risk &amp; Information M...</td>\n",
       "      <td>Gurgaon/Gurugram, Bangalore/Bengaluru</td>\n",
       "      <td>American Express</td>\n",
       "      <td>0-5 Yrs</td>\n",
       "    </tr>\n",
       "    <tr>\n",
       "      <th>16</th>\n",
       "      <td>Lead CLR Data Analyst</td>\n",
       "      <td>Bangalore/Bengaluru</td>\n",
       "      <td>Target</td>\n",
       "      <td>7-12 Yrs</td>\n",
       "    </tr>\n",
       "    <tr>\n",
       "      <th>17</th>\n",
       "      <td>Data Analyst</td>\n",
       "      <td>Mumbai, Pune, Bangalore/Bengaluru</td>\n",
       "      <td>National Entrepreneurship</td>\n",
       "      <td>3-7 Yrs</td>\n",
       "    </tr>\n",
       "    <tr>\n",
       "      <th>18</th>\n",
       "      <td>Data analyst</td>\n",
       "      <td>Bangalore/Bengaluru</td>\n",
       "      <td>GSK India</td>\n",
       "      <td>5-9 Yrs</td>\n",
       "    </tr>\n",
       "    <tr>\n",
       "      <th>19</th>\n",
       "      <td>Pipeline/Piping Data Analyst Trainee</td>\n",
       "      <td>Bangalore/Bengaluru</td>\n",
       "      <td>TIMS SOLUTIONS PRIVATE LIMITED</td>\n",
       "      <td>0-4 Yrs</td>\n",
       "    </tr>\n",
       "  </tbody>\n",
       "</table>\n",
       "</div>"
      ],
      "text/plain": [
       "                                            Job Title  \\\n",
       "0                                 Senior Data Analyst   \n",
       "1   Senior Data Analyst - Data Modeling/Database D...   \n",
       "2                                        Data analyst   \n",
       "3                                        Data Analyst   \n",
       "4                              Financial Data Analyst   \n",
       "5                                        Data Analyst   \n",
       "6         OYO Rooms - Data Analyst / Business Analyst   \n",
       "7                                 Senior Data Analyst   \n",
       "8                           Data Analyst - Python/SQL   \n",
       "9                                   Data Analyst - IT   \n",
       "10                     Senior Data Analyst - Collibra   \n",
       "11                      Business Analyst/Data Analyst   \n",
       "12                          Senior Data Analyst - KPO   \n",
       "13                          Consultant - Data Analyst   \n",
       "14  Analyst / Sr. Analyst Risk & Information Manag...   \n",
       "15  Analyst / Senior Analyst– Risk & Information M...   \n",
       "16                              Lead CLR Data Analyst   \n",
       "17                                       Data Analyst   \n",
       "18                                       Data analyst   \n",
       "19               Pipeline/Piping Data Analyst Trainee   \n",
       "\n",
       "                                         Job Location  \\\n",
       "0                                 Bangalore/Bengaluru   \n",
       "1                                 Bangalore/Bengaluru   \n",
       "2                                 Bangalore/Bengaluru   \n",
       "3                                 Bangalore/Bengaluru   \n",
       "4                                 Bangalore/Bengaluru   \n",
       "5                                 Bangalore/Bengaluru   \n",
       "6   Bangalore/Bengaluru, Delhi / NCR, Mumbai (All ...   \n",
       "7                                 Bangalore/Bengaluru   \n",
       "8                                 Bangalore/Bengaluru   \n",
       "9                                 Bangalore/Bengaluru   \n",
       "10                                Bangalore/Bengaluru   \n",
       "11  Hyderabad/Secunderabad, Bangalore/Bengaluru, D...   \n",
       "12              Gurgaon/Gurugram, Bangalore/Bengaluru   \n",
       "13                                Bangalore/Bengaluru   \n",
       "14              Gurgaon/Gurugram, Bangalore/Bengaluru   \n",
       "15              Gurgaon/Gurugram, Bangalore/Bengaluru   \n",
       "16                                Bangalore/Bengaluru   \n",
       "17                  Mumbai, Pune, Bangalore/Bengaluru   \n",
       "18                                Bangalore/Bengaluru   \n",
       "19                                Bangalore/Bengaluru   \n",
       "\n",
       "                                       Company Name Exp. Required  \n",
       "0                                          Flipkart       4-6 Yrs  \n",
       "1                                 K & R Enterprises       4-6 Yrs  \n",
       "2                                         GSK India       5-9 Yrs  \n",
       "3                                         GSK India      7-10 Yrs  \n",
       "4                                           Moody's       0-2 Yrs  \n",
       "5   Aldius Consulting Services Pvt Ltd (Paramantra)       0-2 Yrs  \n",
       "6                                          OyoRooms       2-6 Yrs  \n",
       "7                                            Cerner       2-5 Yrs  \n",
       "8                                            Affine       3-5 Yrs  \n",
       "9                                          Yespired       3-8 Yrs  \n",
       "10                                            Shell      8-12 Yrs  \n",
       "11                             Telamon HR Solutions       3-5 Yrs  \n",
       "12                        Huquo Consulting Pvt. Ltd      7-12 Yrs  \n",
       "13                                         Flipkart       1-3 Yrs  \n",
       "14                                 American Express       0-5 Yrs  \n",
       "15                                 American Express       0-5 Yrs  \n",
       "16                                           Target      7-12 Yrs  \n",
       "17                        National Entrepreneurship       3-7 Yrs  \n",
       "18                                        GSK India       5-9 Yrs  \n",
       "19                   TIMS SOLUTIONS PRIVATE LIMITED       0-4 Yrs  "
      ]
     },
     "execution_count": 18,
     "metadata": {},
     "output_type": "execute_result"
    }
   ],
   "source": [
    "data_analyst.head(20)"
   ]
  },
  {
   "cell_type": "markdown",
   "id": "6b187a7c",
   "metadata": {},
   "source": [
    "# A2. Scrape data for “Data Scientist” Job position in “Bangalore” location."
   ]
  },
  {
   "cell_type": "code",
   "execution_count": 19,
   "id": "59154333",
   "metadata": {},
   "outputs": [],
   "source": [
    "import selenium \n",
    "from selenium import webdriver\n",
    "import pandas as pd\n",
    "import warnings\n",
    "warnings.filterwarnings('ignore')"
   ]
  },
  {
   "cell_type": "code",
   "execution_count": 20,
   "id": "99ba71e5",
   "metadata": {},
   "outputs": [],
   "source": [
    "#first connect to web driver\n",
    "driver = webdriver.Chrome(r\"C:\\Users\\JITENDER\\Desktop\\Data Science\\Datatraind project\\chromedriver_win32\\chromedriver.exe\")"
   ]
  },
  {
   "cell_type": "code",
   "execution_count": 21,
   "id": "4d604156",
   "metadata": {},
   "outputs": [],
   "source": [
    "url = 'https://www.naukri.com/'\n",
    "driver.get(url)"
   ]
  },
  {
   "cell_type": "code",
   "execution_count": 22,
   "id": "2813ebc2",
   "metadata": {},
   "outputs": [
    {
     "data": {
      "text/plain": [
       "<selenium.webdriver.remote.webelement.WebElement (session=\"9885230162366a2bf9783627974f05bb\", element=\"3e920a02-a52e-4d40-94e6-5711d8e725e3\")>"
      ]
     },
     "execution_count": 22,
     "metadata": {},
     "output_type": "execute_result"
    }
   ],
   "source": [
    "Search_job = driver.find_element_by_class_name(\"suggestor-input \")\n",
    "Search_job"
   ]
  },
  {
   "cell_type": "code",
   "execution_count": 23,
   "id": "72516928",
   "metadata": {},
   "outputs": [],
   "source": [
    "Search_job.send_keys(\"Data Scientist\")\n"
   ]
  },
  {
   "cell_type": "code",
   "execution_count": 24,
   "id": "0d26fea6",
   "metadata": {},
   "outputs": [
    {
     "data": {
      "text/plain": [
       "<selenium.webdriver.remote.webelement.WebElement (session=\"9885230162366a2bf9783627974f05bb\", element=\"a6a15da8-d5e2-4272-b7e2-b0c18a4accb8\")>"
      ]
     },
     "execution_count": 24,
     "metadata": {},
     "output_type": "execute_result"
    }
   ],
   "source": [
    "search_loc = driver.find_element_by_xpath('/html/body/div/div[2]/div[3]/div/div/div[3]/div/div/div/input')\n",
    "search_loc\n"
   ]
  },
  {
   "cell_type": "code",
   "execution_count": 25,
   "id": "bc25efc5",
   "metadata": {},
   "outputs": [],
   "source": [
    "search_loc.send_keys(\"Bangalore\")\n"
   ]
  },
  {
   "cell_type": "code",
   "execution_count": 26,
   "id": "02318ec2",
   "metadata": {},
   "outputs": [
    {
     "data": {
      "text/plain": [
       "<selenium.webdriver.remote.webelement.WebElement (session=\"9885230162366a2bf9783627974f05bb\", element=\"1fca1552-fee5-45ad-8f74-3a8e5da34e4f\")>"
      ]
     },
     "execution_count": 26,
     "metadata": {},
     "output_type": "execute_result"
    }
   ],
   "source": [
    "search_btn =driver.find_element_by_xpath('/html/body/div/div[2]/div[3]/div/div/div[6]')\n",
    "search_btn"
   ]
  },
  {
   "cell_type": "code",
   "execution_count": 27,
   "id": "735a31af",
   "metadata": {},
   "outputs": [],
   "source": [
    "search_btn.click()"
   ]
  },
  {
   "cell_type": "code",
   "execution_count": 33,
   "id": "e6e97646",
   "metadata": {},
   "outputs": [
    {
     "data": {
      "text/plain": [
       "(20, 20, 20, 20)"
      ]
     },
     "execution_count": 33,
     "metadata": {},
     "output_type": "execute_result"
    }
   ],
   "source": [
    "#lets find element of job titles ,location,company name, experinse\n",
    "\n",
    "job=driver.find_elements_by_xpath('//a[@class=\"title fw500 ellipsis\"]')\n",
    "loc= driver.find_elements_by_xpath('//li[@class=\"fleft grey-text br2 placeHolderLi location\"]')\n",
    "comp=driver.find_elements_by_xpath('//a[@class=\"subTitle ellipsis fleft\"]')\n",
    "exp= driver.find_elements_by_xpath('//*[contains(@title,\"Yrs\")]')\n",
    "\n",
    "len(job),len(loc),len(comp),len(exp)\n"
   ]
  },
  {
   "cell_type": "code",
   "execution_count": 34,
   "id": "44e30200",
   "metadata": {},
   "outputs": [],
   "source": [
    "#lets make data frame \n",
    "data_Scientist = pd.DataFrame({'Job Title': job_title,\n",
    "                             'Job Location': job_loc,\n",
    "                             'Company Name':comp_name,\n",
    "                             'Exp. Required':exp_req})"
   ]
  },
  {
   "cell_type": "code",
   "execution_count": 35,
   "id": "59606ac1",
   "metadata": {},
   "outputs": [
    {
     "data": {
      "text/html": [
       "<div>\n",
       "<style scoped>\n",
       "    .dataframe tbody tr th:only-of-type {\n",
       "        vertical-align: middle;\n",
       "    }\n",
       "\n",
       "    .dataframe tbody tr th {\n",
       "        vertical-align: top;\n",
       "    }\n",
       "\n",
       "    .dataframe thead th {\n",
       "        text-align: right;\n",
       "    }\n",
       "</style>\n",
       "<table border=\"1\" class=\"dataframe\">\n",
       "  <thead>\n",
       "    <tr style=\"text-align: right;\">\n",
       "      <th></th>\n",
       "      <th>Job Title</th>\n",
       "      <th>Job Location</th>\n",
       "      <th>Company Name</th>\n",
       "      <th>Exp. Required</th>\n",
       "    </tr>\n",
       "  </thead>\n",
       "  <tbody>\n",
       "    <tr>\n",
       "      <th>0</th>\n",
       "      <td>Senior Data Analyst</td>\n",
       "      <td>Bangalore/Bengaluru</td>\n",
       "      <td>Flipkart</td>\n",
       "      <td>4-6 Yrs</td>\n",
       "    </tr>\n",
       "    <tr>\n",
       "      <th>1</th>\n",
       "      <td>Senior Data Analyst - Data Modeling/Database D...</td>\n",
       "      <td>Bangalore/Bengaluru</td>\n",
       "      <td>K &amp; R Enterprises</td>\n",
       "      <td>4-6 Yrs</td>\n",
       "    </tr>\n",
       "    <tr>\n",
       "      <th>2</th>\n",
       "      <td>Data analyst</td>\n",
       "      <td>Bangalore/Bengaluru</td>\n",
       "      <td>GSK India</td>\n",
       "      <td>5-9 Yrs</td>\n",
       "    </tr>\n",
       "    <tr>\n",
       "      <th>3</th>\n",
       "      <td>Data Analyst</td>\n",
       "      <td>Bangalore/Bengaluru</td>\n",
       "      <td>GSK India</td>\n",
       "      <td>7-10 Yrs</td>\n",
       "    </tr>\n",
       "    <tr>\n",
       "      <th>4</th>\n",
       "      <td>Financial Data Analyst</td>\n",
       "      <td>Bangalore/Bengaluru</td>\n",
       "      <td>Moody's</td>\n",
       "      <td>0-2 Yrs</td>\n",
       "    </tr>\n",
       "    <tr>\n",
       "      <th>5</th>\n",
       "      <td>Data Analyst</td>\n",
       "      <td>Bangalore/Bengaluru</td>\n",
       "      <td>Aldius Consulting Services Pvt Ltd (Paramantra)</td>\n",
       "      <td>0-2 Yrs</td>\n",
       "    </tr>\n",
       "    <tr>\n",
       "      <th>6</th>\n",
       "      <td>OYO Rooms - Data Analyst / Business Analyst</td>\n",
       "      <td>Bangalore/Bengaluru, Delhi / NCR, Mumbai (All ...</td>\n",
       "      <td>OyoRooms</td>\n",
       "      <td>2-6 Yrs</td>\n",
       "    </tr>\n",
       "    <tr>\n",
       "      <th>7</th>\n",
       "      <td>Senior Data Analyst</td>\n",
       "      <td>Bangalore/Bengaluru</td>\n",
       "      <td>Cerner</td>\n",
       "      <td>2-5 Yrs</td>\n",
       "    </tr>\n",
       "    <tr>\n",
       "      <th>8</th>\n",
       "      <td>Data Analyst - Python/SQL</td>\n",
       "      <td>Bangalore/Bengaluru</td>\n",
       "      <td>Affine</td>\n",
       "      <td>3-5 Yrs</td>\n",
       "    </tr>\n",
       "    <tr>\n",
       "      <th>9</th>\n",
       "      <td>Data Analyst - IT</td>\n",
       "      <td>Bangalore/Bengaluru</td>\n",
       "      <td>Yespired</td>\n",
       "      <td>3-8 Yrs</td>\n",
       "    </tr>\n",
       "    <tr>\n",
       "      <th>10</th>\n",
       "      <td>Senior Data Analyst - Collibra</td>\n",
       "      <td>Bangalore/Bengaluru</td>\n",
       "      <td>Shell</td>\n",
       "      <td>8-12 Yrs</td>\n",
       "    </tr>\n",
       "    <tr>\n",
       "      <th>11</th>\n",
       "      <td>Business Analyst/Data Analyst</td>\n",
       "      <td>Hyderabad/Secunderabad, Bangalore/Bengaluru, D...</td>\n",
       "      <td>Telamon HR Solutions</td>\n",
       "      <td>3-5 Yrs</td>\n",
       "    </tr>\n",
       "    <tr>\n",
       "      <th>12</th>\n",
       "      <td>Senior Data Analyst - KPO</td>\n",
       "      <td>Gurgaon/Gurugram, Bangalore/Bengaluru</td>\n",
       "      <td>Huquo Consulting Pvt. Ltd</td>\n",
       "      <td>7-12 Yrs</td>\n",
       "    </tr>\n",
       "    <tr>\n",
       "      <th>13</th>\n",
       "      <td>Consultant - Data Analyst</td>\n",
       "      <td>Bangalore/Bengaluru</td>\n",
       "      <td>Flipkart</td>\n",
       "      <td>1-3 Yrs</td>\n",
       "    </tr>\n",
       "    <tr>\n",
       "      <th>14</th>\n",
       "      <td>Analyst / Sr. Analyst Risk &amp; Information Manag...</td>\n",
       "      <td>Gurgaon/Gurugram, Bangalore/Bengaluru</td>\n",
       "      <td>American Express</td>\n",
       "      <td>0-5 Yrs</td>\n",
       "    </tr>\n",
       "    <tr>\n",
       "      <th>15</th>\n",
       "      <td>Analyst / Senior Analyst– Risk &amp; Information M...</td>\n",
       "      <td>Gurgaon/Gurugram, Bangalore/Bengaluru</td>\n",
       "      <td>American Express</td>\n",
       "      <td>0-5 Yrs</td>\n",
       "    </tr>\n",
       "    <tr>\n",
       "      <th>16</th>\n",
       "      <td>Lead CLR Data Analyst</td>\n",
       "      <td>Bangalore/Bengaluru</td>\n",
       "      <td>Target</td>\n",
       "      <td>7-12 Yrs</td>\n",
       "    </tr>\n",
       "    <tr>\n",
       "      <th>17</th>\n",
       "      <td>Data Analyst</td>\n",
       "      <td>Mumbai, Pune, Bangalore/Bengaluru</td>\n",
       "      <td>National Entrepreneurship</td>\n",
       "      <td>3-7 Yrs</td>\n",
       "    </tr>\n",
       "    <tr>\n",
       "      <th>18</th>\n",
       "      <td>Data analyst</td>\n",
       "      <td>Bangalore/Bengaluru</td>\n",
       "      <td>GSK India</td>\n",
       "      <td>5-9 Yrs</td>\n",
       "    </tr>\n",
       "    <tr>\n",
       "      <th>19</th>\n",
       "      <td>Pipeline/Piping Data Analyst Trainee</td>\n",
       "      <td>Bangalore/Bengaluru</td>\n",
       "      <td>TIMS SOLUTIONS PRIVATE LIMITED</td>\n",
       "      <td>0-4 Yrs</td>\n",
       "    </tr>\n",
       "  </tbody>\n",
       "</table>\n",
       "</div>"
      ],
      "text/plain": [
       "                                            Job Title  \\\n",
       "0                                 Senior Data Analyst   \n",
       "1   Senior Data Analyst - Data Modeling/Database D...   \n",
       "2                                        Data analyst   \n",
       "3                                        Data Analyst   \n",
       "4                              Financial Data Analyst   \n",
       "5                                        Data Analyst   \n",
       "6         OYO Rooms - Data Analyst / Business Analyst   \n",
       "7                                 Senior Data Analyst   \n",
       "8                           Data Analyst - Python/SQL   \n",
       "9                                   Data Analyst - IT   \n",
       "10                     Senior Data Analyst - Collibra   \n",
       "11                      Business Analyst/Data Analyst   \n",
       "12                          Senior Data Analyst - KPO   \n",
       "13                          Consultant - Data Analyst   \n",
       "14  Analyst / Sr. Analyst Risk & Information Manag...   \n",
       "15  Analyst / Senior Analyst– Risk & Information M...   \n",
       "16                              Lead CLR Data Analyst   \n",
       "17                                       Data Analyst   \n",
       "18                                       Data analyst   \n",
       "19               Pipeline/Piping Data Analyst Trainee   \n",
       "\n",
       "                                         Job Location  \\\n",
       "0                                 Bangalore/Bengaluru   \n",
       "1                                 Bangalore/Bengaluru   \n",
       "2                                 Bangalore/Bengaluru   \n",
       "3                                 Bangalore/Bengaluru   \n",
       "4                                 Bangalore/Bengaluru   \n",
       "5                                 Bangalore/Bengaluru   \n",
       "6   Bangalore/Bengaluru, Delhi / NCR, Mumbai (All ...   \n",
       "7                                 Bangalore/Bengaluru   \n",
       "8                                 Bangalore/Bengaluru   \n",
       "9                                 Bangalore/Bengaluru   \n",
       "10                                Bangalore/Bengaluru   \n",
       "11  Hyderabad/Secunderabad, Bangalore/Bengaluru, D...   \n",
       "12              Gurgaon/Gurugram, Bangalore/Bengaluru   \n",
       "13                                Bangalore/Bengaluru   \n",
       "14              Gurgaon/Gurugram, Bangalore/Bengaluru   \n",
       "15              Gurgaon/Gurugram, Bangalore/Bengaluru   \n",
       "16                                Bangalore/Bengaluru   \n",
       "17                  Mumbai, Pune, Bangalore/Bengaluru   \n",
       "18                                Bangalore/Bengaluru   \n",
       "19                                Bangalore/Bengaluru   \n",
       "\n",
       "                                       Company Name Exp. Required  \n",
       "0                                          Flipkart       4-6 Yrs  \n",
       "1                                 K & R Enterprises       4-6 Yrs  \n",
       "2                                         GSK India       5-9 Yrs  \n",
       "3                                         GSK India      7-10 Yrs  \n",
       "4                                           Moody's       0-2 Yrs  \n",
       "5   Aldius Consulting Services Pvt Ltd (Paramantra)       0-2 Yrs  \n",
       "6                                          OyoRooms       2-6 Yrs  \n",
       "7                                            Cerner       2-5 Yrs  \n",
       "8                                            Affine       3-5 Yrs  \n",
       "9                                          Yespired       3-8 Yrs  \n",
       "10                                            Shell      8-12 Yrs  \n",
       "11                             Telamon HR Solutions       3-5 Yrs  \n",
       "12                        Huquo Consulting Pvt. Ltd      7-12 Yrs  \n",
       "13                                         Flipkart       1-3 Yrs  \n",
       "14                                 American Express       0-5 Yrs  \n",
       "15                                 American Express       0-5 Yrs  \n",
       "16                                           Target      7-12 Yrs  \n",
       "17                        National Entrepreneurship       3-7 Yrs  \n",
       "18                                        GSK India       5-9 Yrs  \n",
       "19                   TIMS SOLUTIONS PRIVATE LIMITED       0-4 Yrs  "
      ]
     },
     "execution_count": 35,
     "metadata": {},
     "output_type": "execute_result"
    }
   ],
   "source": [
    "data_Scientist"
   ]
  },
  {
   "cell_type": "code",
   "execution_count": null,
   "id": "1c7f1e39",
   "metadata": {},
   "outputs": [],
   "source": []
  },
  {
   "cell_type": "markdown",
   "id": "cfb9177a",
   "metadata": {},
   "source": [
    "# 4 Data of first 100 sunglasses listings on flipkart.com."
   ]
  },
  {
   "cell_type": "code",
   "execution_count": 36,
   "id": "fe77b386",
   "metadata": {},
   "outputs": [],
   "source": [
    "#lets get url\n",
    "driver.get('https://www.flipkart.com/')"
   ]
  },
  {
   "cell_type": "code",
   "execution_count": 38,
   "id": "456a0d0d",
   "metadata": {},
   "outputs": [],
   "source": [
    "search_prd= driver.find_element_by_xpath(\"/html/body/div[1]/div/div[1]/div[1]/div[2]/div[2]/form/div/div/input\")"
   ]
  },
  {
   "cell_type": "code",
   "execution_count": 39,
   "id": "bed209f2",
   "metadata": {},
   "outputs": [
    {
     "data": {
      "text/plain": [
       "<selenium.webdriver.remote.webelement.WebElement (session=\"9885230162366a2bf9783627974f05bb\", element=\"e5e794c0-c6d9-4365-bae1-c2c375ed2593\")>"
      ]
     },
     "execution_count": 39,
     "metadata": {},
     "output_type": "execute_result"
    }
   ],
   "source": [
    "search_prd"
   ]
  },
  {
   "cell_type": "code",
   "execution_count": 40,
   "id": "07d5f5f1",
   "metadata": {},
   "outputs": [],
   "source": [
    "search_prd.send_keys('sunglasses')"
   ]
  },
  {
   "cell_type": "code",
   "execution_count": 41,
   "id": "1bd7b472",
   "metadata": {},
   "outputs": [
    {
     "data": {
      "text/plain": [
       "<selenium.webdriver.remote.webelement.WebElement (session=\"9885230162366a2bf9783627974f05bb\", element=\"9955ea7a-dcb5-42d3-826c-69c85fa0b984\")>"
      ]
     },
     "execution_count": 41,
     "metadata": {},
     "output_type": "execute_result"
    }
   ],
   "source": [
    "searchbtn = driver.find_element_by_xpath('/html/body/div[1]/div/div[1]/div[1]/div[2]/div[2]/form/div/button')\n",
    "searchbtn"
   ]
  },
  {
   "cell_type": "code",
   "execution_count": 42,
   "id": "ce5c4ba1",
   "metadata": {},
   "outputs": [],
   "source": [
    "searchbtn.click()"
   ]
  },
  {
   "cell_type": "code",
   "execution_count": 44,
   "id": "eab4c4c7",
   "metadata": {},
   "outputs": [],
   "source": [
    "brand  = driver.find_elements_by_xpath('//div[@class=\"_2WkVRV\"]')\n"
   ]
  },
  {
   "cell_type": "code",
   "execution_count": 54,
   "id": "97f69b99",
   "metadata": {},
   "outputs": [
    {
     "data": {
      "text/plain": [
       "[<selenium.webdriver.remote.webelement.WebElement (session=\"9b1b5387c786c5db308ec8fdde402189\", element=\"f47582aa-fb93-482d-a0e7-d9144fbcf0c6\")>,\n",
       " <selenium.webdriver.remote.webelement.WebElement (session=\"9b1b5387c786c5db308ec8fdde402189\", element=\"ddfc2493-de31-46d1-b041-642090b4b36f\")>,\n",
       " <selenium.webdriver.remote.webelement.WebElement (session=\"9b1b5387c786c5db308ec8fdde402189\", element=\"3e9c8f11-cd0d-4c68-9e27-1cc412290c22\")>,\n",
       " <selenium.webdriver.remote.webelement.WebElement (session=\"9b1b5387c786c5db308ec8fdde402189\", element=\"db8513f9-9106-4053-bc3f-c60b53e15426\")>,\n",
       " <selenium.webdriver.remote.webelement.WebElement (session=\"9b1b5387c786c5db308ec8fdde402189\", element=\"f7afdeee-cb43-4bea-b781-cd70ebfe7f73\")>,\n",
       " <selenium.webdriver.remote.webelement.WebElement (session=\"9b1b5387c786c5db308ec8fdde402189\", element=\"bbc77652-07ba-46e7-be38-aaf097f0d30f\")>,\n",
       " <selenium.webdriver.remote.webelement.WebElement (session=\"9b1b5387c786c5db308ec8fdde402189\", element=\"760ee2ff-8299-4039-ab2d-b9cbe6aface2\")>,\n",
       " <selenium.webdriver.remote.webelement.WebElement (session=\"9b1b5387c786c5db308ec8fdde402189\", element=\"d92f3fe8-0fcc-4d6d-babf-ec0b1d97f11e\")>,\n",
       " <selenium.webdriver.remote.webelement.WebElement (session=\"9b1b5387c786c5db308ec8fdde402189\", element=\"777aacc9-1bd1-4293-a0e0-29771abae717\")>,\n",
       " <selenium.webdriver.remote.webelement.WebElement (session=\"9b1b5387c786c5db308ec8fdde402189\", element=\"28800703-d20d-4639-b99d-67604c01febd\")>,\n",
       " <selenium.webdriver.remote.webelement.WebElement (session=\"9b1b5387c786c5db308ec8fdde402189\", element=\"d55a09bd-cb7c-4a58-868e-3f79042a4d8c\")>,\n",
       " <selenium.webdriver.remote.webelement.WebElement (session=\"9b1b5387c786c5db308ec8fdde402189\", element=\"0a364cad-d196-4655-abf2-854e7c91724b\")>,\n",
       " <selenium.webdriver.remote.webelement.WebElement (session=\"9b1b5387c786c5db308ec8fdde402189\", element=\"f5814309-c0dc-4cd8-8835-7998d00c7a83\")>,\n",
       " <selenium.webdriver.remote.webelement.WebElement (session=\"9b1b5387c786c5db308ec8fdde402189\", element=\"ecc29f0f-13cd-41af-8eb8-ab690dde97be\")>,\n",
       " <selenium.webdriver.remote.webelement.WebElement (session=\"9b1b5387c786c5db308ec8fdde402189\", element=\"0c0784e2-4e17-46d9-93c5-4e61acaf2c2d\")>,\n",
       " <selenium.webdriver.remote.webelement.WebElement (session=\"9b1b5387c786c5db308ec8fdde402189\", element=\"dbfd846f-1a8c-46e0-b042-1cf5a0295116\")>,\n",
       " <selenium.webdriver.remote.webelement.WebElement (session=\"9b1b5387c786c5db308ec8fdde402189\", element=\"dd5282ef-4d56-4422-800d-511607d27176\")>,\n",
       " <selenium.webdriver.remote.webelement.WebElement (session=\"9b1b5387c786c5db308ec8fdde402189\", element=\"cf48873a-f61b-44eb-b2af-b849c231810d\")>,\n",
       " <selenium.webdriver.remote.webelement.WebElement (session=\"9b1b5387c786c5db308ec8fdde402189\", element=\"5fc981e5-6931-439a-8ffc-7e466d638b4b\")>,\n",
       " <selenium.webdriver.remote.webelement.WebElement (session=\"9b1b5387c786c5db308ec8fdde402189\", element=\"c1de0395-7071-4c85-897c-d5b6af88240e\")>,\n",
       " <selenium.webdriver.remote.webelement.WebElement (session=\"9b1b5387c786c5db308ec8fdde402189\", element=\"e3b68fce-d568-49b5-a809-49a413f34a02\")>,\n",
       " <selenium.webdriver.remote.webelement.WebElement (session=\"9b1b5387c786c5db308ec8fdde402189\", element=\"d3ea3751-f573-4ad6-9983-3234f94bbfb7\")>,\n",
       " <selenium.webdriver.remote.webelement.WebElement (session=\"9b1b5387c786c5db308ec8fdde402189\", element=\"5c88a8a0-54fa-4fa3-9715-de4bb46094d8\")>,\n",
       " <selenium.webdriver.remote.webelement.WebElement (session=\"9b1b5387c786c5db308ec8fdde402189\", element=\"c366a63a-71da-4332-9da3-57ced323ae10\")>,\n",
       " <selenium.webdriver.remote.webelement.WebElement (session=\"9b1b5387c786c5db308ec8fdde402189\", element=\"160a4423-52d8-411b-8da6-80ad2dd123f8\")>,\n",
       " <selenium.webdriver.remote.webelement.WebElement (session=\"9b1b5387c786c5db308ec8fdde402189\", element=\"b021d93e-3857-42b0-a7c1-383248f4c349\")>,\n",
       " <selenium.webdriver.remote.webelement.WebElement (session=\"9b1b5387c786c5db308ec8fdde402189\", element=\"55dc15f3-fa05-465c-9922-f419e4393f96\")>,\n",
       " <selenium.webdriver.remote.webelement.WebElement (session=\"9b1b5387c786c5db308ec8fdde402189\", element=\"7acc79ae-810b-436e-863d-61bbe3c95e29\")>,\n",
       " <selenium.webdriver.remote.webelement.WebElement (session=\"9b1b5387c786c5db308ec8fdde402189\", element=\"faefd068-8796-42c2-a70f-376c6d978575\")>,\n",
       " <selenium.webdriver.remote.webelement.WebElement (session=\"9b1b5387c786c5db308ec8fdde402189\", element=\"38daba94-7e5f-4c21-b999-85bc07177903\")>,\n",
       " <selenium.webdriver.remote.webelement.WebElement (session=\"9b1b5387c786c5db308ec8fdde402189\", element=\"54345ea3-797c-412b-87d8-78558484659c\")>,\n",
       " <selenium.webdriver.remote.webelement.WebElement (session=\"9b1b5387c786c5db308ec8fdde402189\", element=\"346155b3-9fa9-4805-ba75-b286f3923f3d\")>,\n",
       " <selenium.webdriver.remote.webelement.WebElement (session=\"9b1b5387c786c5db308ec8fdde402189\", element=\"9ce8b70c-fba3-41f9-9ab4-aac56ffe62df\")>,\n",
       " <selenium.webdriver.remote.webelement.WebElement (session=\"9b1b5387c786c5db308ec8fdde402189\", element=\"b3ede2f7-14a2-4601-a360-476ad652c9e6\")>,\n",
       " <selenium.webdriver.remote.webelement.WebElement (session=\"9b1b5387c786c5db308ec8fdde402189\", element=\"85b18fd3-83fe-421a-9c05-b683a99b3e13\")>,\n",
       " <selenium.webdriver.remote.webelement.WebElement (session=\"9b1b5387c786c5db308ec8fdde402189\", element=\"7cdc53d7-4d1a-4d5d-bca4-390861855bac\")>,\n",
       " <selenium.webdriver.remote.webelement.WebElement (session=\"9b1b5387c786c5db308ec8fdde402189\", element=\"c506e10a-7975-4ab7-9643-eb37b1531196\")>,\n",
       " <selenium.webdriver.remote.webelement.WebElement (session=\"9b1b5387c786c5db308ec8fdde402189\", element=\"2f2a721a-ce7e-40bd-af44-ff7abb4dbb49\")>,\n",
       " <selenium.webdriver.remote.webelement.WebElement (session=\"9b1b5387c786c5db308ec8fdde402189\", element=\"c82acfde-ce65-413e-b253-2ef810cb6e59\")>,\n",
       " <selenium.webdriver.remote.webelement.WebElement (session=\"9b1b5387c786c5db308ec8fdde402189\", element=\"97453efa-b984-4a17-8b5d-badd83d74d1b\")>]"
      ]
     },
     "execution_count": 54,
     "metadata": {},
     "output_type": "execute_result"
    }
   ],
   "source": [
    "brand"
   ]
  },
  {
   "cell_type": "code",
   "execution_count": 56,
   "id": "5408c05f",
   "metadata": {},
   "outputs": [
    {
     "data": {
      "text/plain": [
       "40"
      ]
     },
     "execution_count": 56,
     "metadata": {},
     "output_type": "execute_result"
    }
   ],
   "source": [
    "len(brand)\n"
   ]
  },
  {
   "cell_type": "code",
   "execution_count": 58,
   "id": "a3cd4539",
   "metadata": {},
   "outputs": [],
   "source": [
    "brand_name =[]\n",
    "for i in brand:\n",
    "    brand_name.append(i.text)\n",
    "    "
   ]
  },
  {
   "cell_type": "code",
   "execution_count": 60,
   "id": "466e8b8f",
   "metadata": {},
   "outputs": [
    {
     "data": {
      "text/plain": [
       "40"
      ]
     },
     "execution_count": 60,
     "metadata": {},
     "output_type": "execute_result"
    }
   ],
   "source": [
    "len(brand_name)"
   ]
  },
  {
   "cell_type": "code",
   "execution_count": 61,
   "id": "30f33675",
   "metadata": {},
   "outputs": [
    {
     "data": {
      "text/plain": [
       "[<selenium.webdriver.remote.webelement.WebElement (session=\"9b1b5387c786c5db308ec8fdde402189\", element=\"35df86a4-5b64-425c-8b19-0111bdc2944a\")>,\n",
       " <selenium.webdriver.remote.webelement.WebElement (session=\"9b1b5387c786c5db308ec8fdde402189\", element=\"30c82bc8-13f5-48d8-8525-29f207b3c087\")>,\n",
       " <selenium.webdriver.remote.webelement.WebElement (session=\"9b1b5387c786c5db308ec8fdde402189\", element=\"e5f322d7-a4a4-48cf-becc-3640638e9bb7\")>,\n",
       " <selenium.webdriver.remote.webelement.WebElement (session=\"9b1b5387c786c5db308ec8fdde402189\", element=\"6cd4bb06-724f-4ab7-8bd0-33fcc86ad30a\")>,\n",
       " <selenium.webdriver.remote.webelement.WebElement (session=\"9b1b5387c786c5db308ec8fdde402189\", element=\"0cf47d16-4dcb-4441-9ccf-e59af8e82709\")>,\n",
       " <selenium.webdriver.remote.webelement.WebElement (session=\"9b1b5387c786c5db308ec8fdde402189\", element=\"00769794-8b82-4694-8956-3fcbff836479\")>,\n",
       " <selenium.webdriver.remote.webelement.WebElement (session=\"9b1b5387c786c5db308ec8fdde402189\", element=\"dff3f925-2dc5-44a2-aad3-7c53b765512d\")>,\n",
       " <selenium.webdriver.remote.webelement.WebElement (session=\"9b1b5387c786c5db308ec8fdde402189\", element=\"453ae501-f967-4587-8836-b956331adc7f\")>,\n",
       " <selenium.webdriver.remote.webelement.WebElement (session=\"9b1b5387c786c5db308ec8fdde402189\", element=\"e792f298-2a1b-4f5e-be82-19b95332f6d3\")>,\n",
       " <selenium.webdriver.remote.webelement.WebElement (session=\"9b1b5387c786c5db308ec8fdde402189\", element=\"38344694-183f-425e-9b74-6368a52cd52f\")>,\n",
       " <selenium.webdriver.remote.webelement.WebElement (session=\"9b1b5387c786c5db308ec8fdde402189\", element=\"c06f3a38-1e6c-4b04-9944-675fad4bf7a2\")>,\n",
       " <selenium.webdriver.remote.webelement.WebElement (session=\"9b1b5387c786c5db308ec8fdde402189\", element=\"808f5657-2f9b-4a82-a4d7-ebd346f30793\")>,\n",
       " <selenium.webdriver.remote.webelement.WebElement (session=\"9b1b5387c786c5db308ec8fdde402189\", element=\"78b646cd-abe1-4614-a7aa-487209c3739b\")>,\n",
       " <selenium.webdriver.remote.webelement.WebElement (session=\"9b1b5387c786c5db308ec8fdde402189\", element=\"5c47ae6d-4d90-4b18-8039-5621e8bb91f1\")>,\n",
       " <selenium.webdriver.remote.webelement.WebElement (session=\"9b1b5387c786c5db308ec8fdde402189\", element=\"c21ffacd-f9e8-48ff-8f6a-c9a42d71d75d\")>,\n",
       " <selenium.webdriver.remote.webelement.WebElement (session=\"9b1b5387c786c5db308ec8fdde402189\", element=\"1f8038f8-e963-448d-8469-d90b1b4544b0\")>,\n",
       " <selenium.webdriver.remote.webelement.WebElement (session=\"9b1b5387c786c5db308ec8fdde402189\", element=\"81fd4b26-96b5-4fe0-94e8-e7878fdbdd3d\")>,\n",
       " <selenium.webdriver.remote.webelement.WebElement (session=\"9b1b5387c786c5db308ec8fdde402189\", element=\"4382d701-45f9-4830-a03b-77868525a780\")>,\n",
       " <selenium.webdriver.remote.webelement.WebElement (session=\"9b1b5387c786c5db308ec8fdde402189\", element=\"35c18e8b-20ab-4fa5-999e-5472a68da166\")>,\n",
       " <selenium.webdriver.remote.webelement.WebElement (session=\"9b1b5387c786c5db308ec8fdde402189\", element=\"802fc24b-07e4-4d42-8c30-7da1522afb92\")>,\n",
       " <selenium.webdriver.remote.webelement.WebElement (session=\"9b1b5387c786c5db308ec8fdde402189\", element=\"058d2c04-76f0-467e-9780-142d357da590\")>,\n",
       " <selenium.webdriver.remote.webelement.WebElement (session=\"9b1b5387c786c5db308ec8fdde402189\", element=\"7e56ff7b-bf44-4499-b5ec-ffba56006b6c\")>,\n",
       " <selenium.webdriver.remote.webelement.WebElement (session=\"9b1b5387c786c5db308ec8fdde402189\", element=\"5930aa8d-9d25-4d33-8d0d-3b64bf587e9d\")>,\n",
       " <selenium.webdriver.remote.webelement.WebElement (session=\"9b1b5387c786c5db308ec8fdde402189\", element=\"2bf27685-4766-4804-850e-c7bbe1f111d5\")>,\n",
       " <selenium.webdriver.remote.webelement.WebElement (session=\"9b1b5387c786c5db308ec8fdde402189\", element=\"f4e965d1-d97d-4438-8bf0-b7b66eb7172b\")>,\n",
       " <selenium.webdriver.remote.webelement.WebElement (session=\"9b1b5387c786c5db308ec8fdde402189\", element=\"e339c400-aba7-4e4a-b2a4-de97d0299e3f\")>,\n",
       " <selenium.webdriver.remote.webelement.WebElement (session=\"9b1b5387c786c5db308ec8fdde402189\", element=\"250f6cce-bc06-4ac4-a543-7927624cd17a\")>,\n",
       " <selenium.webdriver.remote.webelement.WebElement (session=\"9b1b5387c786c5db308ec8fdde402189\", element=\"be6ca3cd-fc0c-4bc3-bc8a-ec647a8840e2\")>,\n",
       " <selenium.webdriver.remote.webelement.WebElement (session=\"9b1b5387c786c5db308ec8fdde402189\", element=\"25c9655d-af76-44db-8701-f921e13e3097\")>,\n",
       " <selenium.webdriver.remote.webelement.WebElement (session=\"9b1b5387c786c5db308ec8fdde402189\", element=\"0f9c5877-1ba2-4c2c-85c9-7a0c2eeaaa7e\")>,\n",
       " <selenium.webdriver.remote.webelement.WebElement (session=\"9b1b5387c786c5db308ec8fdde402189\", element=\"f15ef039-f61d-4844-8843-816b31dd0da2\")>,\n",
       " <selenium.webdriver.remote.webelement.WebElement (session=\"9b1b5387c786c5db308ec8fdde402189\", element=\"65671c9a-fbdc-449a-9c64-c3d7852c0fc4\")>,\n",
       " <selenium.webdriver.remote.webelement.WebElement (session=\"9b1b5387c786c5db308ec8fdde402189\", element=\"be732f72-98cb-4285-b5af-d64aa4182923\")>,\n",
       " <selenium.webdriver.remote.webelement.WebElement (session=\"9b1b5387c786c5db308ec8fdde402189\", element=\"5c41a2c6-55e7-4460-88a7-86b21d3bd409\")>,\n",
       " <selenium.webdriver.remote.webelement.WebElement (session=\"9b1b5387c786c5db308ec8fdde402189\", element=\"b7f29918-7fa4-4212-824f-7486939595bf\")>,\n",
       " <selenium.webdriver.remote.webelement.WebElement (session=\"9b1b5387c786c5db308ec8fdde402189\", element=\"290a315b-e444-433e-a8b1-89cccaf25ed8\")>,\n",
       " <selenium.webdriver.remote.webelement.WebElement (session=\"9b1b5387c786c5db308ec8fdde402189\", element=\"5df9ad73-d97f-46e1-84b6-96a3ba9a7406\")>,\n",
       " <selenium.webdriver.remote.webelement.WebElement (session=\"9b1b5387c786c5db308ec8fdde402189\", element=\"2ee6bd89-4b67-4c0d-a5ff-11f84ba7435b\")>,\n",
       " <selenium.webdriver.remote.webelement.WebElement (session=\"9b1b5387c786c5db308ec8fdde402189\", element=\"4bead11f-60b2-4756-8349-6d44d7010b2d\")>,\n",
       " <selenium.webdriver.remote.webelement.WebElement (session=\"9b1b5387c786c5db308ec8fdde402189\", element=\"aa44a0fd-a7ab-4d60-8f5b-2408073e3203\")>]"
      ]
     },
     "execution_count": 61,
     "metadata": {},
     "output_type": "execute_result"
    }
   ],
   "source": [
    "prod_des= driver.find_elements_by_xpath('//a[@class=\"IRpwTa\"]')\n",
    "prod_des"
   ]
  },
  {
   "cell_type": "code",
   "execution_count": 62,
   "id": "2fdb2505",
   "metadata": {},
   "outputs": [
    {
     "data": {
      "text/plain": [
       "40"
      ]
     },
     "execution_count": 62,
     "metadata": {},
     "output_type": "execute_result"
    }
   ],
   "source": [
    "len(prod_des)"
   ]
  },
  {
   "cell_type": "code",
   "execution_count": 63,
   "id": "437626cd",
   "metadata": {},
   "outputs": [
    {
     "data": {
      "text/plain": [
       "40"
      ]
     },
     "execution_count": 63,
     "metadata": {},
     "output_type": "execute_result"
    }
   ],
   "source": [
    "description= []\n",
    "for i in prod_des:\n",
    "    description.append(i.text)\n",
    "len(description)"
   ]
  },
  {
   "cell_type": "code",
   "execution_count": 64,
   "id": "89dfa007",
   "metadata": {},
   "outputs": [
    {
     "data": {
      "text/plain": [
       "['Polarized, UV Protection Retro Square Sunglasses (53)',\n",
       " 'by Lenskart Polarized, UV Protection Round Sunglasses (...',\n",
       " 'UV Protection Round Sunglasses (54)',\n",
       " 'UV Protection, Polarized, Mirrored Rectangular Sunglass...',\n",
       " 'UV Protection, Polarized Wayfarer Sunglasses (Free Size...',\n",
       " 'UV Protection Rectangular Sunglasses (Free Size)',\n",
       " 'UV Protection, Polarized, Mirrored Round Sunglasses (Fr...',\n",
       " 'UV Protection, Gradient Retro Square Sunglasses (62)',\n",
       " 'UV Protection Wayfarer Sunglasses (50)',\n",
       " 'UV Protection Rectangular Sunglasses (Free Size)',\n",
       " 'UV Protection Round Sunglasses (54)',\n",
       " 'by Lenskart Polarized, UV Protection Round Sunglasses (...',\n",
       " 'Gradient, UV Protection Wayfarer Sunglasses (Free Size)',\n",
       " 'UV Protection Aviator Sunglasses (54)',\n",
       " 'UV Protection, Mirrored Retro Square Sunglasses (53)',\n",
       " 'by Lenskart Polarized, UV Protection Wayfarer Sunglasse...',\n",
       " 'Riding Glasses, UV Protection Oval Sunglasses (48)',\n",
       " 'UV Protection Aviator Sunglasses (54)',\n",
       " 'UV Protection, Polarized, Mirrored Rectangular Sunglass...',\n",
       " 'by Lenskart Polarized, UV Protection Wayfarer Sunglasse...',\n",
       " 'UV Protection Retro Square Sunglasses (Free Size)',\n",
       " 'UV Protection Round Sunglasses (53)',\n",
       " 'UV Protection Aviator Sunglasses (54)',\n",
       " 'by Lenskart Polarized, UV Protection Wayfarer Sunglasse...',\n",
       " 'UV Protection, Polarized, Mirrored Retro Square Sunglas...',\n",
       " 'UV Protection Retro Square Sunglasses (53)',\n",
       " 'UV Protection Aviator, Wayfarer Sunglasses (Free Size)',\n",
       " 'UV Protection Round Sunglasses (53)',\n",
       " 'UV Protection, Gradient Rectangular Sunglasses (Free Si...',\n",
       " 'UV Protection Round Sunglasses (54)',\n",
       " 'UV Protection Wayfarer Sunglasses (Free Size)',\n",
       " 'UV Protection, Mirrored Round Sunglasses (Free Size)',\n",
       " 'UV Protection, Mirrored Retro Square Sunglasses (53)',\n",
       " 'Mirrored, UV Protection Wayfarer Sunglasses (Free Size)',\n",
       " 'UV Protection Aviator Sunglasses (57)',\n",
       " 'UV Protection, Gradient Rectangular Sunglasses (Free Si...',\n",
       " 'UV Protection Round Sunglasses (Free Size)',\n",
       " 'UV Protection, Riding Glasses Rectangular, Wayfarer, Ov...',\n",
       " 'UV Protection Wayfarer Sunglasses (32)',\n",
       " 'by Lenskart Polarized, UV Protection Wayfarer Sunglasse...']"
      ]
     },
     "execution_count": 64,
     "metadata": {},
     "output_type": "execute_result"
    }
   ],
   "source": [
    "description"
   ]
  },
  {
   "cell_type": "code",
   "execution_count": 65,
   "id": "65a4f8fa",
   "metadata": {},
   "outputs": [
    {
     "data": {
      "text/plain": [
       "40"
      ]
     },
     "execution_count": 65,
     "metadata": {},
     "output_type": "execute_result"
    }
   ],
   "source": [
    "price_tag=driver.find_elements_by_xpath('//div[@class=\"_30jeq3\"]')\n",
    "len(price_tag)"
   ]
  },
  {
   "cell_type": "code",
   "execution_count": 66,
   "id": "b067afa8",
   "metadata": {},
   "outputs": [
    {
     "data": {
      "text/plain": [
       "40"
      ]
     },
     "execution_count": 66,
     "metadata": {},
     "output_type": "execute_result"
    }
   ],
   "source": [
    "price = []\n",
    "for i in price_tag:\n",
    "    price.append(i.text)\n",
    "len(price)"
   ]
  },
  {
   "cell_type": "code",
   "execution_count": 70,
   "id": "8612a88c",
   "metadata": {},
   "outputs": [
    {
     "data": {
      "text/plain": [
       "40"
      ]
     },
     "execution_count": 70,
     "metadata": {},
     "output_type": "execute_result"
    }
   ],
   "source": [
    "brand1=driver.find_elements_by_xpath('//div[@class=\"_2WkVRV\"]')\n",
    "len(brand1)"
   ]
  },
  {
   "cell_type": "code",
   "execution_count": 72,
   "id": "ed545f7d",
   "metadata": {},
   "outputs": [
    {
     "data": {
      "text/plain": [
       "['Badfella',\n",
       " 'VINCENT CHASE',\n",
       " 'Elligator',\n",
       " 'SHAAH COLLECTIONS',\n",
       " 'SUNBEE',\n",
       " 'Fastrack',\n",
       " 'SUNBEE',\n",
       " 'ROZZETTA CRAFT',\n",
       " 'SRPM',\n",
       " 'New Specs',\n",
       " 'kingsunglasses',\n",
       " 'VINCENT CHASE',\n",
       " 'Fastrack',\n",
       " 'PIRASO',\n",
       " 'PHENOMENAL',\n",
       " 'VINCENT CHASE',\n",
       " 'Johaena',\n",
       " 'PIRASO',\n",
       " 'SHAAH COLLECTIONS',\n",
       " 'VINCENT CHASE',\n",
       " 'PHENOMENAL',\n",
       " 'Elligator',\n",
       " 'PIRASO',\n",
       " 'VINCENT CHASE',\n",
       " 'SUNBEE',\n",
       " 'PHENOMENAL',\n",
       " 'DEIXELS',\n",
       " 'PHENOMENAL',\n",
       " 'ROZZETTA CRAFT',\n",
       " 'Elligator',\n",
       " 'Fastrack',\n",
       " 'PHENOMENAL',\n",
       " 'PHENOMENAL',\n",
       " 'kingsunglasses',\n",
       " 'GANSTA',\n",
       " 'ROZZETTA CRAFT',\n",
       " 'New Specs',\n",
       " 'maxa',\n",
       " 'PIRASO',\n",
       " 'VINCENT CHASE',\n",
       " 'Badfella',\n",
       " 'VINCENT CHASE',\n",
       " 'Elligator',\n",
       " 'SHAAH COLLECTIONS',\n",
       " 'SUNBEE',\n",
       " 'Fastrack',\n",
       " 'SUNBEE',\n",
       " 'ROZZETTA CRAFT',\n",
       " 'SRPM',\n",
       " 'New Specs',\n",
       " 'kingsunglasses',\n",
       " 'VINCENT CHASE',\n",
       " 'Fastrack',\n",
       " 'PIRASO',\n",
       " 'PHENOMENAL',\n",
       " 'VINCENT CHASE',\n",
       " 'Johaena',\n",
       " 'PIRASO',\n",
       " 'SHAAH COLLECTIONS',\n",
       " 'VINCENT CHASE',\n",
       " 'PHENOMENAL',\n",
       " 'Elligator',\n",
       " 'PIRASO',\n",
       " 'VINCENT CHASE',\n",
       " 'SUNBEE',\n",
       " 'PHENOMENAL',\n",
       " 'DEIXELS',\n",
       " 'PHENOMENAL',\n",
       " 'ROZZETTA CRAFT',\n",
       " 'Elligator',\n",
       " 'Fastrack',\n",
       " 'PHENOMENAL',\n",
       " 'PHENOMENAL',\n",
       " 'kingsunglasses',\n",
       " 'GANSTA',\n",
       " 'ROZZETTA CRAFT',\n",
       " 'New Specs',\n",
       " 'maxa',\n",
       " 'PIRASO',\n",
       " 'VINCENT CHASE']"
      ]
     },
     "execution_count": 72,
     "metadata": {},
     "output_type": "execute_result"
    }
   ],
   "source": [
    "for i in brand1:\n",
    "    brand_name.append(i.text)\n",
    "brand_name"
   ]
  },
  {
   "cell_type": "code",
   "execution_count": 73,
   "id": "d617a576",
   "metadata": {},
   "outputs": [
    {
     "data": {
      "text/plain": [
       "80"
      ]
     },
     "execution_count": 73,
     "metadata": {},
     "output_type": "execute_result"
    }
   ],
   "source": [
    "len(brand_name)"
   ]
  },
  {
   "cell_type": "code",
   "execution_count": 74,
   "id": "0f063171",
   "metadata": {},
   "outputs": [
    {
     "data": {
      "text/plain": [
       "[<selenium.webdriver.remote.webelement.WebElement (session=\"9b1b5387c786c5db308ec8fdde402189\", element=\"35df86a4-5b64-425c-8b19-0111bdc2944a\")>,\n",
       " <selenium.webdriver.remote.webelement.WebElement (session=\"9b1b5387c786c5db308ec8fdde402189\", element=\"30c82bc8-13f5-48d8-8525-29f207b3c087\")>,\n",
       " <selenium.webdriver.remote.webelement.WebElement (session=\"9b1b5387c786c5db308ec8fdde402189\", element=\"e5f322d7-a4a4-48cf-becc-3640638e9bb7\")>,\n",
       " <selenium.webdriver.remote.webelement.WebElement (session=\"9b1b5387c786c5db308ec8fdde402189\", element=\"6cd4bb06-724f-4ab7-8bd0-33fcc86ad30a\")>,\n",
       " <selenium.webdriver.remote.webelement.WebElement (session=\"9b1b5387c786c5db308ec8fdde402189\", element=\"0cf47d16-4dcb-4441-9ccf-e59af8e82709\")>,\n",
       " <selenium.webdriver.remote.webelement.WebElement (session=\"9b1b5387c786c5db308ec8fdde402189\", element=\"00769794-8b82-4694-8956-3fcbff836479\")>,\n",
       " <selenium.webdriver.remote.webelement.WebElement (session=\"9b1b5387c786c5db308ec8fdde402189\", element=\"dff3f925-2dc5-44a2-aad3-7c53b765512d\")>,\n",
       " <selenium.webdriver.remote.webelement.WebElement (session=\"9b1b5387c786c5db308ec8fdde402189\", element=\"453ae501-f967-4587-8836-b956331adc7f\")>,\n",
       " <selenium.webdriver.remote.webelement.WebElement (session=\"9b1b5387c786c5db308ec8fdde402189\", element=\"e792f298-2a1b-4f5e-be82-19b95332f6d3\")>,\n",
       " <selenium.webdriver.remote.webelement.WebElement (session=\"9b1b5387c786c5db308ec8fdde402189\", element=\"38344694-183f-425e-9b74-6368a52cd52f\")>,\n",
       " <selenium.webdriver.remote.webelement.WebElement (session=\"9b1b5387c786c5db308ec8fdde402189\", element=\"c06f3a38-1e6c-4b04-9944-675fad4bf7a2\")>,\n",
       " <selenium.webdriver.remote.webelement.WebElement (session=\"9b1b5387c786c5db308ec8fdde402189\", element=\"808f5657-2f9b-4a82-a4d7-ebd346f30793\")>,\n",
       " <selenium.webdriver.remote.webelement.WebElement (session=\"9b1b5387c786c5db308ec8fdde402189\", element=\"78b646cd-abe1-4614-a7aa-487209c3739b\")>,\n",
       " <selenium.webdriver.remote.webelement.WebElement (session=\"9b1b5387c786c5db308ec8fdde402189\", element=\"5c47ae6d-4d90-4b18-8039-5621e8bb91f1\")>,\n",
       " <selenium.webdriver.remote.webelement.WebElement (session=\"9b1b5387c786c5db308ec8fdde402189\", element=\"c21ffacd-f9e8-48ff-8f6a-c9a42d71d75d\")>,\n",
       " <selenium.webdriver.remote.webelement.WebElement (session=\"9b1b5387c786c5db308ec8fdde402189\", element=\"1f8038f8-e963-448d-8469-d90b1b4544b0\")>,\n",
       " <selenium.webdriver.remote.webelement.WebElement (session=\"9b1b5387c786c5db308ec8fdde402189\", element=\"81fd4b26-96b5-4fe0-94e8-e7878fdbdd3d\")>,\n",
       " <selenium.webdriver.remote.webelement.WebElement (session=\"9b1b5387c786c5db308ec8fdde402189\", element=\"4382d701-45f9-4830-a03b-77868525a780\")>,\n",
       " <selenium.webdriver.remote.webelement.WebElement (session=\"9b1b5387c786c5db308ec8fdde402189\", element=\"35c18e8b-20ab-4fa5-999e-5472a68da166\")>,\n",
       " <selenium.webdriver.remote.webelement.WebElement (session=\"9b1b5387c786c5db308ec8fdde402189\", element=\"802fc24b-07e4-4d42-8c30-7da1522afb92\")>,\n",
       " <selenium.webdriver.remote.webelement.WebElement (session=\"9b1b5387c786c5db308ec8fdde402189\", element=\"058d2c04-76f0-467e-9780-142d357da590\")>,\n",
       " <selenium.webdriver.remote.webelement.WebElement (session=\"9b1b5387c786c5db308ec8fdde402189\", element=\"7e56ff7b-bf44-4499-b5ec-ffba56006b6c\")>,\n",
       " <selenium.webdriver.remote.webelement.WebElement (session=\"9b1b5387c786c5db308ec8fdde402189\", element=\"5930aa8d-9d25-4d33-8d0d-3b64bf587e9d\")>,\n",
       " <selenium.webdriver.remote.webelement.WebElement (session=\"9b1b5387c786c5db308ec8fdde402189\", element=\"2bf27685-4766-4804-850e-c7bbe1f111d5\")>,\n",
       " <selenium.webdriver.remote.webelement.WebElement (session=\"9b1b5387c786c5db308ec8fdde402189\", element=\"f4e965d1-d97d-4438-8bf0-b7b66eb7172b\")>,\n",
       " <selenium.webdriver.remote.webelement.WebElement (session=\"9b1b5387c786c5db308ec8fdde402189\", element=\"e339c400-aba7-4e4a-b2a4-de97d0299e3f\")>,\n",
       " <selenium.webdriver.remote.webelement.WebElement (session=\"9b1b5387c786c5db308ec8fdde402189\", element=\"250f6cce-bc06-4ac4-a543-7927624cd17a\")>,\n",
       " <selenium.webdriver.remote.webelement.WebElement (session=\"9b1b5387c786c5db308ec8fdde402189\", element=\"be6ca3cd-fc0c-4bc3-bc8a-ec647a8840e2\")>,\n",
       " <selenium.webdriver.remote.webelement.WebElement (session=\"9b1b5387c786c5db308ec8fdde402189\", element=\"25c9655d-af76-44db-8701-f921e13e3097\")>,\n",
       " <selenium.webdriver.remote.webelement.WebElement (session=\"9b1b5387c786c5db308ec8fdde402189\", element=\"0f9c5877-1ba2-4c2c-85c9-7a0c2eeaaa7e\")>,\n",
       " <selenium.webdriver.remote.webelement.WebElement (session=\"9b1b5387c786c5db308ec8fdde402189\", element=\"f15ef039-f61d-4844-8843-816b31dd0da2\")>,\n",
       " <selenium.webdriver.remote.webelement.WebElement (session=\"9b1b5387c786c5db308ec8fdde402189\", element=\"65671c9a-fbdc-449a-9c64-c3d7852c0fc4\")>,\n",
       " <selenium.webdriver.remote.webelement.WebElement (session=\"9b1b5387c786c5db308ec8fdde402189\", element=\"be732f72-98cb-4285-b5af-d64aa4182923\")>,\n",
       " <selenium.webdriver.remote.webelement.WebElement (session=\"9b1b5387c786c5db308ec8fdde402189\", element=\"5c41a2c6-55e7-4460-88a7-86b21d3bd409\")>,\n",
       " <selenium.webdriver.remote.webelement.WebElement (session=\"9b1b5387c786c5db308ec8fdde402189\", element=\"b7f29918-7fa4-4212-824f-7486939595bf\")>,\n",
       " <selenium.webdriver.remote.webelement.WebElement (session=\"9b1b5387c786c5db308ec8fdde402189\", element=\"290a315b-e444-433e-a8b1-89cccaf25ed8\")>,\n",
       " <selenium.webdriver.remote.webelement.WebElement (session=\"9b1b5387c786c5db308ec8fdde402189\", element=\"5df9ad73-d97f-46e1-84b6-96a3ba9a7406\")>,\n",
       " <selenium.webdriver.remote.webelement.WebElement (session=\"9b1b5387c786c5db308ec8fdde402189\", element=\"2ee6bd89-4b67-4c0d-a5ff-11f84ba7435b\")>,\n",
       " <selenium.webdriver.remote.webelement.WebElement (session=\"9b1b5387c786c5db308ec8fdde402189\", element=\"4bead11f-60b2-4756-8349-6d44d7010b2d\")>,\n",
       " <selenium.webdriver.remote.webelement.WebElement (session=\"9b1b5387c786c5db308ec8fdde402189\", element=\"aa44a0fd-a7ab-4d60-8f5b-2408073e3203\")>]"
      ]
     },
     "execution_count": 74,
     "metadata": {},
     "output_type": "execute_result"
    }
   ],
   "source": [
    "prod_des= driver.find_elements_by_xpath('//a[@class=\"IRpwTa\"]')\n",
    "prod_des"
   ]
  },
  {
   "cell_type": "code",
   "execution_count": 75,
   "id": "04110a04",
   "metadata": {},
   "outputs": [],
   "source": [
    "for i in prod_des:\n",
    "    description.append(i.text)\n"
   ]
  },
  {
   "cell_type": "code",
   "execution_count": 77,
   "id": "18255ab4",
   "metadata": {},
   "outputs": [
    {
     "data": {
      "text/plain": [
       "80"
      ]
     },
     "execution_count": 77,
     "metadata": {},
     "output_type": "execute_result"
    }
   ],
   "source": [
    "len(description)"
   ]
  },
  {
   "cell_type": "code",
   "execution_count": 79,
   "id": "db49c4c6",
   "metadata": {},
   "outputs": [
    {
     "data": {
      "text/plain": [
       "80"
      ]
     },
     "execution_count": 79,
     "metadata": {},
     "output_type": "execute_result"
    }
   ],
   "source": [
    "price_tag=driver.find_elements_by_xpath('//div[@class=\"_30jeq3\"]')\n",
    "for i in  price_tag:\n",
    "    price.append(i.text)\n",
    "len(price)"
   ]
  },
  {
   "cell_type": "code",
   "execution_count": 81,
   "id": "e3782c76",
   "metadata": {},
   "outputs": [
    {
     "data": {
      "text/plain": [
       "120"
      ]
     },
     "execution_count": 81,
     "metadata": {},
     "output_type": "execute_result"
    }
   ],
   "source": [
    "brand=driver.find_elements_by_xpath('//div[@class=\"_2WkVRV\"]')\n",
    "for i in brand:\n",
    "    brand_name.append(i.text)\n",
    "\n",
    "prod_des= driver.find_elements_by_xpath('//a[@class=\"IRpwTa\"]')\n",
    "for i in prod_des:\n",
    "    description.append(i.text)\n",
    "\n",
    "    \n",
    "price_tag=driver.find_elements_by_xpath('//div[@class=\"_30jeq3\"]')\n",
    "for i in  price_tag:\n",
    "    price.append(i.text)\n",
    "len(brand_name)\n",
    "len(description)\n",
    "len(price)"
   ]
  },
  {
   "cell_type": "code",
   "execution_count": 82,
   "id": "7e7a7a8b",
   "metadata": {},
   "outputs": [
    {
     "data": {
      "text/plain": [
       "120"
      ]
     },
     "execution_count": 82,
     "metadata": {},
     "output_type": "execute_result"
    }
   ],
   "source": [
    "len(description)"
   ]
  },
  {
   "cell_type": "code",
   "execution_count": 83,
   "id": "af6a935a",
   "metadata": {},
   "outputs": [
    {
     "data": {
      "text/plain": [
       "120"
      ]
     },
     "execution_count": 83,
     "metadata": {},
     "output_type": "execute_result"
    }
   ],
   "source": [
    "len(price)"
   ]
  },
  {
   "cell_type": "code",
   "execution_count": 86,
   "id": "b2382d73",
   "metadata": {},
   "outputs": [],
   "source": [
    "#lets make data frame \n",
    "sunglasses = pd.DataFrame({'Brand': brand_name,\n",
    "                         'Product Description': description,\n",
    "                         'Price':price})\n"
   ]
  },
  {
   "cell_type": "code",
   "execution_count": 87,
   "id": "7a067106",
   "metadata": {},
   "outputs": [
    {
     "data": {
      "text/html": [
       "<div>\n",
       "<style scoped>\n",
       "    .dataframe tbody tr th:only-of-type {\n",
       "        vertical-align: middle;\n",
       "    }\n",
       "\n",
       "    .dataframe tbody tr th {\n",
       "        vertical-align: top;\n",
       "    }\n",
       "\n",
       "    .dataframe thead th {\n",
       "        text-align: right;\n",
       "    }\n",
       "</style>\n",
       "<table border=\"1\" class=\"dataframe\">\n",
       "  <thead>\n",
       "    <tr style=\"text-align: right;\">\n",
       "      <th></th>\n",
       "      <th>Brand</th>\n",
       "      <th>Product Description</th>\n",
       "      <th>Price</th>\n",
       "    </tr>\n",
       "  </thead>\n",
       "  <tbody>\n",
       "    <tr>\n",
       "      <th>0</th>\n",
       "      <td>Badfella</td>\n",
       "      <td>Polarized, UV Protection Retro Square Sunglass...</td>\n",
       "      <td>₹199</td>\n",
       "    </tr>\n",
       "    <tr>\n",
       "      <th>1</th>\n",
       "      <td>VINCENT CHASE</td>\n",
       "      <td>by Lenskart Polarized, UV Protection Round Sun...</td>\n",
       "      <td>₹1,179</td>\n",
       "    </tr>\n",
       "    <tr>\n",
       "      <th>2</th>\n",
       "      <td>Elligator</td>\n",
       "      <td>UV Protection Round Sunglasses (54)</td>\n",
       "      <td>₹248</td>\n",
       "    </tr>\n",
       "    <tr>\n",
       "      <th>3</th>\n",
       "      <td>SHAAH COLLECTIONS</td>\n",
       "      <td>UV Protection, Polarized, Mirrored Rectangular...</td>\n",
       "      <td>₹165</td>\n",
       "    </tr>\n",
       "    <tr>\n",
       "      <th>4</th>\n",
       "      <td>SUNBEE</td>\n",
       "      <td>UV Protection, Polarized Wayfarer Sunglasses (...</td>\n",
       "      <td>₹243</td>\n",
       "    </tr>\n",
       "    <tr>\n",
       "      <th>...</th>\n",
       "      <td>...</td>\n",
       "      <td>...</td>\n",
       "      <td>...</td>\n",
       "    </tr>\n",
       "    <tr>\n",
       "      <th>115</th>\n",
       "      <td>ROZZETTA CRAFT</td>\n",
       "      <td>UV Protection, Gradient Rectangular Sunglasses...</td>\n",
       "      <td>₹330</td>\n",
       "    </tr>\n",
       "    <tr>\n",
       "      <th>116</th>\n",
       "      <td>New Specs</td>\n",
       "      <td>UV Protection Round Sunglasses (Free Size)</td>\n",
       "      <td>₹232</td>\n",
       "    </tr>\n",
       "    <tr>\n",
       "      <th>117</th>\n",
       "      <td>maxa</td>\n",
       "      <td>UV Protection, Riding Glasses Rectangular, Way...</td>\n",
       "      <td>₹144</td>\n",
       "    </tr>\n",
       "    <tr>\n",
       "      <th>118</th>\n",
       "      <td>PIRASO</td>\n",
       "      <td>UV Protection Wayfarer Sunglasses (32)</td>\n",
       "      <td>₹225</td>\n",
       "    </tr>\n",
       "    <tr>\n",
       "      <th>119</th>\n",
       "      <td>VINCENT CHASE</td>\n",
       "      <td>by Lenskart Polarized, UV Protection Wayfarer ...</td>\n",
       "      <td>₹1,415</td>\n",
       "    </tr>\n",
       "  </tbody>\n",
       "</table>\n",
       "<p>120 rows × 3 columns</p>\n",
       "</div>"
      ],
      "text/plain": [
       "                 Brand                                Product Description  \\\n",
       "0             Badfella  Polarized, UV Protection Retro Square Sunglass...   \n",
       "1        VINCENT CHASE  by Lenskart Polarized, UV Protection Round Sun...   \n",
       "2            Elligator                UV Protection Round Sunglasses (54)   \n",
       "3    SHAAH COLLECTIONS  UV Protection, Polarized, Mirrored Rectangular...   \n",
       "4               SUNBEE  UV Protection, Polarized Wayfarer Sunglasses (...   \n",
       "..                 ...                                                ...   \n",
       "115     ROZZETTA CRAFT  UV Protection, Gradient Rectangular Sunglasses...   \n",
       "116          New Specs         UV Protection Round Sunglasses (Free Size)   \n",
       "117               maxa  UV Protection, Riding Glasses Rectangular, Way...   \n",
       "118             PIRASO             UV Protection Wayfarer Sunglasses (32)   \n",
       "119      VINCENT CHASE  by Lenskart Polarized, UV Protection Wayfarer ...   \n",
       "\n",
       "      Price  \n",
       "0      ₹199  \n",
       "1    ₹1,179  \n",
       "2      ₹248  \n",
       "3      ₹165  \n",
       "4      ₹243  \n",
       "..      ...  \n",
       "115    ₹330  \n",
       "116    ₹232  \n",
       "117    ₹144  \n",
       "118    ₹225  \n",
       "119  ₹1,415  \n",
       "\n",
       "[120 rows x 3 columns]"
      ]
     },
     "execution_count": 87,
     "metadata": {},
     "output_type": "execute_result"
    }
   ],
   "source": [
    "sunglasses"
   ]
  },
  {
   "cell_type": "code",
   "execution_count": 95,
   "id": "0b33ea22",
   "metadata": {},
   "outputs": [],
   "source": [
    "sunglasses.to_csv('sunglasses.csv',header=True,index=False)"
   ]
  },
  {
   "cell_type": "markdown",
   "id": "5187cb58",
   "metadata": {},
   "source": [
    "# 100 reviews data from flipkart.com for iphone11 phone"
   ]
  },
  {
   "cell_type": "code",
   "execution_count": 1,
   "id": "8f4b4169",
   "metadata": {},
   "outputs": [],
   "source": [
    "import selenium \n",
    "from selenium import webdriver\n",
    "import pandas as pd\n",
    "import warnings\n",
    "warnings.filterwarnings('ignore')"
   ]
  },
  {
   "cell_type": "code",
   "execution_count": 2,
   "id": "23778ec2",
   "metadata": {},
   "outputs": [],
   "source": [
    "driver = webdriver.Chrome(r\"C:\\Users\\JITENDER\\Desktop\\Data Science\\Datatraind project\\chromedriver_win32\\chromedriver.exe\")"
   ]
  },
  {
   "cell_type": "code",
   "execution_count": 3,
   "id": "21626ea8",
   "metadata": {},
   "outputs": [],
   "source": [
    "#get url\n",
    "driver.get(\"https://www.flipkart.com/apple-iphone-11-black-64-gb-includes- earpods-power- adapter/p/itm0f37c2240b217?pid=MOBFKCTSVZAXUHGR&lid=LSTMOBFKC TSVZAXUHGREPBFGI&marketplace\")\n"
   ]
  },
  {
   "cell_type": "code",
   "execution_count": 13,
   "id": "2b2ff2a1",
   "metadata": {},
   "outputs": [
    {
     "data": {
      "text/plain": [
       "<selenium.webdriver.remote.webelement.WebElement (session=\"8b4537cb56ed63751a03ae392e12910f\", element=\"75c3ad47-b1c1-41ee-ac43-229edae64a5f\")>"
      ]
     },
     "execution_count": 13,
     "metadata": {},
     "output_type": "execute_result"
    }
   ],
   "source": [
    "all_rev=driver.find_element_by_xpath('/html/body/div[1]/div/div[3]/div[1]/div[2]/div[9]/div/div/div[5]/div/a/div/span')\n",
    "all_rev"
   ]
  },
  {
   "cell_type": "code",
   "execution_count": 14,
   "id": "0d4ad375",
   "metadata": {},
   "outputs": [],
   "source": [
    "all_rev.click()"
   ]
  },
  {
   "cell_type": "code",
   "execution_count": 15,
   "id": "cd4a92b1",
   "metadata": {},
   "outputs": [
    {
     "data": {
      "text/plain": [
       "[<selenium.webdriver.remote.webelement.WebElement (session=\"8b4537cb56ed63751a03ae392e12910f\", element=\"74355455-039b-457a-b2f4-f9ab60708364\")>,\n",
       " <selenium.webdriver.remote.webelement.WebElement (session=\"8b4537cb56ed63751a03ae392e12910f\", element=\"35afb675-8cd4-46f7-8b7b-66a455a4c451\")>,\n",
       " <selenium.webdriver.remote.webelement.WebElement (session=\"8b4537cb56ed63751a03ae392e12910f\", element=\"60f9caad-6c64-4493-ace9-e0c66897c40f\")>,\n",
       " <selenium.webdriver.remote.webelement.WebElement (session=\"8b4537cb56ed63751a03ae392e12910f\", element=\"82c5572d-0fbd-425e-a957-bd0a022f5f2f\")>,\n",
       " <selenium.webdriver.remote.webelement.WebElement (session=\"8b4537cb56ed63751a03ae392e12910f\", element=\"e8ce8ef8-5bdd-43a8-8087-c2f8cd640e24\")>,\n",
       " <selenium.webdriver.remote.webelement.WebElement (session=\"8b4537cb56ed63751a03ae392e12910f\", element=\"5f65f5cb-0b16-4e0c-b6a2-3ecd1a7eaf41\")>,\n",
       " <selenium.webdriver.remote.webelement.WebElement (session=\"8b4537cb56ed63751a03ae392e12910f\", element=\"7e23e3aa-d781-45e8-83e6-bb6de519a4e3\")>,\n",
       " <selenium.webdriver.remote.webelement.WebElement (session=\"8b4537cb56ed63751a03ae392e12910f\", element=\"40889747-8d7b-4b25-9f10-74035f461130\")>,\n",
       " <selenium.webdriver.remote.webelement.WebElement (session=\"8b4537cb56ed63751a03ae392e12910f\", element=\"8eafff44-fa05-4120-b7c4-a878fd24ff71\")>,\n",
       " <selenium.webdriver.remote.webelement.WebElement (session=\"8b4537cb56ed63751a03ae392e12910f\", element=\"29a92539-ff24-4b7b-9236-af172908d5ae\")>]"
      ]
     },
     "execution_count": 15,
     "metadata": {},
     "output_type": "execute_result"
    }
   ],
   "source": [
    "rating = driver.find_elements_by_xpath('//div[@class=\"_3LWZlK _1BLPMq\"]')\n",
    "rating"
   ]
  },
  {
   "cell_type": "code",
   "execution_count": 16,
   "id": "bee8317c",
   "metadata": {},
   "outputs": [
    {
     "data": {
      "text/plain": [
       "[<selenium.webdriver.remote.webelement.WebElement (session=\"8b4537cb56ed63751a03ae392e12910f\", element=\"24aa0db9-2ee7-490a-acb8-ce1bf62ab424\")>,\n",
       " <selenium.webdriver.remote.webelement.WebElement (session=\"8b4537cb56ed63751a03ae392e12910f\", element=\"c3fec328-a499-41ef-b8c4-b565e18e9ad1\")>,\n",
       " <selenium.webdriver.remote.webelement.WebElement (session=\"8b4537cb56ed63751a03ae392e12910f\", element=\"7c9eaa10-60a7-47b5-9869-5b6daedc6e32\")>,\n",
       " <selenium.webdriver.remote.webelement.WebElement (session=\"8b4537cb56ed63751a03ae392e12910f\", element=\"be32b2cd-918f-4a77-acbd-69c34f96ce72\")>,\n",
       " <selenium.webdriver.remote.webelement.WebElement (session=\"8b4537cb56ed63751a03ae392e12910f\", element=\"c525a3f8-fd31-4935-9f99-9258d9879e33\")>,\n",
       " <selenium.webdriver.remote.webelement.WebElement (session=\"8b4537cb56ed63751a03ae392e12910f\", element=\"0f37e37d-f089-40eb-a158-23fc137d9cdc\")>,\n",
       " <selenium.webdriver.remote.webelement.WebElement (session=\"8b4537cb56ed63751a03ae392e12910f\", element=\"a0b43064-f253-46ce-9396-63449b2b8ed5\")>,\n",
       " <selenium.webdriver.remote.webelement.WebElement (session=\"8b4537cb56ed63751a03ae392e12910f\", element=\"6e4da8af-a582-486c-91bb-5c5f0c4f9baf\")>,\n",
       " <selenium.webdriver.remote.webelement.WebElement (session=\"8b4537cb56ed63751a03ae392e12910f\", element=\"6fd345ea-3eac-4f99-bbe7-28de3f0eaac3\")>,\n",
       " <selenium.webdriver.remote.webelement.WebElement (session=\"8b4537cb56ed63751a03ae392e12910f\", element=\"911fd72c-48f5-487f-beea-4f6a45ff01ce\")>]"
      ]
     },
     "execution_count": 16,
     "metadata": {},
     "output_type": "execute_result"
    }
   ],
   "source": [
    "review_summ=driver.find_elements_by_xpath('//p[@class=\"_2-N8zT\"]')\n",
    "review_summ"
   ]
  },
  {
   "cell_type": "code",
   "execution_count": 17,
   "id": "aebc551b",
   "metadata": {},
   "outputs": [
    {
     "data": {
      "text/plain": [
       "[<selenium.webdriver.remote.webelement.WebElement (session=\"8b4537cb56ed63751a03ae392e12910f\", element=\"d90f4ae3-f8e8-44b7-a9b7-5d739c13e0dd\")>,\n",
       " <selenium.webdriver.remote.webelement.WebElement (session=\"8b4537cb56ed63751a03ae392e12910f\", element=\"0123f436-9cca-4fba-9387-5b6633ffc660\")>,\n",
       " <selenium.webdriver.remote.webelement.WebElement (session=\"8b4537cb56ed63751a03ae392e12910f\", element=\"a0afea00-7495-4fc7-b00a-44250a03f92a\")>,\n",
       " <selenium.webdriver.remote.webelement.WebElement (session=\"8b4537cb56ed63751a03ae392e12910f\", element=\"27a3f5d3-7426-4afc-8d97-aa810943bf6b\")>,\n",
       " <selenium.webdriver.remote.webelement.WebElement (session=\"8b4537cb56ed63751a03ae392e12910f\", element=\"39691ec0-fc2d-4b7a-83e2-03aafa81468a\")>,\n",
       " <selenium.webdriver.remote.webelement.WebElement (session=\"8b4537cb56ed63751a03ae392e12910f\", element=\"e3f104d9-473f-41e0-a030-ba766efb334b\")>,\n",
       " <selenium.webdriver.remote.webelement.WebElement (session=\"8b4537cb56ed63751a03ae392e12910f\", element=\"eff0a82f-a01c-4d1f-81ff-3795054469ff\")>,\n",
       " <selenium.webdriver.remote.webelement.WebElement (session=\"8b4537cb56ed63751a03ae392e12910f\", element=\"e4e7f25d-2de9-4c94-bd90-a8aa91dee9ce\")>,\n",
       " <selenium.webdriver.remote.webelement.WebElement (session=\"8b4537cb56ed63751a03ae392e12910f\", element=\"2c821590-01ea-4cc2-8493-9c7433385c73\")>,\n",
       " <selenium.webdriver.remote.webelement.WebElement (session=\"8b4537cb56ed63751a03ae392e12910f\", element=\"27bdc4b1-5697-4b7e-9721-670917d52216\")>]"
      ]
     },
     "execution_count": 17,
     "metadata": {},
     "output_type": "execute_result"
    }
   ],
   "source": [
    "full_review = driver.find_elements_by_xpath('//div[@class=\"t-ZTKy\"]')\n",
    "full_review"
   ]
  },
  {
   "cell_type": "code",
   "execution_count": 18,
   "id": "53c6d5dd",
   "metadata": {},
   "outputs": [
    {
     "data": {
      "text/plain": [
       "10"
      ]
     },
     "execution_count": 18,
     "metadata": {},
     "output_type": "execute_result"
    }
   ],
   "source": [
    "rate = []\n",
    "for i in rating:\n",
    "    rate.append(i.text)\n",
    "len(rate)"
   ]
  },
  {
   "cell_type": "code",
   "execution_count": 19,
   "id": "f708be67",
   "metadata": {},
   "outputs": [
    {
     "data": {
      "text/plain": [
       "(10, 10)"
      ]
     },
     "execution_count": 19,
     "metadata": {},
     "output_type": "execute_result"
    }
   ],
   "source": [
    "short_review = []\n",
    "for i in review_summ:\n",
    "    short_review.append(i.text)\n",
    "\n",
    "review=[]\n",
    "for i in full_review:\n",
    "    review.append(i.text)\n",
    "len(short_review),len(review)"
   ]
  },
  {
   "cell_type": "code",
   "execution_count": 20,
   "id": "17eca55b",
   "metadata": {},
   "outputs": [
    {
     "data": {
      "text/plain": [
       "<selenium.webdriver.remote.webelement.WebElement (session=\"8b4537cb56ed63751a03ae392e12910f\", element=\"a9aa7877-a40b-4a2e-bcf6-c5881102fd5d\")>"
      ]
     },
     "execution_count": 20,
     "metadata": {},
     "output_type": "execute_result"
    }
   ],
   "source": [
    "next=driver.find_element_by_xpath('/html/body/div[1]/div/div[3]/div/div/div[2]/div[13]/div/div/nav/a[11]/span')\n",
    "next"
   ]
  },
  {
   "cell_type": "code",
   "execution_count": 22,
   "id": "fe75b4a1",
   "metadata": {},
   "outputs": [
    {
     "ename": "StaleElementReferenceException",
     "evalue": "Message: stale element reference: element is not attached to the page document\n  (Session info: chrome=98.0.4758.82)\nStacktrace:\nBacktrace:\n\tOrdinal0 [0x01027AC3+2587331]\n\tOrdinal0 [0x00FBADD1+2141649]\n\tOrdinal0 [0x00EB3BB8+1063864]\n\tOrdinal0 [0x00EB63D7+1074135]\n\tOrdinal0 [0x00EB629E+1073822]\n\tOrdinal0 [0x00EB6510+1074448]\n\tOrdinal0 [0x00EE1A8C+1251980]\n\tOrdinal0 [0x00ED6CF6+1207542]\n\tOrdinal0 [0x00EF868C+1345164]\n\tOrdinal0 [0x00ED67A4+1206180]\n\tOrdinal0 [0x00EF87E4+1345508]\n\tOrdinal0 [0x00F08A0A+1411594]\n\tOrdinal0 [0x00EF84A6+1344678]\n\tOrdinal0 [0x00ED53F6+1201142]\n\tOrdinal0 [0x00ED62E6+1204966]\n\tGetHandleVerifier [0x011CDF22+1680738]\n\tGetHandleVerifier [0x01280DBC+2413564]\n\tGetHandleVerifier [0x010BD151+563089]\n\tGetHandleVerifier [0x010BBF13+558419]\n\tOrdinal0 [0x00FC081E+2164766]\n\tOrdinal0 [0x00FC5508+2184456]\n\tOrdinal0 [0x00FC5650+2184784]\n\tOrdinal0 [0x00FCF5BC+2225596]\n\tBaseThreadInitThunk [0x75BD3744+36]\n\tRtlSetCurrentTransaction [0x778D9E54+212]\n\tRtlSetCurrentTransaction [0x778D9E1F+159]\n",
     "output_type": "error",
     "traceback": [
      "\u001b[1;31m---------------------------------------------------------------------------\u001b[0m",
      "\u001b[1;31mStaleElementReferenceException\u001b[0m            Traceback (most recent call last)",
      "\u001b[1;32m<ipython-input-22-9bf60cdb4ef9>\u001b[0m in \u001b[0;36m<module>\u001b[1;34m\u001b[0m\n\u001b[1;32m----> 1\u001b[1;33m \u001b[0mnext\u001b[0m\u001b[1;33m.\u001b[0m\u001b[0mclick\u001b[0m\u001b[1;33m(\u001b[0m\u001b[1;33m)\u001b[0m\u001b[1;33m\u001b[0m\u001b[1;33m\u001b[0m\u001b[0m\n\u001b[0m",
      "\u001b[1;32m~\\anaconda3\\lib\\site-packages\\selenium\\webdriver\\remote\\webelement.py\u001b[0m in \u001b[0;36mclick\u001b[1;34m(self)\u001b[0m\n\u001b[0;32m     79\u001b[0m     \u001b[1;32mdef\u001b[0m \u001b[0mclick\u001b[0m\u001b[1;33m(\u001b[0m\u001b[0mself\u001b[0m\u001b[1;33m)\u001b[0m \u001b[1;33m->\u001b[0m \u001b[1;32mNone\u001b[0m\u001b[1;33m:\u001b[0m\u001b[1;33m\u001b[0m\u001b[1;33m\u001b[0m\u001b[0m\n\u001b[0;32m     80\u001b[0m         \u001b[1;34m\"\"\"Clicks the element.\"\"\"\u001b[0m\u001b[1;33m\u001b[0m\u001b[1;33m\u001b[0m\u001b[0m\n\u001b[1;32m---> 81\u001b[1;33m         \u001b[0mself\u001b[0m\u001b[1;33m.\u001b[0m\u001b[0m_execute\u001b[0m\u001b[1;33m(\u001b[0m\u001b[0mCommand\u001b[0m\u001b[1;33m.\u001b[0m\u001b[0mCLICK_ELEMENT\u001b[0m\u001b[1;33m)\u001b[0m\u001b[1;33m\u001b[0m\u001b[1;33m\u001b[0m\u001b[0m\n\u001b[0m\u001b[0;32m     82\u001b[0m \u001b[1;33m\u001b[0m\u001b[0m\n\u001b[0;32m     83\u001b[0m     \u001b[1;32mdef\u001b[0m \u001b[0msubmit\u001b[0m\u001b[1;33m(\u001b[0m\u001b[0mself\u001b[0m\u001b[1;33m)\u001b[0m\u001b[1;33m:\u001b[0m\u001b[1;33m\u001b[0m\u001b[1;33m\u001b[0m\u001b[0m\n",
      "\u001b[1;32m~\\anaconda3\\lib\\site-packages\\selenium\\webdriver\\remote\\webelement.py\u001b[0m in \u001b[0;36m_execute\u001b[1;34m(self, command, params)\u001b[0m\n\u001b[0;32m    708\u001b[0m             \u001b[0mparams\u001b[0m \u001b[1;33m=\u001b[0m \u001b[1;33m{\u001b[0m\u001b[1;33m}\u001b[0m\u001b[1;33m\u001b[0m\u001b[1;33m\u001b[0m\u001b[0m\n\u001b[0;32m    709\u001b[0m         \u001b[0mparams\u001b[0m\u001b[1;33m[\u001b[0m\u001b[1;34m'id'\u001b[0m\u001b[1;33m]\u001b[0m \u001b[1;33m=\u001b[0m \u001b[0mself\u001b[0m\u001b[1;33m.\u001b[0m\u001b[0m_id\u001b[0m\u001b[1;33m\u001b[0m\u001b[1;33m\u001b[0m\u001b[0m\n\u001b[1;32m--> 710\u001b[1;33m         \u001b[1;32mreturn\u001b[0m \u001b[0mself\u001b[0m\u001b[1;33m.\u001b[0m\u001b[0m_parent\u001b[0m\u001b[1;33m.\u001b[0m\u001b[0mexecute\u001b[0m\u001b[1;33m(\u001b[0m\u001b[0mcommand\u001b[0m\u001b[1;33m,\u001b[0m \u001b[0mparams\u001b[0m\u001b[1;33m)\u001b[0m\u001b[1;33m\u001b[0m\u001b[1;33m\u001b[0m\u001b[0m\n\u001b[0m\u001b[0;32m    711\u001b[0m \u001b[1;33m\u001b[0m\u001b[0m\n\u001b[0;32m    712\u001b[0m     \u001b[1;32mdef\u001b[0m \u001b[0mfind_element\u001b[0m\u001b[1;33m(\u001b[0m\u001b[0mself\u001b[0m\u001b[1;33m,\u001b[0m \u001b[0mby\u001b[0m\u001b[1;33m=\u001b[0m\u001b[0mBy\u001b[0m\u001b[1;33m.\u001b[0m\u001b[0mID\u001b[0m\u001b[1;33m,\u001b[0m \u001b[0mvalue\u001b[0m\u001b[1;33m=\u001b[0m\u001b[1;32mNone\u001b[0m\u001b[1;33m)\u001b[0m\u001b[1;33m:\u001b[0m\u001b[1;33m\u001b[0m\u001b[1;33m\u001b[0m\u001b[0m\n",
      "\u001b[1;32m~\\anaconda3\\lib\\site-packages\\selenium\\webdriver\\remote\\webdriver.py\u001b[0m in \u001b[0;36mexecute\u001b[1;34m(self, driver_command, params)\u001b[0m\n\u001b[0;32m    422\u001b[0m         \u001b[0mresponse\u001b[0m \u001b[1;33m=\u001b[0m \u001b[0mself\u001b[0m\u001b[1;33m.\u001b[0m\u001b[0mcommand_executor\u001b[0m\u001b[1;33m.\u001b[0m\u001b[0mexecute\u001b[0m\u001b[1;33m(\u001b[0m\u001b[0mdriver_command\u001b[0m\u001b[1;33m,\u001b[0m \u001b[0mparams\u001b[0m\u001b[1;33m)\u001b[0m\u001b[1;33m\u001b[0m\u001b[1;33m\u001b[0m\u001b[0m\n\u001b[0;32m    423\u001b[0m         \u001b[1;32mif\u001b[0m \u001b[0mresponse\u001b[0m\u001b[1;33m:\u001b[0m\u001b[1;33m\u001b[0m\u001b[1;33m\u001b[0m\u001b[0m\n\u001b[1;32m--> 424\u001b[1;33m             \u001b[0mself\u001b[0m\u001b[1;33m.\u001b[0m\u001b[0merror_handler\u001b[0m\u001b[1;33m.\u001b[0m\u001b[0mcheck_response\u001b[0m\u001b[1;33m(\u001b[0m\u001b[0mresponse\u001b[0m\u001b[1;33m)\u001b[0m\u001b[1;33m\u001b[0m\u001b[1;33m\u001b[0m\u001b[0m\n\u001b[0m\u001b[0;32m    425\u001b[0m             response['value'] = self._unwrap_value(\n\u001b[0;32m    426\u001b[0m                 response.get('value', None))\n",
      "\u001b[1;32m~\\anaconda3\\lib\\site-packages\\selenium\\webdriver\\remote\\errorhandler.py\u001b[0m in \u001b[0;36mcheck_response\u001b[1;34m(self, response)\u001b[0m\n\u001b[0;32m    245\u001b[0m                 \u001b[0malert_text\u001b[0m \u001b[1;33m=\u001b[0m \u001b[0mvalue\u001b[0m\u001b[1;33m[\u001b[0m\u001b[1;34m'alert'\u001b[0m\u001b[1;33m]\u001b[0m\u001b[1;33m.\u001b[0m\u001b[0mget\u001b[0m\u001b[1;33m(\u001b[0m\u001b[1;34m'text'\u001b[0m\u001b[1;33m)\u001b[0m\u001b[1;33m\u001b[0m\u001b[1;33m\u001b[0m\u001b[0m\n\u001b[0;32m    246\u001b[0m             \u001b[1;32mraise\u001b[0m \u001b[0mexception_class\u001b[0m\u001b[1;33m(\u001b[0m\u001b[0mmessage\u001b[0m\u001b[1;33m,\u001b[0m \u001b[0mscreen\u001b[0m\u001b[1;33m,\u001b[0m \u001b[0mstacktrace\u001b[0m\u001b[1;33m,\u001b[0m \u001b[0malert_text\u001b[0m\u001b[1;33m)\u001b[0m  \u001b[1;31m# type: ignore[call-arg]  # mypy is not smart enough here\u001b[0m\u001b[1;33m\u001b[0m\u001b[1;33m\u001b[0m\u001b[0m\n\u001b[1;32m--> 247\u001b[1;33m         \u001b[1;32mraise\u001b[0m \u001b[0mexception_class\u001b[0m\u001b[1;33m(\u001b[0m\u001b[0mmessage\u001b[0m\u001b[1;33m,\u001b[0m \u001b[0mscreen\u001b[0m\u001b[1;33m,\u001b[0m \u001b[0mstacktrace\u001b[0m\u001b[1;33m)\u001b[0m\u001b[1;33m\u001b[0m\u001b[1;33m\u001b[0m\u001b[0m\n\u001b[0m\u001b[0;32m    248\u001b[0m \u001b[1;33m\u001b[0m\u001b[0m\n\u001b[0;32m    249\u001b[0m     \u001b[1;32mdef\u001b[0m \u001b[0m_value_or_default\u001b[0m\u001b[1;33m(\u001b[0m\u001b[0mself\u001b[0m\u001b[1;33m,\u001b[0m \u001b[0mobj\u001b[0m\u001b[1;33m:\u001b[0m \u001b[0mMapping\u001b[0m\u001b[1;33m[\u001b[0m\u001b[0m_KT\u001b[0m\u001b[1;33m,\u001b[0m \u001b[0m_VT\u001b[0m\u001b[1;33m]\u001b[0m\u001b[1;33m,\u001b[0m \u001b[0mkey\u001b[0m\u001b[1;33m:\u001b[0m \u001b[0m_KT\u001b[0m\u001b[1;33m,\u001b[0m \u001b[0mdefault\u001b[0m\u001b[1;33m:\u001b[0m \u001b[0m_VT\u001b[0m\u001b[1;33m)\u001b[0m \u001b[1;33m->\u001b[0m \u001b[0m_VT\u001b[0m\u001b[1;33m:\u001b[0m\u001b[1;33m\u001b[0m\u001b[1;33m\u001b[0m\u001b[0m\n",
      "\u001b[1;31mStaleElementReferenceException\u001b[0m: Message: stale element reference: element is not attached to the page document\n  (Session info: chrome=98.0.4758.82)\nStacktrace:\nBacktrace:\n\tOrdinal0 [0x01027AC3+2587331]\n\tOrdinal0 [0x00FBADD1+2141649]\n\tOrdinal0 [0x00EB3BB8+1063864]\n\tOrdinal0 [0x00EB63D7+1074135]\n\tOrdinal0 [0x00EB629E+1073822]\n\tOrdinal0 [0x00EB6510+1074448]\n\tOrdinal0 [0x00EE1A8C+1251980]\n\tOrdinal0 [0x00ED6CF6+1207542]\n\tOrdinal0 [0x00EF868C+1345164]\n\tOrdinal0 [0x00ED67A4+1206180]\n\tOrdinal0 [0x00EF87E4+1345508]\n\tOrdinal0 [0x00F08A0A+1411594]\n\tOrdinal0 [0x00EF84A6+1344678]\n\tOrdinal0 [0x00ED53F6+1201142]\n\tOrdinal0 [0x00ED62E6+1204966]\n\tGetHandleVerifier [0x011CDF22+1680738]\n\tGetHandleVerifier [0x01280DBC+2413564]\n\tGetHandleVerifier [0x010BD151+563089]\n\tGetHandleVerifier [0x010BBF13+558419]\n\tOrdinal0 [0x00FC081E+2164766]\n\tOrdinal0 [0x00FC5508+2184456]\n\tOrdinal0 [0x00FC5650+2184784]\n\tOrdinal0 [0x00FCF5BC+2225596]\n\tBaseThreadInitThunk [0x75BD3744+36]\n\tRtlSetCurrentTransaction [0x778D9E54+212]\n\tRtlSetCurrentTransaction [0x778D9E1F+159]\n"
     ]
    }
   ],
   "source": [
    "next.click()"
   ]
  },
  {
   "cell_type": "code",
   "execution_count": 21,
   "id": "524f0957",
   "metadata": {},
   "outputs": [
    {
     "ename": "StaleElementReferenceException",
     "evalue": "Message: stale element reference: element is not attached to the page document\n  (Session info: chrome=98.0.4758.82)\nStacktrace:\nBacktrace:\n\tOrdinal0 [0x01027AC3+2587331]\n\tOrdinal0 [0x00FBADD1+2141649]\n\tOrdinal0 [0x00EB3BB8+1063864]\n\tOrdinal0 [0x00EB63D7+1074135]\n\tOrdinal0 [0x00EB629E+1073822]\n\tOrdinal0 [0x00EB6510+1074448]\n\tOrdinal0 [0x00EDBB70+1227632]\n\tOrdinal0 [0x00EF868C+1345164]\n\tOrdinal0 [0x00ED67A4+1206180]\n\tOrdinal0 [0x00EF87E4+1345508]\n\tOrdinal0 [0x00F08A0A+1411594]\n\tOrdinal0 [0x00EF84A6+1344678]\n\tOrdinal0 [0x00ED53F6+1201142]\n\tOrdinal0 [0x00ED62E6+1204966]\n\tGetHandleVerifier [0x011CDF22+1680738]\n\tGetHandleVerifier [0x01280DBC+2413564]\n\tGetHandleVerifier [0x010BD151+563089]\n\tGetHandleVerifier [0x010BBF13+558419]\n\tOrdinal0 [0x00FC081E+2164766]\n\tOrdinal0 [0x00FC5508+2184456]\n\tOrdinal0 [0x00FC5650+2184784]\n\tOrdinal0 [0x00FCF5BC+2225596]\n\tBaseThreadInitThunk [0x75BD3744+36]\n\tRtlSetCurrentTransaction [0x778D9E54+212]\n\tRtlSetCurrentTransaction [0x778D9E1F+159]\n",
     "output_type": "error",
     "traceback": [
      "\u001b[1;31m---------------------------------------------------------------------------\u001b[0m",
      "\u001b[1;31mStaleElementReferenceException\u001b[0m            Traceback (most recent call last)",
      "\u001b[1;32m<ipython-input-21-a6d7be6b967b>\u001b[0m in \u001b[0;36m<module>\u001b[1;34m\u001b[0m\n\u001b[0;32m     12\u001b[0m \u001b[1;33m\u001b[0m\u001b[0m\n\u001b[0;32m     13\u001b[0m \u001b[1;32mfor\u001b[0m \u001b[0mi\u001b[0m \u001b[1;32min\u001b[0m \u001b[0mreview_summ\u001b[0m\u001b[1;33m:\u001b[0m\u001b[1;33m\u001b[0m\u001b[1;33m\u001b[0m\u001b[0m\n\u001b[1;32m---> 14\u001b[1;33m     \u001b[0mshort_review\u001b[0m\u001b[1;33m.\u001b[0m\u001b[0mappend\u001b[0m\u001b[1;33m(\u001b[0m\u001b[0mi\u001b[0m\u001b[1;33m.\u001b[0m\u001b[0mtext\u001b[0m\u001b[1;33m)\u001b[0m\u001b[1;33m\u001b[0m\u001b[1;33m\u001b[0m\u001b[0m\n\u001b[0m\u001b[0;32m     15\u001b[0m \u001b[1;33m\u001b[0m\u001b[0m\n\u001b[0;32m     16\u001b[0m \u001b[1;32mfor\u001b[0m \u001b[0mi\u001b[0m \u001b[1;32min\u001b[0m \u001b[0mfull_review\u001b[0m\u001b[1;33m:\u001b[0m\u001b[1;33m\u001b[0m\u001b[1;33m\u001b[0m\u001b[0m\n",
      "\u001b[1;32m~\\anaconda3\\lib\\site-packages\\selenium\\webdriver\\remote\\webelement.py\u001b[0m in \u001b[0;36mtext\u001b[1;34m(self)\u001b[0m\n\u001b[0;32m     75\u001b[0m     \u001b[1;32mdef\u001b[0m \u001b[0mtext\u001b[0m\u001b[1;33m(\u001b[0m\u001b[0mself\u001b[0m\u001b[1;33m)\u001b[0m \u001b[1;33m->\u001b[0m \u001b[0mstr\u001b[0m\u001b[1;33m:\u001b[0m\u001b[1;33m\u001b[0m\u001b[1;33m\u001b[0m\u001b[0m\n\u001b[0;32m     76\u001b[0m         \u001b[1;34m\"\"\"The text of the element.\"\"\"\u001b[0m\u001b[1;33m\u001b[0m\u001b[1;33m\u001b[0m\u001b[0m\n\u001b[1;32m---> 77\u001b[1;33m         \u001b[1;32mreturn\u001b[0m \u001b[0mself\u001b[0m\u001b[1;33m.\u001b[0m\u001b[0m_execute\u001b[0m\u001b[1;33m(\u001b[0m\u001b[0mCommand\u001b[0m\u001b[1;33m.\u001b[0m\u001b[0mGET_ELEMENT_TEXT\u001b[0m\u001b[1;33m)\u001b[0m\u001b[1;33m[\u001b[0m\u001b[1;34m'value'\u001b[0m\u001b[1;33m]\u001b[0m\u001b[1;33m\u001b[0m\u001b[1;33m\u001b[0m\u001b[0m\n\u001b[0m\u001b[0;32m     78\u001b[0m \u001b[1;33m\u001b[0m\u001b[0m\n\u001b[0;32m     79\u001b[0m     \u001b[1;32mdef\u001b[0m \u001b[0mclick\u001b[0m\u001b[1;33m(\u001b[0m\u001b[0mself\u001b[0m\u001b[1;33m)\u001b[0m \u001b[1;33m->\u001b[0m \u001b[1;32mNone\u001b[0m\u001b[1;33m:\u001b[0m\u001b[1;33m\u001b[0m\u001b[1;33m\u001b[0m\u001b[0m\n",
      "\u001b[1;32m~\\anaconda3\\lib\\site-packages\\selenium\\webdriver\\remote\\webelement.py\u001b[0m in \u001b[0;36m_execute\u001b[1;34m(self, command, params)\u001b[0m\n\u001b[0;32m    708\u001b[0m             \u001b[0mparams\u001b[0m \u001b[1;33m=\u001b[0m \u001b[1;33m{\u001b[0m\u001b[1;33m}\u001b[0m\u001b[1;33m\u001b[0m\u001b[1;33m\u001b[0m\u001b[0m\n\u001b[0;32m    709\u001b[0m         \u001b[0mparams\u001b[0m\u001b[1;33m[\u001b[0m\u001b[1;34m'id'\u001b[0m\u001b[1;33m]\u001b[0m \u001b[1;33m=\u001b[0m \u001b[0mself\u001b[0m\u001b[1;33m.\u001b[0m\u001b[0m_id\u001b[0m\u001b[1;33m\u001b[0m\u001b[1;33m\u001b[0m\u001b[0m\n\u001b[1;32m--> 710\u001b[1;33m         \u001b[1;32mreturn\u001b[0m \u001b[0mself\u001b[0m\u001b[1;33m.\u001b[0m\u001b[0m_parent\u001b[0m\u001b[1;33m.\u001b[0m\u001b[0mexecute\u001b[0m\u001b[1;33m(\u001b[0m\u001b[0mcommand\u001b[0m\u001b[1;33m,\u001b[0m \u001b[0mparams\u001b[0m\u001b[1;33m)\u001b[0m\u001b[1;33m\u001b[0m\u001b[1;33m\u001b[0m\u001b[0m\n\u001b[0m\u001b[0;32m    711\u001b[0m \u001b[1;33m\u001b[0m\u001b[0m\n\u001b[0;32m    712\u001b[0m     \u001b[1;32mdef\u001b[0m \u001b[0mfind_element\u001b[0m\u001b[1;33m(\u001b[0m\u001b[0mself\u001b[0m\u001b[1;33m,\u001b[0m \u001b[0mby\u001b[0m\u001b[1;33m=\u001b[0m\u001b[0mBy\u001b[0m\u001b[1;33m.\u001b[0m\u001b[0mID\u001b[0m\u001b[1;33m,\u001b[0m \u001b[0mvalue\u001b[0m\u001b[1;33m=\u001b[0m\u001b[1;32mNone\u001b[0m\u001b[1;33m)\u001b[0m\u001b[1;33m:\u001b[0m\u001b[1;33m\u001b[0m\u001b[1;33m\u001b[0m\u001b[0m\n",
      "\u001b[1;32m~\\anaconda3\\lib\\site-packages\\selenium\\webdriver\\remote\\webdriver.py\u001b[0m in \u001b[0;36mexecute\u001b[1;34m(self, driver_command, params)\u001b[0m\n\u001b[0;32m    422\u001b[0m         \u001b[0mresponse\u001b[0m \u001b[1;33m=\u001b[0m \u001b[0mself\u001b[0m\u001b[1;33m.\u001b[0m\u001b[0mcommand_executor\u001b[0m\u001b[1;33m.\u001b[0m\u001b[0mexecute\u001b[0m\u001b[1;33m(\u001b[0m\u001b[0mdriver_command\u001b[0m\u001b[1;33m,\u001b[0m \u001b[0mparams\u001b[0m\u001b[1;33m)\u001b[0m\u001b[1;33m\u001b[0m\u001b[1;33m\u001b[0m\u001b[0m\n\u001b[0;32m    423\u001b[0m         \u001b[1;32mif\u001b[0m \u001b[0mresponse\u001b[0m\u001b[1;33m:\u001b[0m\u001b[1;33m\u001b[0m\u001b[1;33m\u001b[0m\u001b[0m\n\u001b[1;32m--> 424\u001b[1;33m             \u001b[0mself\u001b[0m\u001b[1;33m.\u001b[0m\u001b[0merror_handler\u001b[0m\u001b[1;33m.\u001b[0m\u001b[0mcheck_response\u001b[0m\u001b[1;33m(\u001b[0m\u001b[0mresponse\u001b[0m\u001b[1;33m)\u001b[0m\u001b[1;33m\u001b[0m\u001b[1;33m\u001b[0m\u001b[0m\n\u001b[0m\u001b[0;32m    425\u001b[0m             response['value'] = self._unwrap_value(\n\u001b[0;32m    426\u001b[0m                 response.get('value', None))\n",
      "\u001b[1;32m~\\anaconda3\\lib\\site-packages\\selenium\\webdriver\\remote\\errorhandler.py\u001b[0m in \u001b[0;36mcheck_response\u001b[1;34m(self, response)\u001b[0m\n\u001b[0;32m    245\u001b[0m                 \u001b[0malert_text\u001b[0m \u001b[1;33m=\u001b[0m \u001b[0mvalue\u001b[0m\u001b[1;33m[\u001b[0m\u001b[1;34m'alert'\u001b[0m\u001b[1;33m]\u001b[0m\u001b[1;33m.\u001b[0m\u001b[0mget\u001b[0m\u001b[1;33m(\u001b[0m\u001b[1;34m'text'\u001b[0m\u001b[1;33m)\u001b[0m\u001b[1;33m\u001b[0m\u001b[1;33m\u001b[0m\u001b[0m\n\u001b[0;32m    246\u001b[0m             \u001b[1;32mraise\u001b[0m \u001b[0mexception_class\u001b[0m\u001b[1;33m(\u001b[0m\u001b[0mmessage\u001b[0m\u001b[1;33m,\u001b[0m \u001b[0mscreen\u001b[0m\u001b[1;33m,\u001b[0m \u001b[0mstacktrace\u001b[0m\u001b[1;33m,\u001b[0m \u001b[0malert_text\u001b[0m\u001b[1;33m)\u001b[0m  \u001b[1;31m# type: ignore[call-arg]  # mypy is not smart enough here\u001b[0m\u001b[1;33m\u001b[0m\u001b[1;33m\u001b[0m\u001b[0m\n\u001b[1;32m--> 247\u001b[1;33m         \u001b[1;32mraise\u001b[0m \u001b[0mexception_class\u001b[0m\u001b[1;33m(\u001b[0m\u001b[0mmessage\u001b[0m\u001b[1;33m,\u001b[0m \u001b[0mscreen\u001b[0m\u001b[1;33m,\u001b[0m \u001b[0mstacktrace\u001b[0m\u001b[1;33m)\u001b[0m\u001b[1;33m\u001b[0m\u001b[1;33m\u001b[0m\u001b[0m\n\u001b[0m\u001b[0;32m    248\u001b[0m \u001b[1;33m\u001b[0m\u001b[0m\n\u001b[0;32m    249\u001b[0m     \u001b[1;32mdef\u001b[0m \u001b[0m_value_or_default\u001b[0m\u001b[1;33m(\u001b[0m\u001b[0mself\u001b[0m\u001b[1;33m,\u001b[0m \u001b[0mobj\u001b[0m\u001b[1;33m:\u001b[0m \u001b[0mMapping\u001b[0m\u001b[1;33m[\u001b[0m\u001b[0m_KT\u001b[0m\u001b[1;33m,\u001b[0m \u001b[0m_VT\u001b[0m\u001b[1;33m]\u001b[0m\u001b[1;33m,\u001b[0m \u001b[0mkey\u001b[0m\u001b[1;33m:\u001b[0m \u001b[0m_KT\u001b[0m\u001b[1;33m,\u001b[0m \u001b[0mdefault\u001b[0m\u001b[1;33m:\u001b[0m \u001b[0m_VT\u001b[0m\u001b[1;33m)\u001b[0m \u001b[1;33m->\u001b[0m \u001b[0m_VT\u001b[0m\u001b[1;33m:\u001b[0m\u001b[1;33m\u001b[0m\u001b[1;33m\u001b[0m\u001b[0m\n",
      "\u001b[1;31mStaleElementReferenceException\u001b[0m: Message: stale element reference: element is not attached to the page document\n  (Session info: chrome=98.0.4758.82)\nStacktrace:\nBacktrace:\n\tOrdinal0 [0x01027AC3+2587331]\n\tOrdinal0 [0x00FBADD1+2141649]\n\tOrdinal0 [0x00EB3BB8+1063864]\n\tOrdinal0 [0x00EB63D7+1074135]\n\tOrdinal0 [0x00EB629E+1073822]\n\tOrdinal0 [0x00EB6510+1074448]\n\tOrdinal0 [0x00EDBB70+1227632]\n\tOrdinal0 [0x00EF868C+1345164]\n\tOrdinal0 [0x00ED67A4+1206180]\n\tOrdinal0 [0x00EF87E4+1345508]\n\tOrdinal0 [0x00F08A0A+1411594]\n\tOrdinal0 [0x00EF84A6+1344678]\n\tOrdinal0 [0x00ED53F6+1201142]\n\tOrdinal0 [0x00ED62E6+1204966]\n\tGetHandleVerifier [0x011CDF22+1680738]\n\tGetHandleVerifier [0x01280DBC+2413564]\n\tGetHandleVerifier [0x010BD151+563089]\n\tGetHandleVerifier [0x010BBF13+558419]\n\tOrdinal0 [0x00FC081E+2164766]\n\tOrdinal0 [0x00FC5508+2184456]\n\tOrdinal0 [0x00FC5650+2184784]\n\tOrdinal0 [0x00FCF5BC+2225596]\n\tBaseThreadInitThunk [0x75BD3744+36]\n\tRtlSetCurrentTransaction [0x778D9E54+212]\n\tRtlSetCurrentTransaction [0x778D9E1F+159]\n"
     ]
    }
   ],
   "source": [
    "#2nd page\n",
    "next.click()\n",
    "rating = driver.find_elements_by_xpath('//div[@class=\"_3LWZlK _1BLPMq\"]')\n",
    "review_summ=driver.find_elements_by_xpath('//p[@class=\"_2-N8zT\"]')\n",
    "full_review = driver.find_elements_by_xpath('//div[@class=\"t-ZTKy\"]')\n",
    "len(rating),len(review_summ),len(full_review)\n",
    "\n",
    "\n",
    "for i in rating:\n",
    "    rate.append(i.text)\n",
    "\n",
    "\n",
    "for i in review_summ:\n",
    "    short_review.append(i.text)\n",
    "\n",
    "for i in full_review:\n",
    "    review.append(i.text)\n",
    "len(rate),len(short_review),len(review)"
   ]
  },
  {
   "cell_type": "code",
   "execution_count": null,
   "id": "8ba55123",
   "metadata": {},
   "outputs": [],
   "source": []
  },
  {
   "cell_type": "code",
   "execution_count": 15,
   "id": "b9d195b2",
   "metadata": {},
   "outputs": [
    {
     "data": {
      "text/plain": [
       "(30, 30, 30)"
      ]
     },
     "execution_count": 15,
     "metadata": {},
     "output_type": "execute_result"
    }
   ],
   "source": [
    "#3rd page\n",
    "rating = driver.find_elements_by_xpath('//div[@class=\"_3LWZlK _1BLPMq\"]')\n",
    "review_summ=driver.find_elements_by_xpath('//p[@class=\"_2-N8zT\"]')\n",
    "full_review = driver.find_elements_by_xpath('//div[@class=\"t-ZTKy\"]')\n",
    "\n",
    "\n",
    "for i in rating:\n",
    "    rate.append(i.text)\n",
    "\n",
    "\n",
    "for i in review_summ:\n",
    "    short_review.append(i.text)\n",
    "\n",
    "for i in full_review:\n",
    "    review.append(i.text)\n",
    "len(rate),len(short_review),len(review)"
   ]
  },
  {
   "cell_type": "code",
   "execution_count": 16,
   "id": "b65f3ef5",
   "metadata": {},
   "outputs": [
    {
     "data": {
      "text/plain": [
       "(40, 40, 40)"
      ]
     },
     "execution_count": 16,
     "metadata": {},
     "output_type": "execute_result"
    }
   ],
   "source": [
    "#4rd page\n",
    "rating = driver.find_elements_by_xpath('//div[@class=\"_3LWZlK _1BLPMq\"]')\n",
    "review_summ=driver.find_elements_by_xpath('//p[@class=\"_2-N8zT\"]')\n",
    "full_review = driver.find_elements_by_xpath('//div[@class=\"t-ZTKy\"]')\n",
    "\n",
    "\n",
    "for i in rating:\n",
    "    rate.append(i.text)\n",
    "\n",
    "\n",
    "for i in review_summ:\n",
    "    short_review.append(i.text)\n",
    "\n",
    "for i in full_review:\n",
    "    review.append(i.text)\n",
    "len(rate),len(short_review),len(review)"
   ]
  },
  {
   "cell_type": "code",
   "execution_count": 17,
   "id": "1e103b5c",
   "metadata": {},
   "outputs": [
    {
     "data": {
      "text/plain": [
       "(50, 50, 50)"
      ]
     },
     "execution_count": 17,
     "metadata": {},
     "output_type": "execute_result"
    }
   ],
   "source": [
    "#5rd page\n",
    "rating = driver.find_elements_by_xpath('//div[@class=\"_3LWZlK _1BLPMq\"]')\n",
    "review_summ=driver.find_elements_by_xpath('//p[@class=\"_2-N8zT\"]')\n",
    "full_review = driver.find_elements_by_xpath('//div[@class=\"t-ZTKy\"]')\n",
    "\n",
    "\n",
    "for i in rating:\n",
    "    rate.append(i.text)\n",
    "\n",
    "\n",
    "for i in review_summ:\n",
    "    short_review.append(i.text)\n",
    "\n",
    "for i in full_review:\n",
    "    review.append(i.text)\n",
    "len(rate),len(short_review),len(review)"
   ]
  },
  {
   "cell_type": "code",
   "execution_count": 18,
   "id": "be2159e2",
   "metadata": {},
   "outputs": [
    {
     "data": {
      "text/plain": [
       "(60, 60, 60)"
      ]
     },
     "execution_count": 18,
     "metadata": {},
     "output_type": "execute_result"
    }
   ],
   "source": [
    "#6th page\n",
    "rating = driver.find_elements_by_xpath('//div[@class=\"_3LWZlK _1BLPMq\"]')\n",
    "review_summ=driver.find_elements_by_xpath('//p[@class=\"_2-N8zT\"]')\n",
    "full_review = driver.find_elements_by_xpath('//div[@class=\"t-ZTKy\"]')\n",
    "\n",
    "\n",
    "for i in rating:\n",
    "    rate.append(i.text)\n",
    "\n",
    "\n",
    "for i in review_summ:\n",
    "    short_review.append(i.text)\n",
    "\n",
    "for i in full_review:\n",
    "    review.append(i.text)\n",
    "len(rate),len(short_review),len(review)"
   ]
  },
  {
   "cell_type": "code",
   "execution_count": 19,
   "id": "a26512c9",
   "metadata": {},
   "outputs": [
    {
     "data": {
      "text/plain": [
       "(70, 70, 70)"
      ]
     },
     "execution_count": 19,
     "metadata": {},
     "output_type": "execute_result"
    }
   ],
   "source": [
    "#7th page\n",
    "rating = driver.find_elements_by_xpath('//div[@class=\"_3LWZlK _1BLPMq\"]')\n",
    "review_summ=driver.find_elements_by_xpath('//p[@class=\"_2-N8zT\"]')\n",
    "full_review = driver.find_elements_by_xpath('//div[@class=\"t-ZTKy\"]')\n",
    "\n",
    "\n",
    "for i in rating:\n",
    "    rate.append(i.text)\n",
    "\n",
    "\n",
    "for i in review_summ:\n",
    "    short_review.append(i.text)\n",
    "\n",
    "for i in full_review:\n",
    "    review.append(i.text)\n",
    "len(rate),len(short_review),len(review)"
   ]
  },
  {
   "cell_type": "code",
   "execution_count": 20,
   "id": "4a2e7306",
   "metadata": {},
   "outputs": [
    {
     "data": {
      "text/plain": [
       "(80, 80, 80)"
      ]
     },
     "execution_count": 20,
     "metadata": {},
     "output_type": "execute_result"
    }
   ],
   "source": [
    "#8th page\n",
    "rating = driver.find_elements_by_xpath('//div[@class=\"_3LWZlK _1BLPMq\"]')\n",
    "review_summ=driver.find_elements_by_xpath('//p[@class=\"_2-N8zT\"]')\n",
    "full_review = driver.find_elements_by_xpath('//div[@class=\"t-ZTKy\"]')\n",
    "\n",
    "\n",
    "for i in rating:\n",
    "    rate.append(i.text)\n",
    "\n",
    "\n",
    "for i in review_summ:\n",
    "    short_review.append(i.text)\n",
    "\n",
    "for i in full_review:\n",
    "    review.append(i.text)\n",
    "len(rate),len(short_review),len(review)"
   ]
  },
  {
   "cell_type": "code",
   "execution_count": 21,
   "id": "03852bb6",
   "metadata": {},
   "outputs": [
    {
     "data": {
      "text/plain": [
       "(90, 90, 90)"
      ]
     },
     "execution_count": 21,
     "metadata": {},
     "output_type": "execute_result"
    }
   ],
   "source": [
    "#9th page\n",
    "rating = driver.find_elements_by_xpath('//div[@class=\"_3LWZlK _1BLPMq\"]')\n",
    "review_summ=driver.find_elements_by_xpath('//p[@class=\"_2-N8zT\"]')\n",
    "full_review = driver.find_elements_by_xpath('//div[@class=\"t-ZTKy\"]')\n",
    "\n",
    "\n",
    "for i in rating:\n",
    "    rate.append(i.text)\n",
    "\n",
    "\n",
    "for i in review_summ:\n",
    "    short_review.append(i.text)\n",
    "\n",
    "for i in full_review:\n",
    "    review.append(i.text)\n",
    "len(rate),len(short_review),len(review)"
   ]
  },
  {
   "cell_type": "code",
   "execution_count": 22,
   "id": "4852c7a0",
   "metadata": {},
   "outputs": [
    {
     "data": {
      "text/plain": [
       "(100, 100, 100)"
      ]
     },
     "execution_count": 22,
     "metadata": {},
     "output_type": "execute_result"
    }
   ],
   "source": [
    "#10th page\n",
    "rating = driver.find_elements_by_xpath('//div[@class=\"_3LWZlK _1BLPMq\"]')\n",
    "review_summ=driver.find_elements_by_xpath('//p[@class=\"_2-N8zT\"]')\n",
    "full_review = driver.find_elements_by_xpath('//div[@class=\"t-ZTKy\"]')\n",
    "\n",
    "\n",
    "for i in rating:\n",
    "    rate.append(i.text)\n",
    "\n",
    "\n",
    "for i in review_summ:\n",
    "    short_review.append(i.text)\n",
    "\n",
    "for i in full_review:\n",
    "    review.append(i.text)\n",
    "len(rate),len(short_review),len(review)"
   ]
  },
  {
   "cell_type": "code",
   "execution_count": 11,
   "id": "34b8fc1c",
   "metadata": {},
   "outputs": [],
   "source": [
    "#lets make data frame \n",
    "iphone11 = pd.DataFrame({'Rating': rate,\n",
    "                         'Review summary': short_review,\n",
    "                         'Full review':review})"
   ]
  },
  {
   "cell_type": "code",
   "execution_count": 12,
   "id": "ff7bb368",
   "metadata": {},
   "outputs": [
    {
     "data": {
      "text/html": [
       "<div>\n",
       "<style scoped>\n",
       "    .dataframe tbody tr th:only-of-type {\n",
       "        vertical-align: middle;\n",
       "    }\n",
       "\n",
       "    .dataframe tbody tr th {\n",
       "        vertical-align: top;\n",
       "    }\n",
       "\n",
       "    .dataframe thead th {\n",
       "        text-align: right;\n",
       "    }\n",
       "</style>\n",
       "<table border=\"1\" class=\"dataframe\">\n",
       "  <thead>\n",
       "    <tr style=\"text-align: right;\">\n",
       "      <th></th>\n",
       "      <th>Rating</th>\n",
       "      <th>Review summary</th>\n",
       "      <th>Full review</th>\n",
       "    </tr>\n",
       "  </thead>\n",
       "  <tbody>\n",
       "    <tr>\n",
       "      <th>0</th>\n",
       "      <td>5</td>\n",
       "      <td>Brilliant</td>\n",
       "      <td>The Best Phone for the Money\\n\\nThe iPhone 11 ...</td>\n",
       "    </tr>\n",
       "    <tr>\n",
       "      <th>1</th>\n",
       "      <td>5</td>\n",
       "      <td>Simply awesome</td>\n",
       "      <td>Really satisfied with the Product I received.....</td>\n",
       "    </tr>\n",
       "    <tr>\n",
       "      <th>2</th>\n",
       "      <td>5</td>\n",
       "      <td>Best in the market!</td>\n",
       "      <td>Great iPhone very snappy experience as apple k...</td>\n",
       "    </tr>\n",
       "    <tr>\n",
       "      <th>3</th>\n",
       "      <td></td>\n",
       "      <td></td>\n",
       "      <td></td>\n",
       "    </tr>\n",
       "    <tr>\n",
       "      <th>4</th>\n",
       "      <td></td>\n",
       "      <td></td>\n",
       "      <td></td>\n",
       "    </tr>\n",
       "    <tr>\n",
       "      <th>5</th>\n",
       "      <td></td>\n",
       "      <td></td>\n",
       "      <td></td>\n",
       "    </tr>\n",
       "    <tr>\n",
       "      <th>6</th>\n",
       "      <td></td>\n",
       "      <td></td>\n",
       "      <td></td>\n",
       "    </tr>\n",
       "    <tr>\n",
       "      <th>7</th>\n",
       "      <td></td>\n",
       "      <td></td>\n",
       "      <td></td>\n",
       "    </tr>\n",
       "    <tr>\n",
       "      <th>8</th>\n",
       "      <td></td>\n",
       "      <td></td>\n",
       "      <td></td>\n",
       "    </tr>\n",
       "    <tr>\n",
       "      <th>9</th>\n",
       "      <td></td>\n",
       "      <td></td>\n",
       "      <td></td>\n",
       "    </tr>\n",
       "  </tbody>\n",
       "</table>\n",
       "</div>"
      ],
      "text/plain": [
       "  Rating       Review summary  \\\n",
       "0      5            Brilliant   \n",
       "1      5       Simply awesome   \n",
       "2      5  Best in the market!   \n",
       "3                               \n",
       "4                               \n",
       "5                               \n",
       "6                               \n",
       "7                               \n",
       "8                               \n",
       "9                               \n",
       "\n",
       "                                         Full review  \n",
       "0  The Best Phone for the Money\\n\\nThe iPhone 11 ...  \n",
       "1  Really satisfied with the Product I received.....  \n",
       "2  Great iPhone very snappy experience as apple k...  \n",
       "3                                                     \n",
       "4                                                     \n",
       "5                                                     \n",
       "6                                                     \n",
       "7                                                     \n",
       "8                                                     \n",
       "9                                                     "
      ]
     },
     "execution_count": 12,
     "metadata": {},
     "output_type": "execute_result"
    }
   ],
   "source": [
    "iphone11.head(10)\n"
   ]
  },
  {
   "cell_type": "markdown",
   "id": "02bfac40",
   "metadata": {},
   "source": [
    "# first 100 sneakers you find when you visit flipkart.com"
   ]
  },
  {
   "cell_type": "code",
   "execution_count": 1,
   "id": "2571320a",
   "metadata": {},
   "outputs": [],
   "source": [
    "import selenium\n",
    "from selenium import webdriver\n",
    "import pandas as pd \n",
    "import warnings\n",
    "warnings.filterwarnings('ignore')"
   ]
  },
  {
   "cell_type": "code",
   "execution_count": 16,
   "id": "ee941215",
   "metadata": {},
   "outputs": [],
   "source": [
    "#lets connect to web driver \n",
    "driver = webdriver.Chrome(r\"C:\\Users\\JITENDER\\Desktop\\Data Science\\Datatraind project\\chromedriver_win32\\chromedriver.exe\")"
   ]
  },
  {
   "cell_type": "code",
   "execution_count": 17,
   "id": "1f2a00ec",
   "metadata": {},
   "outputs": [],
   "source": [
    "#get URL\n",
    "driver.get('https://www.flipkart.com/')"
   ]
  },
  {
   "cell_type": "code",
   "execution_count": 26,
   "id": "95b00b35",
   "metadata": {},
   "outputs": [],
   "source": [
    "search_sneakers= driver.find_element_by_class_name('_3704LK')\n"
   ]
  },
  {
   "cell_type": "code",
   "execution_count": 27,
   "id": "bb745733",
   "metadata": {},
   "outputs": [
    {
     "data": {
      "text/plain": [
       "<selenium.webdriver.remote.webelement.WebElement (session=\"476ed5b0c70375e6fc21e111e7d22f86\", element=\"3256f1bd-151c-45c5-82fe-0703ee66a15d\")>"
      ]
     },
     "execution_count": 27,
     "metadata": {},
     "output_type": "execute_result"
    }
   ],
   "source": [
    "search_sneakers"
   ]
  },
  {
   "cell_type": "code",
   "execution_count": 28,
   "id": "85e59325",
   "metadata": {},
   "outputs": [],
   "source": [
    "search_sneakers.send_keys('sneakers')"
   ]
  },
  {
   "cell_type": "code",
   "execution_count": 38,
   "id": "aa79f296",
   "metadata": {},
   "outputs": [],
   "source": [
    "search_btn=driver.find_element_by_xpath('/html/body/div/div/div[1]/div[1]/div[2]/div[2]/form/div/button')\n"
   ]
  },
  {
   "cell_type": "code",
   "execution_count": 39,
   "id": "0d939eb9",
   "metadata": {},
   "outputs": [],
   "source": [
    "search_btn.click()"
   ]
  },
  {
   "cell_type": "code",
   "execution_count": 41,
   "id": "f3144a5d",
   "metadata": {},
   "outputs": [
    {
     "data": {
      "text/plain": [
       "40"
      ]
     },
     "execution_count": 41,
     "metadata": {},
     "output_type": "execute_result"
    }
   ],
   "source": [
    "brand_tag= driver.find_elements_by_xpath('//div[@class=\"_2WkVRV\"]')\n",
    "len(brand_tag)"
   ]
  },
  {
   "cell_type": "code",
   "execution_count": 42,
   "id": "a4d9b018",
   "metadata": {},
   "outputs": [],
   "source": [
    "prd_dis= driver.find_elements_by_xpath('//a[@class=\"IRpwTa\"]')"
   ]
  },
  {
   "cell_type": "code",
   "execution_count": 46,
   "id": "ef6697fc",
   "metadata": {},
   "outputs": [
    {
     "data": {
      "text/plain": [
       "8"
      ]
     },
     "execution_count": 46,
     "metadata": {},
     "output_type": "execute_result"
    }
   ],
   "source": [
    "prd_dis1= driver.find_elements_by_xpath('//a[@class=\"IRpwTa _2-ICcC\"]')\n",
    "len(prd_dis1)"
   ]
  },
  {
   "cell_type": "code",
   "execution_count": 48,
   "id": "e27c54c4",
   "metadata": {},
   "outputs": [],
   "source": [
    "price_tag = driver.find_elements_by_xpath('//div[@class=\"_30jeq3\"]')"
   ]
  },
  {
   "cell_type": "code",
   "execution_count": 49,
   "id": "093c3b88",
   "metadata": {},
   "outputs": [
    {
     "data": {
      "text/plain": [
       "(40, 40, 40)"
      ]
     },
     "execution_count": 49,
     "metadata": {},
     "output_type": "execute_result"
    }
   ],
   "source": [
    "#lets create list \n",
    "\n",
    "brand=[]\n",
    "for i in brand_tag:\n",
    "    brand.append(i.text)\n",
    "\n",
    "product_des=[]\n",
    "for i in prd_dis:\n",
    "    product_des.append(i.text)\n",
    "for i in prd_dis1:\n",
    "    product_des.append(i.text)\n",
    "\n",
    "price = []\n",
    "for i in price_tag:\n",
    "    price.append(i.text)\n",
    "    \n",
    "len(brand),len(product_des),len(price)"
   ]
  },
  {
   "cell_type": "code",
   "execution_count": 50,
   "id": "a0b505f6",
   "metadata": {},
   "outputs": [],
   "source": [
    "next = driver.find_element_by_xpath('/html/body/div/div/div[3]/div[1]/div[2]/div[12]/div/div/nav/a[11]')"
   ]
  },
  {
   "cell_type": "code",
   "execution_count": 51,
   "id": "fa8cf2b3",
   "metadata": {},
   "outputs": [],
   "source": [
    "next.click()"
   ]
  },
  {
   "cell_type": "code",
   "execution_count": 52,
   "id": "010238ae",
   "metadata": {},
   "outputs": [],
   "source": [
    "brand_tag= driver.find_elements_by_xpath('//div[@class=\"_2WkVRV\"]')\n",
    "prd_dis= driver.find_elements_by_xpath('//a[@class=\"IRpwTa\"]')\n",
    "prd_dis1= driver.find_elements_by_xpath('//a[@class=\"IRpwTa _2-ICcC\"]')\n",
    "price_tag = driver.find_elements_by_xpath('//div[@class=\"_30jeq3\"]')\n"
   ]
  },
  {
   "cell_type": "code",
   "execution_count": 53,
   "id": "a8c3ae34",
   "metadata": {},
   "outputs": [
    {
     "data": {
      "text/plain": [
       "(80, 80, 80)"
      ]
     },
     "execution_count": 53,
     "metadata": {},
     "output_type": "execute_result"
    }
   ],
   "source": [
    "\n",
    "for i in brand_tag:\n",
    "    brand.append(i.text)\n",
    "\n",
    "for i in prd_dis:\n",
    "    product_des.append(i.text)\n",
    "for i in prd_dis1:\n",
    "    product_des.append(i.text)\n",
    "\n",
    "for i in price_tag:\n",
    "    price.append(i.text)\n",
    "    \n",
    "len(brand),len(product_des),len(price)"
   ]
  },
  {
   "cell_type": "code",
   "execution_count": 54,
   "id": "2ef0b751",
   "metadata": {},
   "outputs": [],
   "source": [
    "next = driver.find_element_by_xpath('/html/body/div/div/div[3]/div[1]/div[2]/div[12]/div/div/nav/a[11]')\n",
    "next.click()"
   ]
  },
  {
   "cell_type": "code",
   "execution_count": 55,
   "id": "e0f9c1e1",
   "metadata": {},
   "outputs": [],
   "source": [
    "brand_tag= driver.find_elements_by_xpath('//div[@class=\"_2WkVRV\"]')\n",
    "prd_dis= driver.find_elements_by_xpath('//a[@class=\"IRpwTa\"]')\n",
    "prd_dis1= driver.find_elements_by_xpath('//a[@class=\"IRpwTa _2-ICcC\"]')\n",
    "price_tag = driver.find_elements_by_xpath('//div[@class=\"_30jeq3\"]')\n"
   ]
  },
  {
   "cell_type": "code",
   "execution_count": 56,
   "id": "3e6956e0",
   "metadata": {},
   "outputs": [
    {
     "data": {
      "text/plain": [
       "(120, 120, 120)"
      ]
     },
     "execution_count": 56,
     "metadata": {},
     "output_type": "execute_result"
    }
   ],
   "source": [
    "\n",
    "for i in brand_tag:\n",
    "    brand.append(i.text)\n",
    "\n",
    "for i in prd_dis:\n",
    "    product_des.append(i.text)\n",
    "for i in prd_dis1:\n",
    "    product_des.append(i.text)\n",
    "\n",
    "for i in price_tag:\n",
    "    price.append(i.text)\n",
    "    \n",
    "len(brand),len(product_des),len(price)"
   ]
  },
  {
   "cell_type": "code",
   "execution_count": 57,
   "id": "840c05de",
   "metadata": {},
   "outputs": [],
   "source": [
    "#lets create datafarme\n",
    "flip_sneaker=pd.DataFrame({'Brand':brand,\n",
    "                           'Product Description':product_des,\n",
    "                           'Price':price})"
   ]
  },
  {
   "cell_type": "code",
   "execution_count": 58,
   "id": "dcba66e8",
   "metadata": {},
   "outputs": [
    {
     "data": {
      "text/html": [
       "<div>\n",
       "<style scoped>\n",
       "    .dataframe tbody tr th:only-of-type {\n",
       "        vertical-align: middle;\n",
       "    }\n",
       "\n",
       "    .dataframe tbody tr th {\n",
       "        vertical-align: top;\n",
       "    }\n",
       "\n",
       "    .dataframe thead th {\n",
       "        text-align: right;\n",
       "    }\n",
       "</style>\n",
       "<table border=\"1\" class=\"dataframe\">\n",
       "  <thead>\n",
       "    <tr style=\"text-align: right;\">\n",
       "      <th></th>\n",
       "      <th>Brand</th>\n",
       "      <th>Product Description</th>\n",
       "      <th>Price</th>\n",
       "    </tr>\n",
       "  </thead>\n",
       "  <tbody>\n",
       "    <tr>\n",
       "      <th>0</th>\n",
       "      <td>RapidBox</td>\n",
       "      <td>Men Blue Solid Sneakers Sneakers For Men</td>\n",
       "      <td>₹580</td>\n",
       "    </tr>\n",
       "    <tr>\n",
       "      <th>1</th>\n",
       "      <td>Roadster</td>\n",
       "      <td>Modern Trendy Sneakers Shoes Sneakers For Men</td>\n",
       "      <td>₹1,649</td>\n",
       "    </tr>\n",
       "    <tr>\n",
       "      <th>2</th>\n",
       "      <td>Elevarse</td>\n",
       "      <td>Combo Pack Of 4 Casual Shoes Loafer Shoes Snea...</td>\n",
       "      <td>₹299</td>\n",
       "    </tr>\n",
       "    <tr>\n",
       "      <th>3</th>\n",
       "      <td>BRUTON</td>\n",
       "      <td>Combo Pack Of 2 Latest Stylish Casual Shoes fo...</td>\n",
       "      <td>₹209</td>\n",
       "    </tr>\n",
       "    <tr>\n",
       "      <th>4</th>\n",
       "      <td>BRUTON</td>\n",
       "      <td>Sneakers For Men</td>\n",
       "      <td>₹374</td>\n",
       "    </tr>\n",
       "    <tr>\n",
       "      <th>...</th>\n",
       "      <td>...</td>\n",
       "      <td>...</td>\n",
       "      <td>...</td>\n",
       "    </tr>\n",
       "    <tr>\n",
       "      <th>115</th>\n",
       "      <td>BIRDE</td>\n",
       "      <td>Sneakers For Men</td>\n",
       "      <td>₹476</td>\n",
       "    </tr>\n",
       "    <tr>\n",
       "      <th>116</th>\n",
       "      <td>PUMA</td>\n",
       "      <td>FORUM LOW Sneakers For Men</td>\n",
       "      <td>₹3,949</td>\n",
       "    </tr>\n",
       "    <tr>\n",
       "      <th>117</th>\n",
       "      <td>PUMA</td>\n",
       "      <td>Exclusive dancing shoe for boy�s, Funky dancin...</td>\n",
       "      <td>₹4,669</td>\n",
       "    </tr>\n",
       "    <tr>\n",
       "      <th>118</th>\n",
       "      <td>JQR</td>\n",
       "      <td>Canvas Sneaker Sneakers For Men</td>\n",
       "      <td>₹828</td>\n",
       "    </tr>\n",
       "    <tr>\n",
       "      <th>119</th>\n",
       "      <td>HRX by Hrithik Roshan</td>\n",
       "      <td>Sneakers For Men</td>\n",
       "      <td>₹2,549</td>\n",
       "    </tr>\n",
       "  </tbody>\n",
       "</table>\n",
       "<p>120 rows × 3 columns</p>\n",
       "</div>"
      ],
      "text/plain": [
       "                     Brand                                Product Description  \\\n",
       "0                 RapidBox           Men Blue Solid Sneakers Sneakers For Men   \n",
       "1                 Roadster      Modern Trendy Sneakers Shoes Sneakers For Men   \n",
       "2                 Elevarse  Combo Pack Of 4 Casual Shoes Loafer Shoes Snea...   \n",
       "3                   BRUTON  Combo Pack Of 2 Latest Stylish Casual Shoes fo...   \n",
       "4                   BRUTON                                   Sneakers For Men   \n",
       "..                     ...                                                ...   \n",
       "115                  BIRDE                                   Sneakers For Men   \n",
       "116                   PUMA                         FORUM LOW Sneakers For Men   \n",
       "117                   PUMA  Exclusive dancing shoe for boy�s, Funky dancin...   \n",
       "118                    JQR                    Canvas Sneaker Sneakers For Men   \n",
       "119  HRX by Hrithik Roshan                                   Sneakers For Men   \n",
       "\n",
       "      Price  \n",
       "0      ₹580  \n",
       "1    ₹1,649  \n",
       "2      ₹299  \n",
       "3      ₹209  \n",
       "4      ₹374  \n",
       "..      ...  \n",
       "115    ₹476  \n",
       "116  ₹3,949  \n",
       "117  ₹4,669  \n",
       "118    ₹828  \n",
       "119  ₹2,549  \n",
       "\n",
       "[120 rows x 3 columns]"
      ]
     },
     "execution_count": 58,
     "metadata": {},
     "output_type": "execute_result"
    }
   ],
   "source": [
    "flip_sneaker"
   ]
  },
  {
   "cell_type": "markdown",
   "id": "a0575f03",
   "metadata": {},
   "source": [
    "# First 100 shoes data you get"
   ]
  },
  {
   "cell_type": "code",
   "execution_count": 59,
   "id": "a55d221b",
   "metadata": {},
   "outputs": [],
   "source": [
    "driver.get('https://www.myntra.com/shoes')"
   ]
  },
  {
   "cell_type": "code",
   "execution_count": 60,
   "id": "f189d5ff",
   "metadata": {},
   "outputs": [],
   "source": [
    "price_ftr =driver.find_element_by_xpath('/html/body/div[2]/div/div[1]/main/div[3]/div[1]/section/div/div[5]/ul/li[3]/label/div')"
   ]
  },
  {
   "cell_type": "code",
   "execution_count": 61,
   "id": "09914271",
   "metadata": {},
   "outputs": [],
   "source": [
    "price_ftr.click()"
   ]
  },
  {
   "cell_type": "code",
   "execution_count": 62,
   "id": "62fcae68",
   "metadata": {},
   "outputs": [],
   "source": [
    "color_ftr=driver.find_element_by_xpath('/html/body/div[2]/div/div[1]/main/div[3]/div[1]/section/div/div[6]/ul/li[1]/label/div')\n"
   ]
  },
  {
   "cell_type": "code",
   "execution_count": 63,
   "id": "8600f11e",
   "metadata": {},
   "outputs": [],
   "source": [
    "color_ftr.click()"
   ]
  },
  {
   "cell_type": "code",
   "execution_count": 69,
   "id": "7dfff49b",
   "metadata": {},
   "outputs": [],
   "source": [
    "brand_tag=driver.find_elements_by_xpath('//h3[@class=\"product-brand\"]')\n",
    "shordes_tag=driver.find_elements_by_xpath('//h4[@class=\"product-product\"]')\n",
    "price_tag=driver.find_elements_by_xpath('//div[@class=\"product-price\"]')\n"
   ]
  },
  {
   "cell_type": "code",
   "execution_count": 68,
   "id": "d2d6c971",
   "metadata": {},
   "outputs": [
    {
     "data": {
      "text/plain": [
       "0"
      ]
     },
     "execution_count": 68,
     "metadata": {},
     "output_type": "execute_result"
    }
   ],
   "source": [
    "#lets create list\n"
   ]
  },
  {
   "cell_type": "code",
   "execution_count": 70,
   "id": "54ec35d8",
   "metadata": {},
   "outputs": [
    {
     "data": {
      "text/plain": [
       "(50, 50, 50)"
      ]
     },
     "execution_count": 70,
     "metadata": {},
     "output_type": "execute_result"
    }
   ],
   "source": [
    "#lets create list \n",
    "\n",
    "brand=[]\n",
    "for i in brand_tag:\n",
    "    brand.append(i.text)\n",
    "\n",
    "product_des=[]\n",
    "for i in shordes_tag:\n",
    "    product_des.append(i.text)\n",
    "\n",
    "price = []\n",
    "for i in price_tag:\n",
    "    price.append(i.text)\n",
    "    \n",
    "len(brand),len(product_des),len(price)"
   ]
  },
  {
   "cell_type": "code",
   "execution_count": 72,
   "id": "78c07df9",
   "metadata": {},
   "outputs": [],
   "source": [
    "next = driver.find_element_by_xpath('/html/body/div[2]/div/div[1]/main/div[3]/div[2]/div/div[2]/section/div[2]/ul/li[12]/a')\n"
   ]
  },
  {
   "cell_type": "code",
   "execution_count": 73,
   "id": "e9f5ddce",
   "metadata": {},
   "outputs": [],
   "source": [
    "next.click()"
   ]
  },
  {
   "cell_type": "code",
   "execution_count": 74,
   "id": "b7892db5",
   "metadata": {},
   "outputs": [],
   "source": [
    "brand_tag=driver.find_elements_by_xpath('//h3[@class=\"product-brand\"]')\n",
    "shordes_tag=driver.find_elements_by_xpath('//h4[@class=\"product-product\"]')\n",
    "price_tag=driver.find_elements_by_xpath('//div[@class=\"product-price\"]')\n"
   ]
  },
  {
   "cell_type": "code",
   "execution_count": 75,
   "id": "47eff2cc",
   "metadata": {},
   "outputs": [
    {
     "data": {
      "text/plain": [
       "(100, 100, 100)"
      ]
     },
     "execution_count": 75,
     "metadata": {},
     "output_type": "execute_result"
    }
   ],
   "source": [
    "#lets create list \n",
    "\n",
    "\n",
    "for i in brand_tag:\n",
    "    brand.append(i.text)\n",
    "\n",
    "for i in shordes_tag:\n",
    "    product_des.append(i.text)\n",
    "\n",
    "for i in price_tag:\n",
    "    price.append(i.text)\n",
    "    \n",
    "len(brand),len(product_des),len(price)"
   ]
  },
  {
   "cell_type": "code",
   "execution_count": 76,
   "id": "2b88aa59",
   "metadata": {},
   "outputs": [
    {
     "data": {
      "text/html": [
       "<div>\n",
       "<style scoped>\n",
       "    .dataframe tbody tr th:only-of-type {\n",
       "        vertical-align: middle;\n",
       "    }\n",
       "\n",
       "    .dataframe tbody tr th {\n",
       "        vertical-align: top;\n",
       "    }\n",
       "\n",
       "    .dataframe thead th {\n",
       "        text-align: right;\n",
       "    }\n",
       "</style>\n",
       "<table border=\"1\" class=\"dataframe\">\n",
       "  <thead>\n",
       "    <tr style=\"text-align: right;\">\n",
       "      <th></th>\n",
       "      <th>brand</th>\n",
       "      <th>product des</th>\n",
       "      <th>price</th>\n",
       "    </tr>\n",
       "  </thead>\n",
       "  <tbody>\n",
       "    <tr>\n",
       "      <th>0</th>\n",
       "      <td>ALDO</td>\n",
       "      <td>Men Leather Loafers</td>\n",
       "      <td>Rs. 15999</td>\n",
       "    </tr>\n",
       "    <tr>\n",
       "      <th>1</th>\n",
       "      <td>Saint G</td>\n",
       "      <td>Women Leather Heeled Boots</td>\n",
       "      <td>Rs. 14875Rs. 17500(15% OFF)</td>\n",
       "    </tr>\n",
       "    <tr>\n",
       "      <th>2</th>\n",
       "      <td>Cole Haan</td>\n",
       "      <td>Men Solid Sneakers</td>\n",
       "      <td>Rs. 16999</td>\n",
       "    </tr>\n",
       "    <tr>\n",
       "      <th>3</th>\n",
       "      <td>Cole Haan</td>\n",
       "      <td>Sneakers</td>\n",
       "      <td>Rs. 18999</td>\n",
       "    </tr>\n",
       "    <tr>\n",
       "      <th>4</th>\n",
       "      <td>Pavers England</td>\n",
       "      <td>Men Woven Design Flat Boots</td>\n",
       "      <td>Rs. 14999</td>\n",
       "    </tr>\n",
       "    <tr>\n",
       "      <th>...</th>\n",
       "      <td>...</td>\n",
       "      <td>...</td>\n",
       "      <td>...</td>\n",
       "    </tr>\n",
       "    <tr>\n",
       "      <th>95</th>\n",
       "      <td>Saint G</td>\n",
       "      <td>Leather Block Heeled Boots</td>\n",
       "      <td>Rs. 14365Rs. 16900(15% OFF)</td>\n",
       "    </tr>\n",
       "    <tr>\n",
       "      <th>96</th>\n",
       "      <td>Saint G</td>\n",
       "      <td>Leather Block Heeled Boots</td>\n",
       "      <td>Rs. 14875Rs. 17500(15% OFF)</td>\n",
       "    </tr>\n",
       "    <tr>\n",
       "      <th>97</th>\n",
       "      <td>Saint G</td>\n",
       "      <td>Women Leather Heeled Boots</td>\n",
       "      <td>Rs. 11815Rs. 13900(15% OFF)</td>\n",
       "    </tr>\n",
       "    <tr>\n",
       "      <th>98</th>\n",
       "      <td>Vans</td>\n",
       "      <td>Men Printed Sneakers</td>\n",
       "      <td>Rs. 7499</td>\n",
       "    </tr>\n",
       "    <tr>\n",
       "      <th>99</th>\n",
       "      <td>ALDO</td>\n",
       "      <td>Leather Slim Heels</td>\n",
       "      <td>Rs. 8399Rs. 11999(30% OFF)</td>\n",
       "    </tr>\n",
       "  </tbody>\n",
       "</table>\n",
       "<p>100 rows × 3 columns</p>\n",
       "</div>"
      ],
      "text/plain": [
       "             brand                  product des                        price\n",
       "0             ALDO          Men Leather Loafers                    Rs. 15999\n",
       "1          Saint G   Women Leather Heeled Boots  Rs. 14875Rs. 17500(15% OFF)\n",
       "2        Cole Haan           Men Solid Sneakers                    Rs. 16999\n",
       "3        Cole Haan                     Sneakers                    Rs. 18999\n",
       "4   Pavers England  Men Woven Design Flat Boots                    Rs. 14999\n",
       "..             ...                          ...                          ...\n",
       "95         Saint G   Leather Block Heeled Boots  Rs. 14365Rs. 16900(15% OFF)\n",
       "96         Saint G   Leather Block Heeled Boots  Rs. 14875Rs. 17500(15% OFF)\n",
       "97         Saint G   Women Leather Heeled Boots  Rs. 11815Rs. 13900(15% OFF)\n",
       "98            Vans         Men Printed Sneakers                     Rs. 7499\n",
       "99            ALDO           Leather Slim Heels   Rs. 8399Rs. 11999(30% OFF)\n",
       "\n",
       "[100 rows x 3 columns]"
      ]
     },
     "execution_count": 76,
     "metadata": {},
     "output_type": "execute_result"
    }
   ],
   "source": [
    "#lets create dataframe \n",
    "shoe=pd.DataFrame({'brand':brand,'product des':product_des,'price':price})\n",
    "shoe"
   ]
  },
  {
   "cell_type": "markdown",
   "id": "bd5dc375",
   "metadata": {},
   "source": [
    "\n",
    "# amazon- laptop"
   ]
  },
  {
   "cell_type": "code",
   "execution_count": 1,
   "id": "4e507444",
   "metadata": {},
   "outputs": [],
   "source": [
    "import selenium\n",
    "from selenium import webdriver\n",
    "import pandas as pd\n",
    "import warnings\n",
    "warnings.filterwarnings('ignore')"
   ]
  },
  {
   "cell_type": "code",
   "execution_count": 2,
   "id": "1b6a0c36",
   "metadata": {},
   "outputs": [],
   "source": [
    "#connect webdriver\n",
    "driver = webdriver.Chrome(r\"C:\\Users\\JITENDER\\Desktop\\Data Science\\Datatraind project\\chromedriver_win32\\chromedriver.exe\")"
   ]
  },
  {
   "cell_type": "code",
   "execution_count": 3,
   "id": "663d72df",
   "metadata": {},
   "outputs": [],
   "source": [
    "#get url\n",
    "driver.get('https://www.amazon.in/')"
   ]
  },
  {
   "cell_type": "code",
   "execution_count": 4,
   "id": "b07f2600",
   "metadata": {},
   "outputs": [
    {
     "data": {
      "text/plain": [
       "<selenium.webdriver.remote.webelement.WebElement (session=\"11e51d07173ba16751cad1238cd7370b\", element=\"ed6ab24c-3803-4202-a93f-43d0bed6fae2\")>"
      ]
     },
     "execution_count": 4,
     "metadata": {},
     "output_type": "execute_result"
    }
   ],
   "source": [
    "search =driver.find_element_by_xpath(\"/html/body/div[1]/header/div/div[1]/div[2]/div/form/div[2]/div[1]/input\")\n",
    "search"
   ]
  },
  {
   "cell_type": "code",
   "execution_count": 5,
   "id": "e698c22b",
   "metadata": {},
   "outputs": [],
   "source": [
    "search.send_keys(\"Laptop\")"
   ]
  },
  {
   "cell_type": "code",
   "execution_count": 6,
   "id": "5d2b4e9b",
   "metadata": {},
   "outputs": [],
   "source": [
    "searchbtn= driver.find_element_by_xpath(\"/html/body/div[1]/header/div/div[1]/div[2]/div/form/div[3]/div/span/input\")"
   ]
  },
  {
   "cell_type": "code",
   "execution_count": 7,
   "id": "6de9ee2f",
   "metadata": {},
   "outputs": [],
   "source": [
    "searchbtn.click()"
   ]
  },
  {
   "cell_type": "code",
   "execution_count": 8,
   "id": "aaadd9e0",
   "metadata": {},
   "outputs": [],
   "source": [
    "i7=driver.find_element_by_xpath('/html/body/div[1]/div[2]/div[1]/div[2]/div/div[3]/span/div[1]/div/div/div[6]/ul[3]/li[12]/span/a/div/label/i')"
   ]
  },
  {
   "cell_type": "code",
   "execution_count": 9,
   "id": "3b11f22d",
   "metadata": {},
   "outputs": [],
   "source": [
    "i7.click()"
   ]
  },
  {
   "cell_type": "code",
   "execution_count": 10,
   "id": "a8a8380c",
   "metadata": {},
   "outputs": [],
   "source": [
    "title_tag=driver.find_elements_by_xpath('//h2[@class=\"a-size-mini a-spacing-none a-color-base s-line-clamp-2\"]')"
   ]
  },
  {
   "cell_type": "code",
   "execution_count": 14,
   "id": "53ffc384",
   "metadata": {},
   "outputs": [],
   "source": [
    "rating_tag = driver.find_elements_by_xpath('//span[@class=\"a-icon-alt\"]')"
   ]
  },
  {
   "cell_type": "code",
   "execution_count": 12,
   "id": "c7604424",
   "metadata": {},
   "outputs": [],
   "source": [
    "price_tag = driver.find_elements_by_xpath('//span[@class=\"a-price-whole\"]')"
   ]
  },
  {
   "cell_type": "code",
   "execution_count": 15,
   "id": "15a1d5f2",
   "metadata": {},
   "outputs": [
    {
     "data": {
      "text/plain": [
       "(10, 4, 10)"
      ]
     },
     "execution_count": 15,
     "metadata": {},
     "output_type": "execute_result"
    }
   ],
   "source": [
    "len(title_tag),len(rating_tag),len(price_tag)"
   ]
  },
  {
   "cell_type": "code",
   "execution_count": 18,
   "id": "8566bbf4",
   "metadata": {},
   "outputs": [],
   "source": [
    "#lets create a list \n",
    "title =[]\n",
    "for i in title_tag:\n",
    "    title.append(i.text)\n",
    "rating =[]\n",
    "for i in rating_tag:\n",
    "    rating.append(i.text)\n",
    "price=[]\n",
    "for i  in price_tag:\n",
    "    price.append(i.text)\n",
    "    \n"
   ]
  },
  {
   "cell_type": "code",
   "execution_count": 21,
   "id": "745e0b69",
   "metadata": {},
   "outputs": [
    {
     "data": {
      "text/plain": [
       "(10, 4, 10)"
      ]
     },
     "execution_count": 21,
     "metadata": {},
     "output_type": "execute_result"
    }
   ],
   "source": [
    "len(title),len(rating),len(price)"
   ]
  },
  {
   "cell_type": "code",
   "execution_count": 22,
   "id": "cf4d93f3",
   "metadata": {},
   "outputs": [],
   "source": [
    "#lets make data frame\n",
    "laptop=pd.DataFrame({'title':title,\n",
    "                    \n",
    "                    'price':price})"
   ]
  },
  {
   "cell_type": "code",
   "execution_count": 23,
   "id": "5f91121b",
   "metadata": {},
   "outputs": [
    {
     "data": {
      "text/html": [
       "<div>\n",
       "<style scoped>\n",
       "    .dataframe tbody tr th:only-of-type {\n",
       "        vertical-align: middle;\n",
       "    }\n",
       "\n",
       "    .dataframe tbody tr th {\n",
       "        vertical-align: top;\n",
       "    }\n",
       "\n",
       "    .dataframe thead th {\n",
       "        text-align: right;\n",
       "    }\n",
       "</style>\n",
       "<table border=\"1\" class=\"dataframe\">\n",
       "  <thead>\n",
       "    <tr style=\"text-align: right;\">\n",
       "      <th></th>\n",
       "      <th>title</th>\n",
       "      <th>price</th>\n",
       "    </tr>\n",
       "  </thead>\n",
       "  <tbody>\n",
       "    <tr>\n",
       "      <th>0</th>\n",
       "      <td>ASUS TUF Gaming F15 (2021), 15.6-inch (39.62 c...</td>\n",
       "      <td>1,43,990</td>\n",
       "    </tr>\n",
       "    <tr>\n",
       "      <th>1</th>\n",
       "      <td>ASUS TUF Gaming F15 (2021), 15.6-inch (39.62 c...</td>\n",
       "      <td>1,39,990</td>\n",
       "    </tr>\n",
       "    <tr>\n",
       "      <th>2</th>\n",
       "      <td>ASUS TUF Gaming F15 (2021), 15.6\" (39.62 cms) ...</td>\n",
       "      <td>1,44,990</td>\n",
       "    </tr>\n",
       "    <tr>\n",
       "      <th>3</th>\n",
       "      <td>HP ZBOOK Power G8/ Intel core i9-11900H 8 Core...</td>\n",
       "      <td>2,43,000</td>\n",
       "    </tr>\n",
       "    <tr>\n",
       "      <th>4</th>\n",
       "      <td>(Renewed) Dell G7 7500 15.6inch FHD 300 Hz Dis...</td>\n",
       "      <td>2,25,000</td>\n",
       "    </tr>\n",
       "    <tr>\n",
       "      <th>5</th>\n",
       "      <td>(Renewed) DELL XPS 7590 15.6-inch UHD Display ...</td>\n",
       "      <td>1,75,000</td>\n",
       "    </tr>\n",
       "    <tr>\n",
       "      <th>6</th>\n",
       "      <td>HP Zbook - Intel i9, 15 inch(39.6 cm)FHD 400 N...</td>\n",
       "      <td>2,54,563</td>\n",
       "    </tr>\n",
       "    <tr>\n",
       "      <th>7</th>\n",
       "      <td>Dell Precision 5550 || i9 -10885H || 16GB || 1...</td>\n",
       "      <td>2,25,000</td>\n",
       "    </tr>\n",
       "    <tr>\n",
       "      <th>8</th>\n",
       "      <td>Z2 G5 Workstation 700W /Core i9-10900 (2.8GHz ...</td>\n",
       "      <td>2,39,000</td>\n",
       "    </tr>\n",
       "    <tr>\n",
       "      <th>9</th>\n",
       "      <td>HP ZBook Power G8/ Intel Core i9-11950H 2.5GHz...</td>\n",
       "      <td>2,93,000</td>\n",
       "    </tr>\n",
       "  </tbody>\n",
       "</table>\n",
       "</div>"
      ],
      "text/plain": [
       "                                               title     price\n",
       "0  ASUS TUF Gaming F15 (2021), 15.6-inch (39.62 c...  1,43,990\n",
       "1  ASUS TUF Gaming F15 (2021), 15.6-inch (39.62 c...  1,39,990\n",
       "2  ASUS TUF Gaming F15 (2021), 15.6\" (39.62 cms) ...  1,44,990\n",
       "3  HP ZBOOK Power G8/ Intel core i9-11900H 8 Core...  2,43,000\n",
       "4  (Renewed) Dell G7 7500 15.6inch FHD 300 Hz Dis...  2,25,000\n",
       "5  (Renewed) DELL XPS 7590 15.6-inch UHD Display ...  1,75,000\n",
       "6  HP Zbook - Intel i9, 15 inch(39.6 cm)FHD 400 N...  2,54,563\n",
       "7  Dell Precision 5550 || i9 -10885H || 16GB || 1...  2,25,000\n",
       "8  Z2 G5 Workstation 700W /Core i9-10900 (2.8GHz ...  2,39,000\n",
       "9  HP ZBook Power G8/ Intel Core i9-11950H 2.5GHz...  2,93,000"
      ]
     },
     "execution_count": 23,
     "metadata": {},
     "output_type": "execute_result"
    }
   ],
   "source": [
    "laptop"
   ]
  },
  {
   "cell_type": "markdown",
   "id": "13f55945",
   "metadata": {},
   "source": [
    "# 9scrape data for first 10 job results for Data Scientist Designation in Noida location."
   ]
  },
  {
   "cell_type": "code",
   "execution_count": 44,
   "id": "cd95d55a",
   "metadata": {},
   "outputs": [],
   "source": [
    "driver=webdriver.Chrome(r\"C:\\Users\\JITENDER\\Desktop\\Data Science\\Datatraind project\\chromedriver_win32\\chromedriver.exe\")"
   ]
  },
  {
   "cell_type": "code",
   "execution_count": 45,
   "id": "1f5aa8c4",
   "metadata": {},
   "outputs": [],
   "source": [
    "#lets get url\n",
    "driver.get('https://www.ambitionbox.com/')"
   ]
  },
  {
   "cell_type": "code",
   "execution_count": 46,
   "id": "c29bd74c",
   "metadata": {},
   "outputs": [
    {
     "data": {
      "text/plain": [
       "<selenium.webdriver.remote.webelement.WebElement (session=\"d4ac6fa245d7026974a6741a06013422\", element=\"76aa5919-66cb-4ea1-87d1-741c4e7ce10c\")>"
      ]
     },
     "execution_count": 46,
     "metadata": {},
     "output_type": "execute_result"
    }
   ],
   "source": [
    "job=driver.find_element_by_xpath(\"/html/body/div[1]/nav/nav/a[6]\")\n",
    "job"
   ]
  },
  {
   "cell_type": "code",
   "execution_count": 47,
   "id": "64f5e8b5",
   "metadata": {},
   "outputs": [],
   "source": [
    "job.click()"
   ]
  },
  {
   "cell_type": "code",
   "execution_count": 48,
   "id": "6749e4bb",
   "metadata": {},
   "outputs": [],
   "source": [
    "#lets Search by Designations, Companies, Skills- data scientist \n",
    "search=driver.find_element_by_xpath('/html/body/div/div/div/div[2]/div[1]/div/div/div/div/span/input')\n"
   ]
  },
  {
   "cell_type": "code",
   "execution_count": 49,
   "id": "6c5ad395",
   "metadata": {},
   "outputs": [],
   "source": [
    "search.send_keys('Data Scientist')"
   ]
  },
  {
   "cell_type": "code",
   "execution_count": 55,
   "id": "2db15f3e",
   "metadata": {},
   "outputs": [
    {
     "data": {
      "text/plain": [
       "<selenium.webdriver.remote.webelement.WebElement (session=\"d4ac6fa245d7026974a6741a06013422\", element=\"98997e76-53b8-4d9a-bf96-52ab7c3bd517\")>"
      ]
     },
     "execution_count": 55,
     "metadata": {},
     "output_type": "execute_result"
    }
   ],
   "source": [
    "searchbtn=driver.find_element_by_xpath('/html/body/div/div/div/div[2]/div[1]/div/div/div/button/span')\n",
    "searchbtn"
   ]
  },
  {
   "cell_type": "code",
   "execution_count": 56,
   "id": "a1273c82",
   "metadata": {},
   "outputs": [],
   "source": [
    "searchbtn.click()"
   ]
  },
  {
   "cell_type": "code",
   "execution_count": 57,
   "id": "609c1466",
   "metadata": {},
   "outputs": [],
   "source": [
    "loc= driver.find_element_by_xpath('/html/body/div/div/div/div[2]/div[2]/div[1]/div/div/div/div[2]/div[1]/p')\n"
   ]
  },
  {
   "cell_type": "code",
   "execution_count": 58,
   "id": "470d2bab",
   "metadata": {},
   "outputs": [],
   "source": [
    "loc.click()"
   ]
  },
  {
   "cell_type": "code",
   "execution_count": 59,
   "id": "955d90bb",
   "metadata": {},
   "outputs": [],
   "source": [
    "loc_search=driver.find_element_by_xpath('/html/body/div/div/div/div[2]/div[2]/div[1]/div/div/div/div[2]/div[2]/div/div[2]/input')"
   ]
  },
  {
   "cell_type": "code",
   "execution_count": 60,
   "id": "f2f82085",
   "metadata": {},
   "outputs": [],
   "source": [
    "loc_search.send_keys('Noida')"
   ]
  },
  {
   "cell_type": "code",
   "execution_count": 61,
   "id": "d02e057e",
   "metadata": {},
   "outputs": [],
   "source": [
    "noida=driver.find_element_by_xpath('/html/body/div/div/div/div[2]/div[2]/div[1]/div/div/div/div[2]/div[2]/div/div[3]/div[1]/div[1]/div/label')"
   ]
  },
  {
   "cell_type": "code",
   "execution_count": 62,
   "id": "7f16a15f",
   "metadata": {},
   "outputs": [],
   "source": [
    "noida.click()"
   ]
  },
  {
   "cell_type": "code",
   "execution_count": 63,
   "id": "bc1a3c81",
   "metadata": {},
   "outputs": [
    {
     "data": {
      "text/plain": [
       "10"
      ]
     },
     "execution_count": 63,
     "metadata": {},
     "output_type": "execute_result"
    }
   ],
   "source": [
    "job10= driver.find_elements_by_xpath('//a[@class=\"title noclick\"]')\n",
    "len(job10)"
   ]
  },
  {
   "cell_type": "code",
   "execution_count": 65,
   "id": "b21d48d2",
   "metadata": {},
   "outputs": [
    {
     "data": {
      "text/plain": [
       "['Data Scientist',\n",
       " 'Urgent Requirement || Data Scientist || Noida',\n",
       " 'EY GDS - Assistant Director - Data Science - AI/ML (15-20 yrs)',\n",
       " 'Opportunity | Tavant India',\n",
       " 'Looking For Senior Data Scientist For Denave',\n",
       " 'Lead Assistant Manager',\n",
       " 'CogniTensor - Data Scientist (1-2 yrs)',\n",
       " 'Data Scientist | Data Engineer | Machine Learning',\n",
       " 'Data Scientist - Machine Learning (5-14 yrs)',\n",
       " 'Manager Data Scientist']"
      ]
     },
     "execution_count": 65,
     "metadata": {},
     "output_type": "execute_result"
    }
   ],
   "source": [
    "joblist= []\n",
    "for i in job10:\n",
    "    joblist.append(i.text)\n",
    "joblist"
   ]
  },
  {
   "cell_type": "code",
   "execution_count": 66,
   "id": "bca355de",
   "metadata": {},
   "outputs": [],
   "source": [
    "job_data =pd.DataFrame({'job':joblist})"
   ]
  },
  {
   "cell_type": "code",
   "execution_count": 67,
   "id": "9053dd50",
   "metadata": {},
   "outputs": [
    {
     "data": {
      "text/html": [
       "<div>\n",
       "<style scoped>\n",
       "    .dataframe tbody tr th:only-of-type {\n",
       "        vertical-align: middle;\n",
       "    }\n",
       "\n",
       "    .dataframe tbody tr th {\n",
       "        vertical-align: top;\n",
       "    }\n",
       "\n",
       "    .dataframe thead th {\n",
       "        text-align: right;\n",
       "    }\n",
       "</style>\n",
       "<table border=\"1\" class=\"dataframe\">\n",
       "  <thead>\n",
       "    <tr style=\"text-align: right;\">\n",
       "      <th></th>\n",
       "      <th>job</th>\n",
       "    </tr>\n",
       "  </thead>\n",
       "  <tbody>\n",
       "    <tr>\n",
       "      <th>0</th>\n",
       "      <td>Data Scientist</td>\n",
       "    </tr>\n",
       "    <tr>\n",
       "      <th>1</th>\n",
       "      <td>Urgent Requirement || Data Scientist || Noida</td>\n",
       "    </tr>\n",
       "    <tr>\n",
       "      <th>2</th>\n",
       "      <td>EY GDS - Assistant Director - Data Science - A...</td>\n",
       "    </tr>\n",
       "    <tr>\n",
       "      <th>3</th>\n",
       "      <td>Opportunity | Tavant India</td>\n",
       "    </tr>\n",
       "    <tr>\n",
       "      <th>4</th>\n",
       "      <td>Looking For Senior Data Scientist For Denave</td>\n",
       "    </tr>\n",
       "    <tr>\n",
       "      <th>5</th>\n",
       "      <td>Lead Assistant Manager</td>\n",
       "    </tr>\n",
       "    <tr>\n",
       "      <th>6</th>\n",
       "      <td>CogniTensor - Data Scientist (1-2 yrs)</td>\n",
       "    </tr>\n",
       "    <tr>\n",
       "      <th>7</th>\n",
       "      <td>Data Scientist | Data Engineer | Machine Learning</td>\n",
       "    </tr>\n",
       "    <tr>\n",
       "      <th>8</th>\n",
       "      <td>Data Scientist - Machine Learning (5-14 yrs)</td>\n",
       "    </tr>\n",
       "    <tr>\n",
       "      <th>9</th>\n",
       "      <td>Manager Data Scientist</td>\n",
       "    </tr>\n",
       "  </tbody>\n",
       "</table>\n",
       "</div>"
      ],
      "text/plain": [
       "                                                 job\n",
       "0                                     Data Scientist\n",
       "1      Urgent Requirement || Data Scientist || Noida\n",
       "2  EY GDS - Assistant Director - Data Science - A...\n",
       "3                         Opportunity | Tavant India\n",
       "4       Looking For Senior Data Scientist For Denave\n",
       "5                             Lead Assistant Manager\n",
       "6             CogniTensor - Data Scientist (1-2 yrs)\n",
       "7  Data Scientist | Data Engineer | Machine Learning\n",
       "8       Data Scientist - Machine Learning (5-14 yrs)\n",
       "9                             Manager Data Scientist"
      ]
     },
     "execution_count": 67,
     "metadata": {},
     "output_type": "execute_result"
    }
   ],
   "source": [
    "job_data"
   ]
  },
  {
   "cell_type": "markdown",
   "id": "99d79fc0",
   "metadata": {},
   "source": [
    "# 10: Write a python program to scrape the salary data for Data Scientist designation."
   ]
  },
  {
   "cell_type": "code",
   "execution_count": 70,
   "id": "64e8da3f",
   "metadata": {},
   "outputs": [],
   "source": [
    "driver.get('https://www.ambitionbox.com/')"
   ]
  },
  {
   "cell_type": "code",
   "execution_count": 71,
   "id": "681ea83a",
   "metadata": {},
   "outputs": [],
   "source": [
    "sal=driver.find_element_by_xpath('/html/body/div[1]/nav/nav/a[4]')\n"
   ]
  },
  {
   "cell_type": "code",
   "execution_count": 72,
   "id": "6737ed2a",
   "metadata": {},
   "outputs": [],
   "source": [
    "sal.click()"
   ]
  },
  {
   "cell_type": "code",
   "execution_count": 73,
   "id": "c9516b23",
   "metadata": {},
   "outputs": [],
   "source": [
    "search= driver.find_element_by_xpath('/html/body/div/div/div/main/section[1]/div[2]/div[1]/span/input')"
   ]
  },
  {
   "cell_type": "code",
   "execution_count": 74,
   "id": "a502bd89",
   "metadata": {},
   "outputs": [],
   "source": [
    "search.send_keys('Data Scientist')"
   ]
  },
  {
   "cell_type": "code",
   "execution_count": 75,
   "id": "cbb3de29",
   "metadata": {},
   "outputs": [],
   "source": [
    "comp = driver.find_elements_by_xpath('//div[@class=\"name\"]')\n"
   ]
  },
  {
   "cell_type": "code",
   "execution_count": null,
   "id": "06cfef83",
   "metadata": {},
   "outputs": [],
   "source": []
  }
 ],
 "metadata": {
  "kernelspec": {
   "display_name": "Python 3",
   "language": "python",
   "name": "python3"
  },
  "language_info": {
   "codemirror_mode": {
    "name": "ipython",
    "version": 3
   },
   "file_extension": ".py",
   "mimetype": "text/x-python",
   "name": "python",
   "nbconvert_exporter": "python",
   "pygments_lexer": "ipython3",
   "version": "3.8.8"
  }
 },
 "nbformat": 4,
 "nbformat_minor": 5
}
