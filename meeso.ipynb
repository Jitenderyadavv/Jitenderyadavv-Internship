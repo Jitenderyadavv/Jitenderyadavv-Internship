{
 "cells": [
  {
   "cell_type": "code",
   "execution_count": 2,
   "id": "cef70a67",
   "metadata": {},
   "outputs": [],
   "source": [
    "import requests\n",
    "from bs4 import BeautifulSoup"
   ]
  },
  {
   "cell_type": "code",
   "execution_count": 3,
   "id": "2c6c2fdc",
   "metadata": {},
   "outputs": [],
   "source": [
    "page = requests.get(\"https://meesho.com/bags-ladies/pl/p7vbp\")"
   ]
  },
  {
   "cell_type": "code",
   "execution_count": 4,
   "id": "b63ebae8",
   "metadata": {},
   "outputs": [
    {
     "data": {
      "text/plain": [
       "<Response [200]>"
      ]
     },
     "execution_count": 4,
     "metadata": {},
     "output_type": "execute_result"
    }
   ],
   "source": [
    "page"
   ]
  },
  {
   "cell_type": "code",
   "execution_count": 5,
   "id": "94551346",
   "metadata": {},
   "outputs": [],
   "source": [
    "bs = BeautifulSoup(page.content)"
   ]
  },
  {
   "cell_type": "code",
   "execution_count": 6,
   "id": "c138c068",
   "metadata": {},
   "outputs": [],
   "source": [
    "name =[]\n",
    "for i in bs.find_all('p',class_=\"Text__StyledText-sc-oo0kvp-0 bWSOET NewProductCard__ProductTitle_Desktop-sc-j0e7tu-4 cQhePS NewProductCard__ProductTitle_Desktop-sc-j0e7tu-4 cQhePS\"):\n",
    "    name.append(i.text)"
   ]
  },
  {
   "cell_type": "code",
   "execution_count": 7,
   "id": "58a98bdb",
   "metadata": {},
   "outputs": [
    {
     "data": {
      "text/plain": [
       "['Elegant Fashionable Women Handbags',\n",
       " 'Gorgeous Attractive Women Handbags',\n",
       " 'Classic Fancy Women Handbags',\n",
       " 'Classic Versatile Women Handbags',\n",
       " 'Gorgeous Versatile Women Handbags',\n",
       " 'Trendy Fancy Women Handbags',\n",
       " 'Voguish Classy Women Handbags',\n",
       " 'Elegant Versatile Women Handbags',\n",
       " 'Ravishing Stylish Women Handbags',\n",
       " 'Ravishing Alluring Women Handbags',\n",
       " 'Classic Versatile Women Handbags',\n",
       " 'Elegant Women Handbags',\n",
       " 'Elite Fashionable Women Handbags',\n",
       " 'Voguish Fancy Women Handbags',\n",
       " 'Classic Stylish Women Handbags',\n",
       " 'Elite Versatile Women Handbags',\n",
       " 'Elegant Attractive Women Handbags',\n",
       " 'Classic Versatile Women Handbags',\n",
       " 'Elite Fancy Women Handbags',\n",
       " 'Trendy Fashionable Women Handbags']"
      ]
     },
     "execution_count": 7,
     "metadata": {},
     "output_type": "execute_result"
    }
   ],
   "source": [
    "name"
   ]
  },
  {
   "cell_type": "code",
   "execution_count": 9,
   "id": "d7521bce",
   "metadata": {},
   "outputs": [
    {
     "data": {
      "text/plain": [
       "['192',\n",
       " '342',\n",
       " '207',\n",
       " '384',\n",
       " '234',\n",
       " '464',\n",
       " '187',\n",
       " '239',\n",
       " '227',\n",
       " '282',\n",
       " '214',\n",
       " '171',\n",
       " '233',\n",
       " '137',\n",
       " '274',\n",
       " '234',\n",
       " '200',\n",
       " '206',\n",
       " '232',\n",
       " '210']"
      ]
     },
     "execution_count": 9,
     "metadata": {},
     "output_type": "execute_result"
    }
   ],
   "source": [
    "price = []\n",
    "for p in bs.find_all('h5'):\n",
    "    price.append(p.text.replace('₹',''))\n",
    "price"
   ]
  },
  {
   "cell_type": "code",
   "execution_count": 13,
   "id": "53d4f42a",
   "metadata": {},
   "outputs": [
    {
     "data": {
      "text/plain": [
       "['82 ',\n",
       " '100 ',\n",
       " '88 ',\n",
       " '100 ',\n",
       " '100 ',\n",
       " '100 ',\n",
       " '79 ',\n",
       " '100 ',\n",
       " '96 ',\n",
       " '100 ',\n",
       " '91 ',\n",
       " '72 ',\n",
       " '99 ',\n",
       " '58 ',\n",
       " '100 ',\n",
       " '100 ',\n",
       " '85 ',\n",
       " '87 ',\n",
       " '99 ',\n",
       " '90 ']"
      ]
     },
     "execution_count": 13,
     "metadata": {},
     "output_type": "execute_result"
    }
   ],
   "source": [
    "discount = []\n",
    "for d in bs.find_all('p',class_=\"Text__StyledText-sc-oo0kvp-0 fCJVtz NewProductCard__DiscountTextParagraph-sc-j0e7tu-16 kmYsnm NewProductCard__DiscountTextParagraph-sc-j0e7tu-16 kmYsnm\"):\n",
    "    discount.append(d.text.replace('discount on 1st order','').replace('₹',''))\n",
    "discount"
   ]
  },
  {
   "cell_type": "code",
   "execution_count": 14,
   "id": "07649e91",
   "metadata": {},
   "outputs": [],
   "source": [
    "import pandas as pd \n"
   ]
  },
  {
   "cell_type": "code",
   "execution_count": 17,
   "id": "b13d4403",
   "metadata": {},
   "outputs": [],
   "source": [
    "df = pd.DataFrame({'Product name':name,'Price':price,'Discount': discount})"
   ]
  },
  {
   "cell_type": "code",
   "execution_count": 18,
   "id": "27bab391",
   "metadata": {},
   "outputs": [
    {
     "data": {
      "text/html": [
       "<div>\n",
       "<style scoped>\n",
       "    .dataframe tbody tr th:only-of-type {\n",
       "        vertical-align: middle;\n",
       "    }\n",
       "\n",
       "    .dataframe tbody tr th {\n",
       "        vertical-align: top;\n",
       "    }\n",
       "\n",
       "    .dataframe thead th {\n",
       "        text-align: right;\n",
       "    }\n",
       "</style>\n",
       "<table border=\"1\" class=\"dataframe\">\n",
       "  <thead>\n",
       "    <tr style=\"text-align: right;\">\n",
       "      <th></th>\n",
       "      <th>Product name</th>\n",
       "      <th>Price</th>\n",
       "      <th>Discount</th>\n",
       "    </tr>\n",
       "  </thead>\n",
       "  <tbody>\n",
       "    <tr>\n",
       "      <th>0</th>\n",
       "      <td>Elegant Fashionable Women Handbags</td>\n",
       "      <td>192</td>\n",
       "      <td>82</td>\n",
       "    </tr>\n",
       "    <tr>\n",
       "      <th>1</th>\n",
       "      <td>Gorgeous Attractive Women Handbags</td>\n",
       "      <td>342</td>\n",
       "      <td>100</td>\n",
       "    </tr>\n",
       "    <tr>\n",
       "      <th>2</th>\n",
       "      <td>Classic Fancy Women Handbags</td>\n",
       "      <td>207</td>\n",
       "      <td>88</td>\n",
       "    </tr>\n",
       "    <tr>\n",
       "      <th>3</th>\n",
       "      <td>Classic Versatile Women Handbags</td>\n",
       "      <td>384</td>\n",
       "      <td>100</td>\n",
       "    </tr>\n",
       "    <tr>\n",
       "      <th>4</th>\n",
       "      <td>Gorgeous Versatile Women Handbags</td>\n",
       "      <td>234</td>\n",
       "      <td>100</td>\n",
       "    </tr>\n",
       "    <tr>\n",
       "      <th>5</th>\n",
       "      <td>Trendy Fancy Women Handbags</td>\n",
       "      <td>464</td>\n",
       "      <td>100</td>\n",
       "    </tr>\n",
       "    <tr>\n",
       "      <th>6</th>\n",
       "      <td>Voguish Classy Women Handbags</td>\n",
       "      <td>187</td>\n",
       "      <td>79</td>\n",
       "    </tr>\n",
       "    <tr>\n",
       "      <th>7</th>\n",
       "      <td>Elegant Versatile Women Handbags</td>\n",
       "      <td>239</td>\n",
       "      <td>100</td>\n",
       "    </tr>\n",
       "    <tr>\n",
       "      <th>8</th>\n",
       "      <td>Ravishing Stylish Women Handbags</td>\n",
       "      <td>227</td>\n",
       "      <td>96</td>\n",
       "    </tr>\n",
       "    <tr>\n",
       "      <th>9</th>\n",
       "      <td>Ravishing Alluring Women Handbags</td>\n",
       "      <td>282</td>\n",
       "      <td>100</td>\n",
       "    </tr>\n",
       "    <tr>\n",
       "      <th>10</th>\n",
       "      <td>Classic Versatile Women Handbags</td>\n",
       "      <td>214</td>\n",
       "      <td>91</td>\n",
       "    </tr>\n",
       "    <tr>\n",
       "      <th>11</th>\n",
       "      <td>Elegant Women Handbags</td>\n",
       "      <td>171</td>\n",
       "      <td>72</td>\n",
       "    </tr>\n",
       "    <tr>\n",
       "      <th>12</th>\n",
       "      <td>Elite Fashionable Women Handbags</td>\n",
       "      <td>233</td>\n",
       "      <td>99</td>\n",
       "    </tr>\n",
       "    <tr>\n",
       "      <th>13</th>\n",
       "      <td>Voguish Fancy Women Handbags</td>\n",
       "      <td>137</td>\n",
       "      <td>58</td>\n",
       "    </tr>\n",
       "    <tr>\n",
       "      <th>14</th>\n",
       "      <td>Classic Stylish Women Handbags</td>\n",
       "      <td>274</td>\n",
       "      <td>100</td>\n",
       "    </tr>\n",
       "    <tr>\n",
       "      <th>15</th>\n",
       "      <td>Elite Versatile Women Handbags</td>\n",
       "      <td>234</td>\n",
       "      <td>100</td>\n",
       "    </tr>\n",
       "    <tr>\n",
       "      <th>16</th>\n",
       "      <td>Elegant Attractive Women Handbags</td>\n",
       "      <td>200</td>\n",
       "      <td>85</td>\n",
       "    </tr>\n",
       "    <tr>\n",
       "      <th>17</th>\n",
       "      <td>Classic Versatile Women Handbags</td>\n",
       "      <td>206</td>\n",
       "      <td>87</td>\n",
       "    </tr>\n",
       "    <tr>\n",
       "      <th>18</th>\n",
       "      <td>Elite Fancy Women Handbags</td>\n",
       "      <td>232</td>\n",
       "      <td>99</td>\n",
       "    </tr>\n",
       "    <tr>\n",
       "      <th>19</th>\n",
       "      <td>Trendy Fashionable Women Handbags</td>\n",
       "      <td>210</td>\n",
       "      <td>90</td>\n",
       "    </tr>\n",
       "  </tbody>\n",
       "</table>\n",
       "</div>"
      ],
      "text/plain": [
       "                          Product name Price Discount\n",
       "0   Elegant Fashionable Women Handbags   192      82 \n",
       "1   Gorgeous Attractive Women Handbags   342     100 \n",
       "2         Classic Fancy Women Handbags   207      88 \n",
       "3     Classic Versatile Women Handbags   384     100 \n",
       "4    Gorgeous Versatile Women Handbags   234     100 \n",
       "5          Trendy Fancy Women Handbags   464     100 \n",
       "6        Voguish Classy Women Handbags   187      79 \n",
       "7     Elegant Versatile Women Handbags   239     100 \n",
       "8     Ravishing Stylish Women Handbags   227      96 \n",
       "9    Ravishing Alluring Women Handbags   282     100 \n",
       "10    Classic Versatile Women Handbags   214      91 \n",
       "11              Elegant Women Handbags   171      72 \n",
       "12    Elite Fashionable Women Handbags   233      99 \n",
       "13        Voguish Fancy Women Handbags   137      58 \n",
       "14      Classic Stylish Women Handbags   274     100 \n",
       "15      Elite Versatile Women Handbags   234     100 \n",
       "16   Elegant Attractive Women Handbags   200      85 \n",
       "17    Classic Versatile Women Handbags   206      87 \n",
       "18          Elite Fancy Women Handbags   232      99 \n",
       "19   Trendy Fashionable Women Handbags   210      90 "
      ]
     },
     "execution_count": 18,
     "metadata": {},
     "output_type": "execute_result"
    }
   ],
   "source": [
    "df"
   ]
  },
  {
   "cell_type": "code",
   "execution_count": null,
   "id": "08f2365d",
   "metadata": {},
   "outputs": [],
   "source": []
  }
 ],
 "metadata": {
  "kernelspec": {
   "display_name": "Python 3",
   "language": "python",
   "name": "python3"
  },
  "language_info": {
   "codemirror_mode": {
    "name": "ipython",
    "version": 3
   },
   "file_extension": ".py",
   "mimetype": "text/x-python",
   "name": "python",
   "nbconvert_exporter": "python",
   "pygments_lexer": "ipython3",
   "version": "3.8.8"
  }
 },
 "nbformat": 4,
 "nbformat_minor": 5
}
