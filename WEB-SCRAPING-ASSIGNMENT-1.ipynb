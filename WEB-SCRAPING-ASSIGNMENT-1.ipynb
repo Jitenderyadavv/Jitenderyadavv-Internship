{
 "cells": [
  {
   "cell_type": "code",
   "execution_count": 1,
   "id": "2e8dd715",
   "metadata": {},
   "outputs": [],
   "source": [
    "import requests\n",
    "from bs4 import BeautifulSoup\n"
   ]
  },
  {
   "cell_type": "markdown",
   "id": "d359ea79",
   "metadata": {},
   "source": [
    "## All the header tags from wikipedia.org."
   ]
  },
  {
   "cell_type": "code",
   "execution_count": 2,
   "id": "945b39fb",
   "metadata": {},
   "outputs": [
    {
     "data": {
      "text/plain": [
       "<Response [200]>"
      ]
     },
     "execution_count": 2,
     "metadata": {},
     "output_type": "execute_result"
    }
   ],
   "source": [
    "wiki_url =requests.get(\"https://en.wikipedia.org/wiki/Main_Page\")\n",
    "wiki_url"
   ]
  },
  {
   "cell_type": "code",
   "execution_count": 3,
   "id": "b92c0eb8",
   "metadata": {},
   "outputs": [],
   "source": [
    "wiki = BeautifulSoup(wiki_url.content)"
   ]
  },
  {
   "cell_type": "code",
   "execution_count": 11,
   "id": "188aa4ce",
   "metadata": {},
   "outputs": [
    {
     "data": {
      "text/plain": [
       "['Main Page',\n",
       " 'Welcome to Wikipedia',\n",
       " \"From today's featured article\",\n",
       " 'Did you know\\xa0...',\n",
       " 'In the news',\n",
       " 'On this day',\n",
       " \"Today's featured picture\",\n",
       " 'Other areas of Wikipedia',\n",
       " \"Wikipedia's sister projects\",\n",
       " 'Wikipedia languages',\n",
       " 'Navigation menu',\n",
       " '\\nPersonal tools\\n',\n",
       " '\\nNamespaces\\n',\n",
       " '\\nVariants\\nexpanded\\ncollapsed\\n',\n",
       " '\\nViews\\n',\n",
       " '\\nMore\\nexpanded\\ncollapsed\\n',\n",
       " '\\nSearch\\n',\n",
       " '\\nNavigation\\n',\n",
       " '\\nContribute\\n',\n",
       " '\\nTools\\n',\n",
       " '\\nPrint/export\\n',\n",
       " '\\nIn other projects\\n',\n",
       " '\\nLanguages\\n']"
      ]
     },
     "execution_count": 11,
     "metadata": {},
     "output_type": "execute_result"
    }
   ],
   "source": [
    "header = []\n",
    "for i in wiki.find_all(['h1','h2','h3','h5','h6']):\n",
    "    header.append(i.text)\n",
    "header"
   ]
  },
  {
   "cell_type": "markdown",
   "id": "b8760ba2",
   "metadata": {},
   "source": [
    "## IMDB’s Top rated 100 movies’ data"
   ]
  },
  {
   "cell_type": "code",
   "execution_count": 12,
   "id": "e5db60e2",
   "metadata": {},
   "outputs": [
    {
     "data": {
      "text/plain": [
       "<Response [200]>"
      ]
     },
     "execution_count": 12,
     "metadata": {},
     "output_type": "execute_result"
    }
   ],
   "source": [
    "Top_50 = requests.get('https://www.imdb.com/search/title/?groups=top_100&sort=user_rating,desc')\n",
    "Top_next50 =requests.get('https://www.imdb.com/search/title/?groups=top_100&sort=user_rating,desc&start=51&ref_=adv_nxt')\n",
    "\n",
    "Top_next50\n",
    "Top_50"
   ]
  },
  {
   "cell_type": "code",
   "execution_count": 13,
   "id": "ffb351e2",
   "metadata": {},
   "outputs": [],
   "source": [
    "Soup = BeautifulSoup(Top_50.content)\n",
    "Soup1 =BeautifulSoup(Top_next50.content)"
   ]
  },
  {
   "cell_type": "code",
   "execution_count": 14,
   "id": "e1bf5a2f",
   "metadata": {},
   "outputs": [
    {
     "data": {
      "text/plain": [
       "['\\n1.\\nThe Shawshank Redemption\\n(1994)\\n',\n",
       " '\\n2.\\nThe Godfather\\n(1972)\\n',\n",
       " '\\n3.\\nThe Dark Knight\\n(2008)\\n',\n",
       " '\\n4.\\nThe Godfather: Part II\\n(1974)\\n',\n",
       " '\\n5.\\n12 Angry Men\\n(1957)\\n',\n",
       " '\\n6.\\nThe Lord of the Rings: The Return of the King\\n(2003)\\n',\n",
       " '\\n7.\\nPulp Fiction\\n(1994)\\n',\n",
       " \"\\n8.\\nSchindler's List\\n(1993)\\n\",\n",
       " '\\n9.\\nInception\\n(2010)\\n',\n",
       " '\\n10.\\nFight Club\\n(1999)\\n',\n",
       " '\\n11.\\nThe Lord of the Rings: The Fellowship of the Ring\\n(2001)\\n',\n",
       " '\\n12.\\nForrest Gump\\n(1994)\\n',\n",
       " '\\n13.\\nIl buono, il brutto, il cattivo\\n(1966)\\n',\n",
       " '\\n14.\\nSpider-Man: No Way Home\\n(2021)\\n',\n",
       " '\\n15.\\nThe Lord of the Rings: The Two Towers\\n(2002)\\n',\n",
       " '\\n16.\\nThe Matrix\\n(1999)\\n',\n",
       " '\\n17.\\nGoodfellas\\n(1990)\\n',\n",
       " '\\n18.\\nStar Wars: Episode V - The Empire Strikes Back\\n(1980)\\n',\n",
       " \"\\n19.\\nOne Flew Over the Cuckoo's Nest\\n(1975)\\n\",\n",
       " '\\n20.\\nGisaengchung\\n(2019)\\n',\n",
       " '\\n21.\\nInterstellar\\n(2014)\\n',\n",
       " '\\n22.\\nCidade de Deus\\n(2002)\\n',\n",
       " '\\n23.\\nSen to Chihiro no kamikakushi\\n(2001)\\n',\n",
       " '\\n24.\\nSaving Private Ryan\\n(1998)\\n',\n",
       " '\\n25.\\nThe Green Mile\\n(1999)\\n',\n",
       " '\\n26.\\nLa vita è bella\\n(1997)\\n',\n",
       " '\\n27.\\nSe7en\\n(1995)\\n',\n",
       " '\\n28.\\nThe Silence of the Lambs\\n(1991)\\n',\n",
       " '\\n29.\\nStar Wars\\n(1977)\\n',\n",
       " '\\n30.\\nSeppuku\\n(1962)\\n',\n",
       " '\\n31.\\nShichinin no samurai\\n(1954)\\n',\n",
       " \"\\n32.\\nIt's a Wonderful Life\\n(1946)\\n\",\n",
       " '\\n33.\\nWhiplash\\n(2014)\\n',\n",
       " '\\n34.\\nThe Intouchables\\n(2011)\\n',\n",
       " '\\n35.\\nThe Prestige\\n(2006)\\n',\n",
       " '\\n36.\\nThe Departed\\n(2006)\\n',\n",
       " '\\n37.\\nThe Pianist\\n(2002)\\n',\n",
       " '\\n38.\\nGladiator\\n(2000)\\n',\n",
       " '\\n39.\\nAmerican History X\\n(1998)\\n',\n",
       " '\\n40.\\nThe Usual Suspects\\n(1995)\\n',\n",
       " '\\n41.\\nLéon\\n(1994)\\n',\n",
       " '\\n42.\\nThe Lion King\\n(1994)\\n',\n",
       " '\\n43.\\nTerminator 2: Judgment Day\\n(1991)\\n',\n",
       " '\\n44.\\nNuovo Cinema Paradiso\\n(1988)\\n',\n",
       " '\\n45.\\nHotaru no haka\\n(1988)\\n',\n",
       " '\\n46.\\nBack to the Future\\n(1985)\\n',\n",
       " '\\n47.\\nOnce Upon a Time in the West\\n(1968)\\n',\n",
       " '\\n48.\\nPsycho\\n(1960)\\n',\n",
       " '\\n49.\\nRear Window\\n(1954)\\n',\n",
       " '\\n50.\\nCasablanca\\n(1942)\\n',\n",
       " 'Recently Viewed',\n",
       " '\\n51.\\nModern Times\\n(1936)\\n',\n",
       " '\\n52.\\nCity Lights\\n(1931)\\n',\n",
       " '\\n53.\\nHamilton\\n(2020)\\n',\n",
       " '\\n54.\\nCapharnaüm\\n(2018)\\n',\n",
       " '\\n55.\\nJoker\\n(I) (2019)\\n',\n",
       " '\\n56.\\nKimi no na wa.\\n(2016)\\n',\n",
       " '\\n57.\\nSpider-Man: Into the Spider-Verse\\n(2018)\\n',\n",
       " '\\n58.\\nAvengers: Endgame\\n(2019)\\n',\n",
       " '\\n59.\\nAvengers: Infinity War\\n(2018)\\n',\n",
       " '\\n60.\\nCoco\\n(I) (2017)\\n',\n",
       " '\\n61.\\nDjango Unchained\\n(2012)\\n',\n",
       " '\\n62.\\nThe Dark Knight Rises\\n(2012)\\n',\n",
       " '\\n63.\\n3 Idiots\\n(2009)\\n',\n",
       " '\\n64.\\nTaare Zameen Par\\n(2007)\\n',\n",
       " '\\n65.\\nWALL·E\\n(2008)\\n',\n",
       " '\\n66.\\nThe Lives of Others\\n(2006)\\n',\n",
       " '\\n67.\\nOldeuboi\\n(2003)\\n',\n",
       " '\\n68.\\nMemento\\n(2000)\\n',\n",
       " '\\n69.\\nMononoke-hime\\n(1997)\\n',\n",
       " '\\n70.\\nRaiders of the Lost Ark\\n(1981)\\n',\n",
       " '\\n71.\\nThe Shining\\n(1980)\\n',\n",
       " '\\n72.\\nApocalypse Now\\n(1979)\\n',\n",
       " '\\n73.\\nAlien\\n(1979)\\n',\n",
       " '\\n74.\\nTengoku to jigoku\\n(1963)\\n',\n",
       " '\\n75.\\nDr. Strangelove or: How I Learned to Stop Worrying and Love the Bomb\\n(1964)\\n',\n",
       " '\\n76.\\nWitness for the Prosecution\\n(1957)\\n',\n",
       " '\\n77.\\nPaths of Glory\\n(1957)\\n',\n",
       " '\\n78.\\nSunset Blvd.\\n(1950)\\n',\n",
       " '\\n79.\\nThe Great Dictator\\n(1940)\\n',\n",
       " '\\n80.\\nJagten\\n(2012)\\n',\n",
       " '\\n81.\\nInglourious Basterds\\n(2009)\\n',\n",
       " '\\n82.\\nRequiem for a Dream\\n(2000)\\n',\n",
       " '\\n83.\\nAmerican Beauty\\n(1999)\\n',\n",
       " '\\n84.\\nGood Will Hunting\\n(1997)\\n',\n",
       " '\\n85.\\nToy Story\\n(1995)\\n',\n",
       " '\\n86.\\nBraveheart\\n(1995)\\n',\n",
       " '\\n87.\\nReservoir Dogs\\n(1992)\\n',\n",
       " '\\n88.\\nIdi i smotri\\n(1985)\\n',\n",
       " '\\n89.\\nAliens\\n(1986)\\n',\n",
       " '\\n90.\\nOnce Upon a Time in America\\n(1984)\\n',\n",
       " '\\n91.\\nAmadeus\\n(1984)\\n',\n",
       " '\\n92.\\nStar Wars: Episode VI - Return of the Jedi\\n(1983)\\n',\n",
       " '\\n93.\\nDas Boot\\n(1981)\\n',\n",
       " '\\n94.\\n2001: A Space Odyssey\\n(1968)\\n',\n",
       " '\\n95.\\nNorth by Northwest\\n(1959)\\n',\n",
       " '\\n96.\\nVertigo\\n(1958)\\n',\n",
       " \"\\n97.\\nSingin' in the Rain\\n(1952)\\n\",\n",
       " '\\n98.\\nIkiru\\n(1952)\\n',\n",
       " '\\n99.\\nCitizen Kane\\n(1941)\\n',\n",
       " '\\n100.\\nM - Eine Stadt sucht einen Mörder\\n(1931)\\n',\n",
       " 'Recently Viewed']"
      ]
     },
     "execution_count": 14,
     "metadata": {},
     "output_type": "execute_result"
    }
   ],
   "source": [
    "name = []\n",
    "for i in Soup.find_all('h3'):\n",
    "    name.append(i.text)\n",
    "for i in Soup1.find_all('h3'):\n",
    "    name.append(i.text)\n",
    "name"
   ]
  },
  {
   "cell_type": "markdown",
   "id": "7ca37a42",
   "metadata": {},
   "source": [
    "## product name, price and discounts\n"
   ]
  },
  {
   "cell_type": "code",
   "execution_count": 16,
   "id": "abf14c77",
   "metadata": {},
   "outputs": [
    {
     "data": {
      "text/plain": [
       "<Response [200]>"
      ]
     },
     "execution_count": 16,
     "metadata": {},
     "output_type": "execute_result"
    }
   ],
   "source": [
    "req_meso = requests.get('https://meesho.com/bags-ladies/pl/p7vbp')\n",
    "req_meso"
   ]
  },
  {
   "cell_type": "code",
   "execution_count": 17,
   "id": "fe8af0a5",
   "metadata": {},
   "outputs": [],
   "source": [
    "meso_soup = BeautifulSoup(req_meso.content)\n"
   ]
  },
  {
   "cell_type": "code",
   "execution_count": 18,
   "id": "ada62344",
   "metadata": {},
   "outputs": [
    {
     "data": {
      "text/plain": [
       "['Elegant Fashionable Women Handbags₹192₹27430% off₹82 discount on 1st orderFree Delivery4.0988 Reviews',\n",
       " 'Gorgeous Attractive Women Handbags₹342₹44223% off₹100 discount on 1st orderFree Delivery4.1868 Reviews',\n",
       " 'Classic Fancy Women Handbags₹207₹29530% off₹88 discount on 1st orderFree Delivery4.0890 Reviews',\n",
       " 'Classic Versatile Women Handbags₹384₹48421% off₹100 discount on 1st orderFree Delivery3.6961 Reviews',\n",
       " 'Gorgeous Versatile Women Handbags₹234₹33430% off₹100 discount on 1st orderFree Delivery4.0343 Reviews',\n",
       " 'Trendy Fancy Women Handbags₹464₹56418% off₹100 discount on 1st orderFree Delivery4.21104 Reviews',\n",
       " 'Voguish Classy Women Handbags₹187₹26630% off₹79 discount on 1st orderFree Delivery4.0217 Reviews',\n",
       " 'Elegant Versatile Women Handbags₹239₹33929% off₹100 discount on 1st orderFree Delivery4.0172 Reviews',\n",
       " 'Ravishing Stylish Women Handbags₹227₹32330% off₹96 discount on 1st orderFree Delivery4.0302 Reviews',\n",
       " 'Ravishing Alluring Women Handbags₹282₹38226% off₹100 discount on 1st orderFree Delivery3.6234 Reviews',\n",
       " 'Classic Versatile Women Handbags₹214₹30530% off₹91 discount on 1st orderFree Delivery4.0180 Reviews',\n",
       " 'Elegant Women Handbags₹171₹24330% off₹72 discount on 1st orderFree Delivery4.0135 Reviews',\n",
       " 'Elite Fashionable Women Handbags₹233₹33230% off₹99 discount on 1st orderFree Delivery3.9182 Reviews',\n",
       " 'Voguish Fancy Women Handbags₹137₹19530% off₹58 discount on 1st orderDelivery ₹853.9172 Reviews',\n",
       " 'Classic Stylish Women Handbags₹274₹37427% off₹100 discount on 1st orderFree Delivery4.1168 Reviews',\n",
       " 'Elite Versatile Women Handbags₹234₹33430% off₹100 discount on 1st orderFree Delivery3.9137 Reviews',\n",
       " 'Elegant Attractive Women Handbags₹200₹28530% off₹85 discount on 1st orderFree Delivery3.7122 Reviews',\n",
       " 'Classic Versatile Women Handbags₹206₹29330% off₹87 discount on 1st orderFree Delivery3.8173 Reviews',\n",
       " 'Elite Fancy Women Handbags₹232₹33130% off₹99 discount on 1st orderFree Delivery4.1143 Reviews',\n",
       " 'Trendy Fashionable Women Handbags₹210₹30030% off₹90 discount on 1st orderFree Delivery3.990 Reviews']"
      ]
     },
     "execution_count": 18,
     "metadata": {},
     "output_type": "execute_result"
    }
   ],
   "source": [
    "product =[]\n",
    "for i in meso_soup.find_all('div',class_=\"Card__BaseCard-sc-b3n78k-0 dUNFgg NewProductCard__DetailCard_Desktop-sc-j0e7tu-2 fqvaeS NewProductCard__DetailCard_Desktop-sc-j0e7tu-2 fqvaeS\"):\n",
    "    product.append(i.text)\n",
    "product"
   ]
  },
  {
   "cell_type": "markdown",
   "id": "cd4dd556",
   "metadata": {},
   "source": [
    "## program to scrape cricket rankings\n"
   ]
  },
  {
   "cell_type": "raw",
   "id": "e82f0cf2",
   "metadata": {},
   "source": [
    "Top 10 ODI teams in men’s cricket"
   ]
  },
  {
   "cell_type": "code",
   "execution_count": 19,
   "id": "1e3123a4",
   "metadata": {},
   "outputs": [
    {
     "data": {
      "text/plain": [
       "<Response [200]>"
      ]
     },
     "execution_count": 19,
     "metadata": {},
     "output_type": "execute_result"
    }
   ],
   "source": [
    "top_team = requests.get('https://www.icc-cricket.com/rankings/mens/team-rankings/odi')\n",
    "top_team"
   ]
  },
  {
   "cell_type": "code",
   "execution_count": 20,
   "id": "efe74c8f",
   "metadata": {},
   "outputs": [
    {
     "data": {
      "text/plain": [
       "[['New Zealand'],\n",
       " ['England'],\n",
       " ['Australia'],\n",
       " ['India'],\n",
       " ['South Africa'],\n",
       " ['Pakistan'],\n",
       " ['Bangladesh'],\n",
       " ['West Indies'],\n",
       " ['Sri Lanka'],\n",
       " ['Afghanistan'],\n",
       " ['Netherlands'],\n",
       " ['Ireland'],\n",
       " ['Scotland'],\n",
       " ['Zimbabwe'],\n",
       " ['Oman'],\n",
       " ['Nepal'],\n",
       " ['UAE'],\n",
       " ['Namibia'],\n",
       " ['United States'],\n",
       " ['Papua New Guinea'],\n",
       " [],\n",
       " [],\n",
       " [],\n",
       " [],\n",
       " []]"
      ]
     },
     "execution_count": 20,
     "metadata": {},
     "output_type": "execute_result"
    }
   ],
   "source": [
    "soup_team =BeautifulSoup(top_team.content)\n",
    "top10 =[]\n",
    "for i in soup_team.find_all('span',class_ =\"u-hide-phablet\"):\n",
    "    top10.append(i.contents)\n",
    "top10"
   ]
  },
  {
   "cell_type": "raw",
   "id": "a61eb377",
   "metadata": {},
   "source": [
    "Top 10 ODI Batsmen"
   ]
  },
  {
   "cell_type": "code",
   "execution_count": 21,
   "id": "e50bfd4c",
   "metadata": {},
   "outputs": [
    {
     "data": {
      "text/plain": [
       "<Response [200]>"
      ]
     },
     "execution_count": 21,
     "metadata": {},
     "output_type": "execute_result"
    }
   ],
   "source": [
    "top_batm = requests.get('https://www.icc-cricket.com/rankings/mens/player-rankings/odi')\n",
    "top_batm"
   ]
  },
  {
   "cell_type": "markdown",
   "id": "dc768caf",
   "metadata": {},
   "source": []
  },
  {
   "cell_type": "code",
   "execution_count": 24,
   "id": "49289008",
   "metadata": {},
   "outputs": [
    {
     "data": {
      "text/plain": [
       "<Response [200]>"
      ]
     },
     "execution_count": 24,
     "metadata": {},
     "output_type": "execute_result"
    }
   ],
   "source": []
  },
  {
   "cell_type": "code",
   "execution_count": 26,
   "id": "734f8895",
   "metadata": {},
   "outputs": [],
   "source": []
  },
  {
   "cell_type": "code",
   "execution_count": null,
   "id": "77e14869",
   "metadata": {},
   "outputs": [],
   "source": []
  }
 ],
 "metadata": {
  "kernelspec": {
   "display_name": "Python 3",
   "language": "python",
   "name": "python3"
  },
  "language_info": {
   "codemirror_mode": {
    "name": "ipython",
    "version": 3
   },
   "file_extension": ".py",
   "mimetype": "text/x-python",
   "name": "python",
   "nbconvert_exporter": "python",
   "pygments_lexer": "ipython3",
   "version": "3.8.8"
  }
 },
 "nbformat": 4,
 "nbformat_minor": 5
}
